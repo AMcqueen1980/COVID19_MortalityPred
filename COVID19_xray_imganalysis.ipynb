{
 "cells": [
  {
   "cell_type": "markdown",
   "metadata": {},
   "source": [
    "# X-ray image loading and analysis\n",
    "\n",
    "With this notebook, we will use convolutional neural networks (CNN) to analyze our X-rays of each patient and generate predictions on their mortality outcomes. The outline for this notebook is as follows:\n",
    "\n",
    "<br>1) Load Packages\n",
    "<br>2) Load images with Image Data Generator\n",
    "<br>3) Examine select images and their shapes\n",
    "<br>4) Perform Train Test split to generate train, test, and validation sets. Defining functions\n",
    "<br>5) Generation of dummy and CNN models, model evaluation plots and metrics\n",
    "<br>6) Predictions of final model, generation of dataframe with final model predictions"
   ]
  },
  {
   "cell_type": "markdown",
   "metadata": {},
   "source": [
    "## 1) LOADING PACKAGES"
   ]
  },
  {
   "cell_type": "code",
   "execution_count": 1,
   "metadata": {},
   "outputs": [],
   "source": [
    "import pandas as pd\n",
    "import numpy as np\n",
    "import matplotlib.pyplot as plt \n",
    "import tensorflow as tf\n",
    "import seaborn as sns\n",
    "import keras\n",
    "\n",
    "from sklearn.model_selection import train_test_split\n",
    "from sklearn.metrics import confusion_matrix\n",
    "from sklearn.dummy import DummyClassifier\n",
    "\n",
    "\n",
    "from tensorflow.keras.layers import Input\n",
    "from keras.preprocessing import image_dataset_from_directory\n",
    "from keras.preprocessing.image import ImageDataGenerator, array_to_img, img_to_array, load_img\n",
    "from keras import models, layers, regularizers\n",
    "from keras.callbacks import EarlyStopping"
   ]
  },
  {
   "cell_type": "markdown",
   "metadata": {},
   "source": [
    "## 2) Now that the files have been moved to their respective labels, we can use the image generator to begin modeling analysis"
   ]
  },
  {
   "cell_type": "code",
   "execution_count": 2,
   "metadata": {},
   "outputs": [
    {
     "name": "stdout",
     "output_type": "stream",
     "text": [
      "Found 6700 images belonging to 2 classes.\n"
     ]
    },
    {
     "name": "stderr",
     "output_type": "stream",
     "text": [
      "C:\\Users\\Adonis McQueen\\anaconda3\\envs\\learn-env\\lib\\site-packages\\keras_preprocessing\\image\\image_data_generator.py:720: UserWarning: This ImageDataGenerator specifies `featurewise_center`, but it hasn't been fit on any training data. Fit it first by calling `.fit(numpy_data)`.\n",
      "  warnings.warn('This ImageDataGenerator specifies '\n"
     ]
    }
   ],
   "source": [
    "data_dir = 'Classes'\n",
    "\n",
    "\n",
    "#create test generator for final model evaluation(20% of entire dataset)\n",
    "data_generator = ImageDataGenerator(1./255).flow_from_directory(\n",
    "       data_dir, \n",
    "       target_size=(128, 128), batch_size=6700, color_mode='grayscale', class_mode='binary', shuffle=False)\n",
    "\n",
    "# #create train generator for model training and validation(80% of dataset). Will create validation split with TTS from train set\n",
    "# train_generator = ImageDataGenerator(1./255).flow_from_directory(\n",
    "#        data_dir, \n",
    "#        target_size=(128, 128), batch_size=5360, color_mode='grayscale', class_mode='binary').\n",
    "\n",
    "#Create the datasets\n",
    "data_images, data_labels = next(data_generator)\n",
    "# test_images, test_labels = next(test_generator)"
   ]
  },
  {
   "cell_type": "markdown",
   "metadata": {},
   "source": [
    "## 3) Examination of select image,  data set shapes, and labels"
   ]
  },
  {
   "cell_type": "code",
   "execution_count": 3,
   "metadata": {},
   "outputs": [
    {
     "data": {
      "image/png": "[encoded data removed]",
      "text/plain": [
       "<PIL.Image.Image image mode=L size=128x128 at 0x26274324E20>"
      ]
     },
     "execution_count": 3,
     "metadata": {},
     "output_type": "execute_result"
    }
   ],
   "source": [
    "#sample photo\n",
    "array_to_img(data_images[0])"
   ]
  },
  {
   "cell_type": "code",
   "execution_count": 4,
   "metadata": {},
   "outputs": [
    {
     "data": {
      "text/plain": [
       "{'deceased': 0, 'discharged': 1}"
      ]
     },
     "execution_count": 4,
     "metadata": {},
     "output_type": "execute_result"
    }
   ],
   "source": [
    "#labels\n",
    "data_generator.class_indices"
   ]
  },
  {
   "cell_type": "markdown",
   "metadata": {},
   "source": [
    "#### checking image and label shapes for model creation"
   ]
  },
  {
   "cell_type": "code",
   "execution_count": 5,
   "metadata": {},
   "outputs": [
    {
     "data": {
      "text/plain": [
       "(6700, 128, 128, 1)"
      ]
     },
     "execution_count": 5,
     "metadata": {},
     "output_type": "execute_result"
    }
   ],
   "source": [
    "data_images.shape"
   ]
  },
  {
   "cell_type": "code",
   "execution_count": 6,
   "metadata": {},
   "outputs": [
    {
     "data": {
      "text/plain": [
       "(6700,)"
      ]
     },
     "execution_count": 6,
     "metadata": {},
     "output_type": "execute_result"
    }
   ],
   "source": [
    "data_labels.shape"
   ]
  },
  {
   "cell_type": "markdown",
   "metadata": {},
   "source": [
    "## 4) Creating train, test, and validation data from TTS in order to train CNN models"
   ]
  },
  {
   "cell_type": "code",
   "execution_count": 7,
   "metadata": {},
   "outputs": [],
   "source": [
    "#train test split to generate training and test data\n",
    "\n",
    "X = data_images\n",
    "y = data_labels\n",
    "\n",
    "X_train, X_test, y_train, y_test = train_test_split(X, y, test_size=0.2, random_state=42)"
   ]
  },
  {
   "cell_type": "code",
   "execution_count": 8,
   "metadata": {},
   "outputs": [],
   "source": [
    "#creating 2nd train and validation set from initial training set\n",
    "\n",
    "x = X_train\n",
    "Y = y_train\n",
    "\n",
    "X_train2, X_val, y_train2, y_val = train_test_split(x, Y, test_size=0.2, random_state=42)"
   ]
  },
  {
   "cell_type": "code",
   "execution_count": 9,
   "metadata": {},
   "outputs": [
    {
     "name": "stdout",
     "output_type": "stream",
     "text": [
      "(4288, 128, 128, 1)\n",
      "(1072, 128, 128, 1)\n",
      "(4288,)\n",
      "(1072,)\n"
     ]
    }
   ],
   "source": [
    "#investigating shapes of train and validation sets\n",
    "print(np.shape(X_train2))\n",
    "print(np.shape(X_val))\n",
    "print(np.shape(y_train2))\n",
    "print(np.shape(y_val))"
   ]
  },
  {
   "cell_type": "markdown",
   "metadata": {},
   "source": [
    "### 4a) Defining functions"
   ]
  },
  {
   "cell_type": "code",
   "execution_count": 10,
   "metadata": {},
   "outputs": [],
   "source": [
    "#function to plot epochs vs loss and accuracy for train and validation/test set\n",
    "def visualize_results(results):\n",
    "    history = results.history\n",
    "    plt.figure()\n",
    "    plt.plot(history['val_loss'])\n",
    "    plt.plot(history['loss'])\n",
    "    plt.legend(['test_loss', 'train_loss'])\n",
    "    plt.title('Epochs vs Loss')\n",
    "    plt.xlabel('Epochs')\n",
    "    plt.ylabel('Loss')\n",
    "    plt.show();\n",
    "    \n",
    "    plt.figure()\n",
    "    plt.plot(history['val_acc'])\n",
    "    plt.plot(history['acc'])\n",
    "    plt.legend(['test_acc', 'train_acc'])\n",
    "    plt.title('Epochs vs Accuracy')\n",
    "    plt.xlabel('Epochs')\n",
    "    plt.ylabel('Accuracy')\n",
    "    plt.show();"
   ]
  },
  {
   "cell_type": "code",
   "execution_count": 11,
   "metadata": {},
   "outputs": [],
   "source": [
    "def plot_matrix(y_true, y_pred):\n",
    "    matrix = confusion_matrix(y_true, y_pred)\n",
    "    \n",
    "    return sns.heatmap(matrix, annot=True, cmap='BuPu', fmt='.4g', xticklabels=['Deceased', 'Discharged'], \n",
    "                       yticklabels=['Deceased', 'Discharged']), plt.yticks(rotation=0)"
   ]
  },
  {
   "cell_type": "markdown",
   "metadata": {},
   "source": [
    "## 5) Generation of dummy and all CNN models"
   ]
  },
  {
   "cell_type": "markdown",
   "metadata": {},
   "source": [
    "### Baseline dummy classifier"
   ]
  },
  {
   "cell_type": "code",
   "execution_count": 12,
   "metadata": {},
   "outputs": [
    {
     "data": {
      "text/plain": [
       "array([1., 1., 1., ..., 1., 1., 1.], dtype=float32)"
      ]
     },
     "execution_count": 12,
     "metadata": {},
     "output_type": "execute_result"
    }
   ],
   "source": [
    "#dummy classifier to compare baseline models to\n",
    "\n",
    "\n",
    "dummy = DummyClassifier(strategy='most_frequent')\n",
    "dummy.fit(X_train2, y_train2)\n",
    "dummy.predict(X_val)"
   ]
  },
  {
   "cell_type": "code",
   "execution_count": 13,
   "metadata": {},
   "outputs": [
    {
     "data": {
      "text/plain": [
       "0.5998134328358209"
      ]
     },
     "execution_count": 13,
     "metadata": {},
     "output_type": "execute_result"
    }
   ],
   "source": [
    "#dummy classifier score\n",
    "dummy.score(X_val, y_val)"
   ]
  },
  {
   "cell_type": "markdown",
   "metadata": {},
   "source": [
    "### To start, a simple CNN model will be used with no dropouts or multiple dense layers."
   ]
  },
  {
   "cell_type": "code",
   "execution_count": 14,
   "metadata": {},
   "outputs": [],
   "source": [
    "#baseline CNN model\n",
    "np.random.seed(424)\n",
    "model = models.Sequential()\n",
    "model.add(layers.Conv2D(32, (3,3), activation='relu',\n",
    "                        input_shape=(128, 128, 1)))\n",
    "model.add(layers.MaxPooling2D((2, 2)))\n",
    "\n",
    "model.add(layers.Flatten())\n",
    "model.add(layers.Dense(64, activation='relu'))\n",
    "model.add(layers.Dense(1, activation='sigmoid'))"
   ]
  },
  {
   "cell_type": "code",
   "execution_count": 15,
   "metadata": {},
   "outputs": [
    {
     "name": "stdout",
     "output_type": "stream",
     "text": [
      "Model: \"sequential\"\n",
      "_________________________________________________________________\n",
      "Layer (type)                 Output Shape              Param #   \n",
      "=================================================================\n",
      "conv2d (Conv2D)              (None, 126, 126, 32)      320       \n",
      "_________________________________________________________________\n",
      "max_pooling2d (MaxPooling2D) (None, 63, 63, 32)        0         \n",
      "_________________________________________________________________\n",
      "flatten (Flatten)            (None, 127008)            0         \n",
      "_________________________________________________________________\n",
      "dense (Dense)                (None, 64)                8128576   \n",
      "_________________________________________________________________\n",
      "dense_1 (Dense)              (None, 1)                 65        \n",
      "=================================================================\n",
      "Total params: 8,128,961\n",
      "Trainable params: 8,128,961\n",
      "Non-trainable params: 0\n",
      "_________________________________________________________________\n"
     ]
    }
   ],
   "source": [
    "model.summary()"
   ]
  },
  {
   "cell_type": "markdown",
   "metadata": {},
   "source": [
    "### Accuracy will be the primary metric of evaluation. A low learning rate is used to improve model learning. SGD is the preferred optimizer; previous iterations with Adam yielded lower accuracy rates."
   ]
  },
  {
   "cell_type": "code",
   "execution_count": 16,
   "metadata": {
    "scrolled": true
   },
   "outputs": [
    {
     "name": "stdout",
     "output_type": "stream",
     "text": [
      "Epoch 1/50\n",
      "34/34 [==============================] - 18s 524ms/step - loss: 51.7117 - acc: 0.5979 - val_loss: 0.6793 - val_acc: 0.6007\n",
      "Epoch 2/50\n",
      "34/34 [==============================] - 16s 484ms/step - loss: 0.6704 - acc: 0.6117 - val_loss: 0.6804 - val_acc: 0.5998\n",
      "Epoch 3/50\n",
      "34/34 [==============================] - 16s 464ms/step - loss: 0.6670 - acc: 0.6136 - val_loss: 0.6834 - val_acc: 0.6007\n",
      "Epoch 4/50\n",
      "34/34 [==============================] - 16s 463ms/step - loss: 0.6646 - acc: 0.6136 - val_loss: 0.6773 - val_acc: 0.6007\n",
      "Epoch 5/50\n",
      "34/34 [==============================] - 16s 479ms/step - loss: 0.6617 - acc: 0.6145 - val_loss: 0.6817 - val_acc: 0.5998\n",
      "Epoch 6/50\n",
      "34/34 [==============================] - 16s 478ms/step - loss: 0.6583 - acc: 0.6168 - val_loss: 0.6797 - val_acc: 0.5998\n",
      "Epoch 7/50\n",
      "34/34 [==============================] - 16s 462ms/step - loss: 0.6564 - acc: 0.6166 - val_loss: 0.6784 - val_acc: 0.5998\n",
      "Epoch 8/50\n",
      "34/34 [==============================] - 16s 464ms/step - loss: 0.6543 - acc: 0.6173 - val_loss: 0.6759 - val_acc: 0.6007\n",
      "Epoch 9/50\n",
      "34/34 [==============================] - 16s 463ms/step - loss: 0.6511 - acc: 0.6178 - val_loss: 0.6746 - val_acc: 0.6007\n",
      "Epoch 10/50\n",
      "34/34 [==============================] - 16s 461ms/step - loss: 0.6528 - acc: 0.6164 - val_loss: 0.6708 - val_acc: 0.6017\n",
      "Epoch 11/50\n",
      "34/34 [==============================] - 16s 462ms/step - loss: 0.6493 - acc: 0.6178 - val_loss: 0.6692 - val_acc: 0.6017\n",
      "Epoch 12/50\n",
      "34/34 [==============================] - 16s 482ms/step - loss: 0.6475 - acc: 0.6182 - val_loss: 0.6670 - val_acc: 0.6007\n",
      "Epoch 13/50\n",
      "34/34 [==============================] - 16s 463ms/step - loss: 0.6439 - acc: 0.6192 - val_loss: 0.6677 - val_acc: 0.6017\n",
      "Epoch 14/50\n",
      "34/34 [==============================] - 17s 513ms/step - loss: 0.6425 - acc: 0.6222 - val_loss: 0.6654 - val_acc: 0.6026\n",
      "Epoch 15/50\n",
      "34/34 [==============================] - 17s 494ms/step - loss: 0.6383 - acc: 0.6231 - val_loss: 0.6666 - val_acc: 0.5979\n",
      "Epoch 16/50\n",
      "34/34 [==============================] - 16s 471ms/step - loss: 0.6366 - acc: 0.6255 - val_loss: 0.6643 - val_acc: 0.5979\n",
      "Epoch 17/50\n",
      "34/34 [==============================] - 16s 467ms/step - loss: 0.6357 - acc: 0.6259 - val_loss: 0.6650 - val_acc: 0.5998\n",
      "Epoch 18/50\n",
      "34/34 [==============================] - 17s 486ms/step - loss: 0.6313 - acc: 0.6262 - val_loss: 0.6658 - val_acc: 0.5979\n",
      "Epoch 19/50\n",
      "34/34 [==============================] - 18s 518ms/step - loss: 0.6307 - acc: 0.6306 - val_loss: 0.6630 - val_acc: 0.5979\n",
      "Epoch 20/50\n",
      "34/34 [==============================] - 17s 490ms/step - loss: 0.6269 - acc: 0.6294 - val_loss: 0.6644 - val_acc: 0.5961\n",
      "Epoch 21/50\n",
      "34/34 [==============================] - 17s 493ms/step - loss: 0.6248 - acc: 0.6329 - val_loss: 0.6631 - val_acc: 0.5951\n",
      "Epoch 22/50\n",
      "34/34 [==============================] - 16s 484ms/step - loss: 0.6237 - acc: 0.6357 - val_loss: 0.6619 - val_acc: 0.5951\n",
      "Epoch 23/50\n",
      "34/34 [==============================] - 17s 487ms/step - loss: 0.6224 - acc: 0.6383 - val_loss: 0.6615 - val_acc: 0.5951\n",
      "Epoch 24/50\n",
      "34/34 [==============================] - 17s 511ms/step - loss: 0.6182 - acc: 0.6376 - val_loss: 0.6631 - val_acc: 0.5924\n",
      "Epoch 25/50\n",
      "34/34 [==============================] - 18s 519ms/step - loss: 0.6167 - acc: 0.6458 - val_loss: 0.6595 - val_acc: 0.5933\n",
      "Epoch 26/50\n",
      "34/34 [==============================] - 17s 491ms/step - loss: 0.6160 - acc: 0.6458 - val_loss: 0.6620 - val_acc: 0.5951\n",
      "Epoch 27/50\n",
      "34/34 [==============================] - 17s 493ms/step - loss: 0.6133 - acc: 0.6453 - val_loss: 0.6613 - val_acc: 0.5924\n",
      "Epoch 28/50\n",
      "34/34 [==============================] - 17s 485ms/step - loss: 0.6115 - acc: 0.6535 - val_loss: 0.6573 - val_acc: 0.5951\n",
      "Epoch 29/50\n",
      "34/34 [==============================] - 16s 477ms/step - loss: 0.6085 - acc: 0.6518 - val_loss: 0.6647 - val_acc: 0.5942\n",
      "Epoch 30/50\n",
      "34/34 [==============================] - 17s 496ms/step - loss: 0.6083 - acc: 0.6572 - val_loss: 0.6541 - val_acc: 0.5970\n",
      "Epoch 31/50\n",
      "34/34 [==============================] - 17s 489ms/step - loss: 0.6047 - acc: 0.6572 - val_loss: 0.6551 - val_acc: 0.5914\n",
      "Epoch 32/50\n",
      "34/34 [==============================] - 16s 469ms/step - loss: 0.6022 - acc: 0.6618 - val_loss: 0.6557 - val_acc: 0.5840\n",
      "Epoch 33/50\n",
      "34/34 [==============================] - 16s 462ms/step - loss: 0.6015 - acc: 0.6644 - val_loss: 0.6527 - val_acc: 0.5886\n",
      "Epoch 34/50\n",
      "34/34 [==============================] - 16s 462ms/step - loss: 0.6001 - acc: 0.6684 - val_loss: 0.6542 - val_acc: 0.5858\n",
      "Epoch 35/50\n",
      "34/34 [==============================] - 16s 469ms/step - loss: 0.5977 - acc: 0.6719 - val_loss: 0.6579 - val_acc: 0.5849\n",
      "Epoch 36/50\n",
      "34/34 [==============================] - 16s 482ms/step - loss: 0.5928 - acc: 0.6779 - val_loss: 0.6552 - val_acc: 0.5896\n",
      "Epoch 37/50\n",
      "34/34 [==============================] - 16s 476ms/step - loss: 0.5946 - acc: 0.6786 - val_loss: 0.6539 - val_acc: 0.5896\n",
      "Epoch 38/50\n",
      "34/34 [==============================] - 16s 468ms/step - loss: 0.5875 - acc: 0.6854 - val_loss: 0.6576 - val_acc: 0.5942\n",
      "Epoch 39/50\n",
      "34/34 [==============================] - 16s 470ms/step - loss: 0.5843 - acc: 0.6852 - val_loss: 0.6558 - val_acc: 0.5896\n",
      "Epoch 40/50\n",
      "34/34 [==============================] - 16s 474ms/step - loss: 0.5822 - acc: 0.6894 - val_loss: 0.6619 - val_acc: 0.5961\n",
      "Epoch 41/50\n",
      "34/34 [==============================] - 16s 472ms/step - loss: 0.5786 - acc: 0.6896 - val_loss: 0.6611 - val_acc: 0.5970\n",
      "Epoch 42/50\n",
      "34/34 [==============================] - 17s 490ms/step - loss: 0.5774 - acc: 0.6891 - val_loss: 0.6610 - val_acc: 0.5933\n",
      "Epoch 43/50\n",
      "34/34 [==============================] - 17s 506ms/step - loss: 0.5791 - acc: 0.6891 - val_loss: 0.6577 - val_acc: 0.5961\n"
     ]
    }
   ],
   "source": [
    "#compile and fit the training data, then validate the fit with validation data\n",
    "early_stopping = [EarlyStopping(monitor='val_loss', patience=10)]\n",
    "optimizer = keras.optimizers.SGD(lr=0.0001)\n",
    "model.compile(optimizer=optimizer,\n",
    "              loss='binary_crossentropy',\n",
    "              metrics=['acc'])\n",
    "\n",
    "results = model.fit(X_train2,\n",
    "                    y_train2,\n",
    "                    callbacks=early_stopping,\n",
    "                    epochs=50,\n",
    "                    batch_size=128,\n",
    "                    validation_data=(X_val, y_val), shuffle=False)"
   ]
  },
  {
   "cell_type": "markdown",
   "metadata": {},
   "source": [
    "#### Model results with train and validation sets"
   ]
  },
  {
   "cell_type": "code",
   "execution_count": 17,
   "metadata": {},
   "outputs": [
    {
     "name": "stdout",
     "output_type": "stream",
     "text": [
      "134/134 [==============================] - 5s 40ms/step - loss: 0.5653 - acc: 0.6884\n"
     ]
    }
   ],
   "source": [
    "results_train = model.evaluate(X_train2, y_train2)"
   ]
  },
  {
   "cell_type": "code",
   "execution_count": 18,
   "metadata": {},
   "outputs": [
    {
     "name": "stdout",
     "output_type": "stream",
     "text": [
      "34/34 [==============================] - 1s 37ms/step - loss: 0.6577 - acc: 0.5961\n"
     ]
    }
   ],
   "source": [
    "results_val = model.evaluate(X_val, y_val)"
   ]
  },
  {
   "cell_type": "markdown",
   "metadata": {},
   "source": [
    "#### Visualizing results"
   ]
  },
  {
   "cell_type": "code",
   "execution_count": 19,
   "metadata": {},
   "outputs": [
    {
     "data": {
      "image/png": "[encoded data removed]",
      "text/plain": [
       "<Figure size 432x288 with 1 Axes>"
      ]
     },
     "metadata": {
      "needs_background": "light"
     },
     "output_type": "display_data"
    },
    {
     "data": {
      "image/png": "[encoded data removed]",
      "text/plain": [
       "<Figure size 432x288 with 1 Axes>"
      ]
     },
     "metadata": {
      "needs_background": "light"
     },
     "output_type": "display_data"
    }
   ],
   "source": [
    "visualize_results(results)"
   ]
  },
  {
   "cell_type": "code",
   "execution_count": 20,
   "metadata": {},
   "outputs": [
    {
     "data": {
      "image/png": "[encoded data removed]",
      "text/plain": [
       "<Figure size 432x288 with 2 Axes>"
      ]
     },
     "metadata": {
      "needs_background": "light"
     },
     "output_type": "display_data"
    }
   ],
   "source": [
    "#confusion matrix for model predictions\n",
    "\n",
    "label_pred = (model.predict(X_val) > 0.5).astype(int)\n",
    "\n",
    "plot_matrix(y_val, label_pred);\n",
    "\n"
   ]
  },
  {
   "cell_type": "markdown",
   "metadata": {},
   "source": [
    "### Insight: This model appears to begin overfitting to the training data, and the validation accuracy does not increase. Will adding addtional convolution layers increase performance?"
   ]
  },
  {
   "cell_type": "code",
   "execution_count": 21,
   "metadata": {},
   "outputs": [],
   "source": [
    "# Increasing convolutional layers\n",
    "np.random.seed(424)\n",
    "model2 = models.Sequential()\n",
    "model2.add(layers.Conv2D(32, (3, 3), activation='relu', input_shape=(128, 128, 1)))\n",
    "model2.add(layers.MaxPooling2D((2, 2)))\n",
    "model2.add(layers.Conv2D(16, (4, 4), activation='relu'))\n",
    "model2.add(layers.MaxPooling2D((2, 2)))\n",
    "model2.add(layers.Conv2D(64, (2, 2), activation='relu'))\n",
    "model2.add(layers.MaxPooling2D((3, 3)))\n",
    "\n",
    "model2.add(layers.Flatten())\n",
    "model2.add(layers.Dense(96, activation='relu'))\n",
    "model2.add(layers.Dense(1, activation='sigmoid'))"
   ]
  },
  {
   "cell_type": "code",
   "execution_count": 22,
   "metadata": {
    "scrolled": true
   },
   "outputs": [
    {
     "name": "stdout",
     "output_type": "stream",
     "text": [
      "Model: \"sequential_1\"\n",
      "_________________________________________________________________\n",
      "Layer (type)                 Output Shape              Param #   \n",
      "=================================================================\n",
      "conv2d_1 (Conv2D)            (None, 126, 126, 32)      320       \n",
      "_________________________________________________________________\n",
      "max_pooling2d_1 (MaxPooling2 (None, 63, 63, 32)        0         \n",
      "_________________________________________________________________\n",
      "conv2d_2 (Conv2D)            (None, 60, 60, 16)        8208      \n",
      "_________________________________________________________________\n",
      "max_pooling2d_2 (MaxPooling2 (None, 30, 30, 16)        0         \n",
      "_________________________________________________________________\n",
      "conv2d_3 (Conv2D)            (None, 29, 29, 64)        4160      \n",
      "_________________________________________________________________\n",
      "max_pooling2d_3 (MaxPooling2 (None, 9, 9, 64)          0         \n",
      "_________________________________________________________________\n",
      "flatten_1 (Flatten)          (None, 5184)              0         \n",
      "_________________________________________________________________\n",
      "dense_2 (Dense)              (None, 96)                497760    \n",
      "_________________________________________________________________\n",
      "dense_3 (Dense)              (None, 1)                 97        \n",
      "=================================================================\n",
      "Total params: 510,545\n",
      "Trainable params: 510,545\n",
      "Non-trainable params: 0\n",
      "_________________________________________________________________\n"
     ]
    }
   ],
   "source": [
    "model2.summary()"
   ]
  },
  {
   "cell_type": "code",
   "execution_count": 23,
   "metadata": {
    "scrolled": true
   },
   "outputs": [
    {
     "name": "stdout",
     "output_type": "stream",
     "text": [
      "Epoch 1/50\n",
      "34/34 [==============================] - 33s 980ms/step - loss: 1.3853 - acc: 0.5238 - val_loss: 0.8925 - val_acc: 0.5364\n",
      "Epoch 2/50\n",
      "34/34 [==============================] - 34s 998ms/step - loss: 0.8913 - acc: 0.5445 - val_loss: 0.8845 - val_acc: 0.5364\n",
      "Epoch 3/50\n",
      "34/34 [==============================] - 33s 957ms/step - loss: 0.8808 - acc: 0.5450 - val_loss: 0.8773 - val_acc: 0.5326\n",
      "Epoch 4/50\n",
      "34/34 [==============================] - 32s 943ms/step - loss: 0.8723 - acc: 0.5438 - val_loss: 0.8710 - val_acc: 0.5326\n",
      "Epoch 5/50\n",
      "34/34 [==============================] - 32s 937ms/step - loss: 0.8654 - acc: 0.5480 - val_loss: 0.8655 - val_acc: 0.5354\n",
      "Epoch 6/50\n",
      "34/34 [==============================] - 35s 1s/step - loss: 0.8593 - acc: 0.5504 - val_loss: 0.8605 - val_acc: 0.5326\n",
      "Epoch 7/50\n",
      "34/34 [==============================] - 34s 994ms/step - loss: 0.8536 - acc: 0.5506 - val_loss: 0.8558 - val_acc: 0.5336\n",
      "Epoch 8/50\n",
      "34/34 [==============================] - 31s 922ms/step - loss: 0.8485 - acc: 0.5511 - val_loss: 0.8514 - val_acc: 0.5336\n",
      "Epoch 9/50\n",
      "34/34 [==============================] - 32s 933ms/step - loss: 0.8438 - acc: 0.5506 - val_loss: 0.8470 - val_acc: 0.5354\n",
      "Epoch 10/50\n",
      "34/34 [==============================] - 28s 826ms/step - loss: 0.8392 - acc: 0.5494 - val_loss: 0.8428 - val_acc: 0.5354\n",
      "Epoch 11/50\n",
      "34/34 [==============================] - 28s 824ms/step - loss: 0.8348 - acc: 0.5480 - val_loss: 0.8388 - val_acc: 0.5345\n",
      "Epoch 12/50\n",
      "34/34 [==============================] - 28s 826ms/step - loss: 0.8305 - acc: 0.5483 - val_loss: 0.8348 - val_acc: 0.5354\n",
      "Epoch 13/50\n",
      "34/34 [==============================] - 29s 860ms/step - loss: 0.8265 - acc: 0.5492 - val_loss: 0.8309 - val_acc: 0.5392\n",
      "Epoch 14/50\n",
      "34/34 [==============================] - 30s 890ms/step - loss: 0.8228 - acc: 0.5511 - val_loss: 0.8276 - val_acc: 0.5382\n",
      "Epoch 15/50\n",
      "34/34 [==============================] - 30s 884ms/step - loss: 0.8194 - acc: 0.5520 - val_loss: 0.8247 - val_acc: 0.5392\n",
      "Epoch 16/50\n",
      "34/34 [==============================] - 32s 927ms/step - loss: 0.8163 - acc: 0.5529 - val_loss: 0.8221 - val_acc: 0.5382\n",
      "Epoch 17/50\n",
      "34/34 [==============================] - 32s 944ms/step - loss: 0.8134 - acc: 0.5548 - val_loss: 0.8195 - val_acc: 0.5382\n",
      "Epoch 18/50\n",
      "34/34 [==============================] - 31s 913ms/step - loss: 0.8107 - acc: 0.5553 - val_loss: 0.8173 - val_acc: 0.5392\n",
      "Epoch 19/50\n",
      "34/34 [==============================] - 30s 883ms/step - loss: 0.8082 - acc: 0.5555 - val_loss: 0.8152 - val_acc: 0.5392\n",
      "Epoch 20/50\n",
      "34/34 [==============================] - 30s 874ms/step - loss: 0.8057 - acc: 0.5557 - val_loss: 0.8133 - val_acc: 0.5448\n",
      "Epoch 21/50\n",
      "34/34 [==============================] - 28s 826ms/step - loss: 0.8034 - acc: 0.5571 - val_loss: 0.8115 - val_acc: 0.5448\n",
      "Epoch 22/50\n",
      "34/34 [==============================] - 28s 830ms/step - loss: 0.8012 - acc: 0.5581 - val_loss: 0.8099 - val_acc: 0.5420\n",
      "Epoch 23/50\n",
      "34/34 [==============================] - 28s 822ms/step - loss: 0.7990 - acc: 0.5604 - val_loss: 0.8083 - val_acc: 0.5420\n",
      "Epoch 24/50\n",
      "34/34 [==============================] - 28s 825ms/step - loss: 0.7970 - acc: 0.5606 - val_loss: 0.8069 - val_acc: 0.5448\n",
      "Epoch 25/50\n",
      "34/34 [==============================] - 28s 830ms/step - loss: 0.7950 - acc: 0.5623 - val_loss: 0.8055 - val_acc: 0.5448\n",
      "Epoch 26/50\n",
      "34/34 [==============================] - 28s 823ms/step - loss: 0.7930 - acc: 0.5637 - val_loss: 0.8042 - val_acc: 0.5476\n",
      "Epoch 27/50\n",
      "34/34 [==============================] - 28s 831ms/step - loss: 0.7911 - acc: 0.5639 - val_loss: 0.8030 - val_acc: 0.5504\n",
      "Epoch 28/50\n",
      "34/34 [==============================] - 28s 829ms/step - loss: 0.7892 - acc: 0.5651 - val_loss: 0.8018 - val_acc: 0.5494\n",
      "Epoch 29/50\n",
      "34/34 [==============================] - 28s 823ms/step - loss: 0.7873 - acc: 0.5653 - val_loss: 0.8007 - val_acc: 0.5532\n",
      "Epoch 30/50\n",
      "34/34 [==============================] - 28s 826ms/step - loss: 0.7855 - acc: 0.5646 - val_loss: 0.7996 - val_acc: 0.5532\n",
      "Epoch 31/50\n",
      "34/34 [==============================] - 28s 826ms/step - loss: 0.7837 - acc: 0.5662 - val_loss: 0.7986 - val_acc: 0.5560\n",
      "Epoch 32/50\n",
      "34/34 [==============================] - 30s 886ms/step - loss: 0.7820 - acc: 0.5662 - val_loss: 0.7977 - val_acc: 0.5569\n",
      "Epoch 33/50\n",
      "34/34 [==============================] - 28s 830ms/step - loss: 0.7803 - acc: 0.5665 - val_loss: 0.7967 - val_acc: 0.5597\n",
      "Epoch 34/50\n",
      "34/34 [==============================] - 28s 831ms/step - loss: 0.7788 - acc: 0.5655 - val_loss: 0.7958 - val_acc: 0.5616\n",
      "Epoch 35/50\n",
      "34/34 [==============================] - 29s 842ms/step - loss: 0.7772 - acc: 0.5672 - val_loss: 0.7950 - val_acc: 0.5597\n",
      "Epoch 36/50\n",
      "34/34 [==============================] - 29s 850ms/step - loss: 0.7757 - acc: 0.5683 - val_loss: 0.7943 - val_acc: 0.5606\n",
      "Epoch 37/50\n",
      "34/34 [==============================] - 28s 828ms/step - loss: 0.7743 - acc: 0.5700 - val_loss: 0.7936 - val_acc: 0.5597\n",
      "Epoch 38/50\n",
      "34/34 [==============================] - 28s 827ms/step - loss: 0.7729 - acc: 0.5707 - val_loss: 0.7929 - val_acc: 0.5625\n",
      "Epoch 39/50\n",
      "34/34 [==============================] - 29s 864ms/step - loss: 0.7715 - acc: 0.5725 - val_loss: 0.7923 - val_acc: 0.5625\n",
      "Epoch 40/50\n",
      "34/34 [==============================] - 29s 839ms/step - loss: 0.7703 - acc: 0.5742 - val_loss: 0.7916 - val_acc: 0.5644\n",
      "Epoch 41/50\n",
      "34/34 [==============================] - 28s 830ms/step - loss: 0.7690 - acc: 0.5751 - val_loss: 0.7909 - val_acc: 0.5644\n",
      "Epoch 42/50\n",
      "34/34 [==============================] - 28s 830ms/step - loss: 0.7678 - acc: 0.5756 - val_loss: 0.7902 - val_acc: 0.5653\n",
      "Epoch 43/50\n",
      "34/34 [==============================] - 28s 830ms/step - loss: 0.7667 - acc: 0.5765 - val_loss: 0.7895 - val_acc: 0.5653\n",
      "Epoch 44/50\n",
      "34/34 [==============================] - 28s 835ms/step - loss: 0.7656 - acc: 0.5772 - val_loss: 0.7887 - val_acc: 0.5653\n",
      "Epoch 45/50\n",
      "34/34 [==============================] - 28s 832ms/step - loss: 0.7645 - acc: 0.5784 - val_loss: 0.7879 - val_acc: 0.5662\n",
      "Epoch 46/50\n",
      "34/34 [==============================] - 28s 838ms/step - loss: 0.7634 - acc: 0.5777 - val_loss: 0.7871 - val_acc: 0.5662\n",
      "Epoch 47/50\n",
      "34/34 [==============================] - 28s 827ms/step - loss: 0.7623 - acc: 0.5779 - val_loss: 0.7864 - val_acc: 0.5681\n",
      "Epoch 48/50\n",
      "34/34 [==============================] - 28s 828ms/step - loss: 0.7613 - acc: 0.5788 - val_loss: 0.7856 - val_acc: 0.5672\n",
      "Epoch 49/50\n",
      "34/34 [==============================] - 28s 827ms/step - loss: 0.7603 - acc: 0.5791 - val_loss: 0.7848 - val_acc: 0.5662\n",
      "Epoch 50/50\n",
      "34/34 [==============================] - 29s 860ms/step - loss: 0.7592 - acc: 0.5786 - val_loss: 0.7840 - val_acc: 0.5653\n"
     ]
    }
   ],
   "source": [
    "optimizer = keras.optimizers.SGD(lr=0.00001)\n",
    "model2.compile(optimizer=optimizer,\n",
    "              loss='binary_crossentropy',\n",
    "              metrics=['acc'])\n",
    "\n",
    "results2 = model2.fit(X_train2,\n",
    "                    y_train2,\n",
    "                    callbacks=early_stopping,\n",
    "                    epochs=50,\n",
    "                    batch_size=128,\n",
    "                    validation_data=(X_val, y_val), shuffle=False)"
   ]
  },
  {
   "cell_type": "markdown",
   "metadata": {},
   "source": [
    "#### Model2 predictions and visualizing results"
   ]
  },
  {
   "cell_type": "code",
   "execution_count": 24,
   "metadata": {},
   "outputs": [
    {
     "name": "stdout",
     "output_type": "stream",
     "text": [
      "134/134 [==============================] - 6s 47ms/step - loss: 0.7565 - acc: 0.5728\n"
     ]
    }
   ],
   "source": [
    "results_train2 = model2.evaluate(X_train2, y_train2)"
   ]
  },
  {
   "cell_type": "code",
   "execution_count": 25,
   "metadata": {},
   "outputs": [
    {
     "name": "stdout",
     "output_type": "stream",
     "text": [
      "34/34 [==============================] - 2s 45ms/step - loss: 0.7840 - acc: 0.5653\n"
     ]
    }
   ],
   "source": [
    "results_test2 = model2.evaluate(X_val, y_val)"
   ]
  },
  {
   "cell_type": "code",
   "execution_count": 26,
   "metadata": {},
   "outputs": [
    {
     "data": {
      "image/png": "[encoded data removed]",
      "text/plain": [
       "<Figure size 432x288 with 1 Axes>"
      ]
     },
     "metadata": {
      "needs_background": "light"
     },
     "output_type": "display_data"
    },
    {
     "data": {
      "image/png": "[encoded data removed]",
      "text/plain": [
       "<Figure size 432x288 with 1 Axes>"
      ]
     },
     "metadata": {
      "needs_background": "light"
     },
     "output_type": "display_data"
    }
   ],
   "source": [
    "# train_pred = (model2.predict(X_train2) > 0.5).astype(int)\n",
    "val_pred = (model2.predict(X_val) > 0.5).astype(int)\n",
    "\n",
    "visualize_results(results2)"
   ]
  },
  {
   "cell_type": "code",
   "execution_count": 27,
   "metadata": {},
   "outputs": [
    {
     "data": {
      "image/png": "[encoded data removed]",
      "text/plain": [
       "<Figure size 432x288 with 2 Axes>"
      ]
     },
     "metadata": {
      "needs_background": "light"
     },
     "output_type": "display_data"
    }
   ],
   "source": [
    "plot_matrix(y_val, val_pred);\n"
   ]
  },
  {
   "cell_type": "markdown",
   "metadata": {},
   "source": [
    "### While the 2nd model resolves the overfitting issue, the accuracy has decreased for both training and validation sets. Will regularization improve accuracy scores for better predictions? "
   ]
  },
  {
   "cell_type": "code",
   "execution_count": 28,
   "metadata": {},
   "outputs": [],
   "source": [
    "#adding regularization penalty to model\n",
    "\n",
    "model3 = models.Sequential()\n",
    "model3.add(layers.Conv2D(128, (3, 3), activation='relu', input_shape=(128, 128, 1)))\n",
    "model3.add(layers.MaxPooling2D((2, 2)))\n",
    "model3.add(layers.Conv2D(96, (3, 3), activation='relu'))\n",
    "model3.add(layers.MaxPooling2D((2, 2)))\n",
    "model3.add(layers.Conv2D(64, (3, 3), activation='relu'))\n",
    "model3.add(layers.MaxPooling2D((2, 2)))\n",
    "model3.add(layers.Conv2D(64, (3, 3), activation='relu'))\n",
    "model3.add(layers.MaxPooling2D((2, 2)))\n",
    "\n",
    "\n",
    "model3.add(layers.Flatten())\n",
    "model3.add(layers.Dense(64, activation='relu', kernel_regularizer=regularizers.l2(0.01)))\n",
    "model3.add(layers.Dense(1, activation='sigmoid'))"
   ]
  },
  {
   "cell_type": "code",
   "execution_count": 29,
   "metadata": {},
   "outputs": [
    {
     "name": "stdout",
     "output_type": "stream",
     "text": [
      "Model: \"sequential_2\"\n",
      "_________________________________________________________________\n",
      "Layer (type)                 Output Shape              Param #   \n",
      "=================================================================\n",
      "conv2d_4 (Conv2D)            (None, 126, 126, 128)     1280      \n",
      "_________________________________________________________________\n",
      "max_pooling2d_4 (MaxPooling2 (None, 63, 63, 128)       0         \n",
      "_________________________________________________________________\n",
      "conv2d_5 (Conv2D)            (None, 61, 61, 96)        110688    \n",
      "_________________________________________________________________\n",
      "max_pooling2d_5 (MaxPooling2 (None, 30, 30, 96)        0         \n",
      "_________________________________________________________________\n",
      "conv2d_6 (Conv2D)            (None, 28, 28, 64)        55360     \n",
      "_________________________________________________________________\n",
      "max_pooling2d_6 (MaxPooling2 (None, 14, 14, 64)        0         \n",
      "_________________________________________________________________\n",
      "conv2d_7 (Conv2D)            (None, 12, 12, 64)        36928     \n",
      "_________________________________________________________________\n",
      "max_pooling2d_7 (MaxPooling2 (None, 6, 6, 64)          0         \n",
      "_________________________________________________________________\n",
      "flatten_2 (Flatten)          (None, 2304)              0         \n",
      "_________________________________________________________________\n",
      "dense_4 (Dense)              (None, 64)                147520    \n",
      "_________________________________________________________________\n",
      "dense_5 (Dense)              (None, 1)                 65        \n",
      "=================================================================\n",
      "Total params: 351,841\n",
      "Trainable params: 351,841\n",
      "Non-trainable params: 0\n",
      "_________________________________________________________________\n"
     ]
    }
   ],
   "source": [
    "model3.summary()"
   ]
  },
  {
   "cell_type": "code",
   "execution_count": 30,
   "metadata": {
    "scrolled": true
   },
   "outputs": [
    {
     "name": "stdout",
     "output_type": "stream",
     "text": [
      "Epoch 1/25\n",
      "67/67 [==============================] - 109s 2s/step - loss: 2.3467 - acc: 0.5354 - val_loss: 1.9726 - val_acc: 0.5075\n",
      "Epoch 2/25\n",
      "67/67 [==============================] - 109s 2s/step - loss: 1.9932 - acc: 0.5660 - val_loss: 1.9434 - val_acc: 0.5709\n",
      "Epoch 3/25\n",
      "67/67 [==============================] - 109s 2s/step - loss: 1.9669 - acc: 0.5744 - val_loss: 1.9364 - val_acc: 0.5858\n",
      "Epoch 4/25\n",
      "67/67 [==============================] - 109s 2s/step - loss: 1.9485 - acc: 0.5924 - val_loss: 1.9323 - val_acc: 0.5979\n",
      "Epoch 5/25\n",
      "67/67 [==============================] - 109s 2s/step - loss: 1.9370 - acc: 0.5998 - val_loss: 1.9292 - val_acc: 0.5942\n",
      "Epoch 6/25\n",
      "67/67 [==============================] - 109s 2s/step - loss: 1.9300 - acc: 0.6033 - val_loss: 1.9268 - val_acc: 0.5970\n",
      "Epoch 7/25\n",
      "67/67 [==============================] - 108s 2s/step - loss: 1.9237 - acc: 0.6056 - val_loss: 1.9239 - val_acc: 0.6035\n",
      "Epoch 8/25\n",
      "67/67 [==============================] - 108s 2s/step - loss: 1.9188 - acc: 0.6059 - val_loss: 1.9211 - val_acc: 0.6017\n",
      "Epoch 9/25\n",
      "67/67 [==============================] - 108s 2s/step - loss: 1.9137 - acc: 0.6110 - val_loss: 1.9186 - val_acc: 0.6007\n",
      "Epoch 10/25\n",
      "67/67 [==============================] - 108s 2s/step - loss: 1.9099 - acc: 0.6126 - val_loss: 1.9165 - val_acc: 0.6026\n",
      "Epoch 11/25\n",
      "67/67 [==============================] - 108s 2s/step - loss: 1.9055 - acc: 0.6152 - val_loss: 1.9152 - val_acc: 0.5998\n",
      "Epoch 12/25\n",
      "67/67 [==============================] - 108s 2s/step - loss: 1.9028 - acc: 0.6159 - val_loss: 1.9145 - val_acc: 0.5989\n",
      "Epoch 13/25\n",
      "67/67 [==============================] - 108s 2s/step - loss: 1.8994 - acc: 0.6208 - val_loss: 1.9132 - val_acc: 0.5979\n",
      "Epoch 14/25\n",
      "67/67 [==============================] - 108s 2s/step - loss: 1.8964 - acc: 0.6250 - val_loss: 1.9121 - val_acc: 0.6007\n",
      "Epoch 15/25\n",
      "67/67 [==============================] - 109s 2s/step - loss: 1.8934 - acc: 0.6262 - val_loss: 1.9112 - val_acc: 0.6007\n",
      "Epoch 16/25\n",
      "67/67 [==============================] - 108s 2s/step - loss: 1.8907 - acc: 0.6283 - val_loss: 1.9095 - val_acc: 0.6007\n",
      "Epoch 17/25\n",
      "67/67 [==============================] - 108s 2s/step - loss: 1.8880 - acc: 0.6320 - val_loss: 1.9084 - val_acc: 0.6026\n",
      "Epoch 18/25\n",
      "67/67 [==============================] - 109s 2s/step - loss: 1.8855 - acc: 0.6327 - val_loss: 1.9073 - val_acc: 0.6045\n",
      "Epoch 19/25\n",
      "67/67 [==============================] - 110s 2s/step - loss: 1.8832 - acc: 0.6327 - val_loss: 1.9062 - val_acc: 0.6017\n",
      "Epoch 20/25\n",
      "67/67 [==============================] - 108s 2s/step - loss: 1.8807 - acc: 0.6332 - val_loss: 1.9055 - val_acc: 0.5979\n",
      "Epoch 21/25\n",
      "67/67 [==============================] - 108s 2s/step - loss: 1.8783 - acc: 0.6371 - val_loss: 1.9044 - val_acc: 0.5970\n",
      "Epoch 22/25\n",
      "67/67 [==============================] - 108s 2s/step - loss: 1.8766 - acc: 0.6364 - val_loss: 1.9035 - val_acc: 0.5951\n",
      "Epoch 23/25\n",
      "67/67 [==============================] - 108s 2s/step - loss: 1.8744 - acc: 0.6392 - val_loss: 1.9024 - val_acc: 0.5970\n",
      "Epoch 24/25\n",
      "67/67 [==============================] - 110s 2s/step - loss: 1.8731 - acc: 0.6409 - val_loss: 1.9014 - val_acc: 0.5979\n",
      "Epoch 25/25\n",
      "67/67 [==============================] - 109s 2s/step - loss: 1.8712 - acc: 0.6397 - val_loss: 1.9005 - val_acc: 0.5933\n"
     ]
    }
   ],
   "source": [
    "optimizer = keras.optimizers.SGD(lr=0.0001)\n",
    "early_stopping2 = [EarlyStopping(monitor='val_loss', patience=10)]\n",
    "model3.compile(optimizer=optimizer,\n",
    "              loss='binary_crossentropy',\n",
    "              metrics=['acc'])\n",
    "\n",
    "results3 = model3.fit(X_train2,\n",
    "                    y_train2,\n",
    "                    callbacks=early_stopping2,\n",
    "                    epochs=25,\n",
    "                    batch_size=64,\n",
    "                    validation_data=(X_val, y_val), shuffle=False)"
   ]
  },
  {
   "cell_type": "markdown",
   "metadata": {},
   "source": [
    "#### Visualizing results for model 3"
   ]
  },
  {
   "cell_type": "code",
   "execution_count": 31,
   "metadata": {},
   "outputs": [
    {
     "name": "stdout",
     "output_type": "stream",
     "text": [
      "134/134 [==============================] - 27s 203ms/step - loss: 1.8615 - acc: 0.6474\n"
     ]
    }
   ],
   "source": [
    "results_train3 = model3.evaluate(X_train2, y_train2)"
   ]
  },
  {
   "cell_type": "code",
   "execution_count": 32,
   "metadata": {},
   "outputs": [
    {
     "name": "stdout",
     "output_type": "stream",
     "text": [
      "34/34 [==============================] - 7s 196ms/step - loss: 1.9005 - acc: 0.5933\n"
     ]
    }
   ],
   "source": [
    "results_test3 = model3.evaluate(X_val, y_val)"
   ]
  },
  {
   "cell_type": "code",
   "execution_count": 33,
   "metadata": {},
   "outputs": [
    {
     "data": {
      "image/png": "[encoded data removed]",
      "text/plain": [
       "<Figure size 432x288 with 1 Axes>"
      ]
     },
     "metadata": {
      "needs_background": "light"
     },
     "output_type": "display_data"
    },
    {
     "data": {
      "image/png": "[encoded data removed]",
      "text/plain": [
       "<Figure size 432x288 with 1 Axes>"
      ]
     },
     "metadata": {
      "needs_background": "light"
     },
     "output_type": "display_data"
    }
   ],
   "source": [
    "visualize_results(results3)"
   ]
  },
  {
   "cell_type": "code",
   "execution_count": 34,
   "metadata": {},
   "outputs": [
    {
     "data": {
      "image/png": "[encoded data removed]",
      "text/plain": [
       "<Figure size 432x288 with 2 Axes>"
      ]
     },
     "metadata": {
      "needs_background": "light"
     },
     "output_type": "display_data"
    }
   ],
   "source": [
    "val_pred3 = (model3.predict(X_val) > 0.5).astype(int)\n",
    "plot_matrix(y_val, val_pred3);\n"
   ]
  },
  {
   "cell_type": "markdown",
   "metadata": {},
   "source": [
    "### Insight: Model 3 performed the best out of all the models. It doesn't overfit like model 1, and has better metrics than model 2 for both train and validation sets. Model 3 will be used to generate probability predictions for the entire dataset after being trained against the entire training set and validated with the testing set."
   ]
  },
  {
   "cell_type": "markdown",
   "metadata": {},
   "source": [
    "## 6) Final model predictions and prediction dataframe creation"
   ]
  },
  {
   "cell_type": "code",
   "execution_count": 35,
   "metadata": {},
   "outputs": [],
   "source": [
    "#fit against entire train set and validate with test set, then generate predictions\n",
    "np.random.seed(42)\n",
    "model3 = models.Sequential()\n",
    "model3.add(layers.Conv2D(128, (3, 3), activation='relu', input_shape=(128, 128, 1)))\n",
    "model3.add(layers.MaxPooling2D((2, 2)))\n",
    "model3.add(layers.Conv2D(96, (3, 3), activation='relu'))\n",
    "model3.add(layers.MaxPooling2D((2, 2)))\n",
    "model3.add(layers.Conv2D(64, (3, 3), activation='relu'))\n",
    "model3.add(layers.MaxPooling2D((2, 2)))\n",
    "model3.add(layers.Conv2D(64, (3, 3), activation='relu'))\n",
    "model3.add(layers.MaxPooling2D((2, 2)))\n",
    "\n",
    "\n",
    "model3.add(layers.Flatten())\n",
    "model3.add(layers.Dense(64, activation='relu', kernel_regularizer=regularizers.l2(0.01)))\n",
    "model3.add(layers.Dense(1, activation='sigmoid'))"
   ]
  },
  {
   "cell_type": "code",
   "execution_count": 36,
   "metadata": {
    "scrolled": true
   },
   "outputs": [
    {
     "name": "stdout",
     "output_type": "stream",
     "text": [
      "Epoch 1/25\n",
      "84/84 [==============================] - 136s 2s/step - loss: 2.4106 - acc: 0.5388 - val_loss: 1.9674 - val_acc: 0.5709\n",
      "Epoch 2/25\n",
      "84/84 [==============================] - 137s 2s/step - loss: 1.9556 - acc: 0.5729 - val_loss: 1.9418 - val_acc: 0.5918\n",
      "Epoch 3/25\n",
      "84/84 [==============================] - 136s 2s/step - loss: 1.9377 - acc: 0.5815 - val_loss: 1.9257 - val_acc: 0.5918\n",
      "Epoch 4/25\n",
      "84/84 [==============================] - 136s 2s/step - loss: 1.9276 - acc: 0.5881 - val_loss: 1.9190 - val_acc: 0.5948\n",
      "Epoch 5/25\n",
      "84/84 [==============================] - 137s 2s/step - loss: 1.9190 - acc: 0.5961 - val_loss: 1.9112 - val_acc: 0.6022\n",
      "Epoch 6/25\n",
      "84/84 [==============================] - 136s 2s/step - loss: 1.9130 - acc: 0.6034 - val_loss: 1.9085 - val_acc: 0.5993\n",
      "Epoch 7/25\n",
      "84/84 [==============================] - 137s 2s/step - loss: 1.9084 - acc: 0.6043 - val_loss: 1.9045 - val_acc: 0.6007\n",
      "Epoch 8/25\n",
      "84/84 [==============================] - 136s 2s/step - loss: 1.9039 - acc: 0.6101 - val_loss: 1.9031 - val_acc: 0.6007\n",
      "Epoch 9/25\n",
      "84/84 [==============================] - 139s 2s/step - loss: 1.9007 - acc: 0.6097 - val_loss: 1.9002 - val_acc: 0.6075\n",
      "Epoch 10/25\n",
      "84/84 [==============================] - 151s 2s/step - loss: 1.8969 - acc: 0.6116 - val_loss: 1.8968 - val_acc: 0.6082\n",
      "Epoch 11/25\n",
      "84/84 [==============================] - 139s 2s/step - loss: 1.8934 - acc: 0.6174 - val_loss: 1.8958 - val_acc: 0.6045\n",
      "Epoch 12/25\n",
      "84/84 [==============================] - 139s 2s/step - loss: 1.8905 - acc: 0.6224 - val_loss: 1.8945 - val_acc: 0.6090\n",
      "Epoch 13/25\n",
      "84/84 [==============================] - 137s 2s/step - loss: 1.8874 - acc: 0.6239 - val_loss: 1.8924 - val_acc: 0.6112\n",
      "Epoch 14/25\n",
      "84/84 [==============================] - 136s 2s/step - loss: 1.8850 - acc: 0.6250 - val_loss: 1.8904 - val_acc: 0.6090\n",
      "Epoch 15/25\n",
      "84/84 [==============================] - 136s 2s/step - loss: 1.8833 - acc: 0.6291 - val_loss: 1.8882 - val_acc: 0.6127\n",
      "Epoch 16/25\n",
      "84/84 [==============================] - 137s 2s/step - loss: 1.8808 - acc: 0.6291 - val_loss: 1.8881 - val_acc: 0.6134\n",
      "Epoch 17/25\n",
      "84/84 [==============================] - 136s 2s/step - loss: 1.8786 - acc: 0.6317 - val_loss: 1.8875 - val_acc: 0.6104\n",
      "Epoch 18/25\n",
      "84/84 [==============================] - 137s 2s/step - loss: 1.8764 - acc: 0.6313 - val_loss: 1.8859 - val_acc: 0.6097\n",
      "Epoch 19/25\n",
      "84/84 [==============================] - 136s 2s/step - loss: 1.8742 - acc: 0.6332 - val_loss: 1.8844 - val_acc: 0.6067\n",
      "Epoch 20/25\n",
      "84/84 [==============================] - 136s 2s/step - loss: 1.8722 - acc: 0.6347 - val_loss: 1.8824 - val_acc: 0.6127\n",
      "Epoch 21/25\n",
      "84/84 [==============================] - 136s 2s/step - loss: 1.8702 - acc: 0.6353 - val_loss: 1.8816 - val_acc: 0.6149\n",
      "Epoch 22/25\n",
      "84/84 [==============================] - 137s 2s/step - loss: 1.8683 - acc: 0.6386 - val_loss: 1.8807 - val_acc: 0.6127\n",
      "Epoch 23/25\n",
      "84/84 [==============================] - 137s 2s/step - loss: 1.8668 - acc: 0.6386 - val_loss: 1.8797 - val_acc: 0.6164\n",
      "Epoch 24/25\n",
      "84/84 [==============================] - 136s 2s/step - loss: 1.8647 - acc: 0.6412 - val_loss: 1.8792 - val_acc: 0.6164\n",
      "Epoch 25/25\n",
      "84/84 [==============================] - 136s 2s/step - loss: 1.8632 - acc: 0.6424 - val_loss: 1.8778 - val_acc: 0.6187\n"
     ]
    }
   ],
   "source": [
    "optimizer = keras.optimizers.SGD(lr=0.0001)\n",
    "early_stopping2 = [EarlyStopping(monitor='val_loss', patience=10)]\n",
    "model3.compile(optimizer=optimizer,\n",
    "              loss='binary_crossentropy',\n",
    "              metrics=['acc'])\n",
    "\n",
    "results_final = model3.fit(X_train,\n",
    "                    y_train,\n",
    "                    callbacks=early_stopping2,\n",
    "                    epochs=25,\n",
    "                    batch_size=64,\n",
    "                    validation_data=(X_test, y_test), shuffle=False)"
   ]
  },
  {
   "cell_type": "markdown",
   "metadata": {},
   "source": [
    "### Final model visualizations and evaluation"
   ]
  },
  {
   "cell_type": "code",
   "execution_count": 37,
   "metadata": {},
   "outputs": [
    {
     "name": "stdout",
     "output_type": "stream",
     "text": [
      "168/168 [==============================] - 34s 202ms/step - loss: 1.8559 - acc: 0.6476\n"
     ]
    }
   ],
   "source": [
    "train_final = model3.evaluate(X_train, y_train)"
   ]
  },
  {
   "cell_type": "code",
   "execution_count": 38,
   "metadata": {},
   "outputs": [
    {
     "name": "stdout",
     "output_type": "stream",
     "text": [
      "42/42 [==============================] - 8s 199ms/step - loss: 1.8778 - acc: 0.6187\n"
     ]
    }
   ],
   "source": [
    "test_final = model3.evaluate(X_test, y_test)"
   ]
  },
  {
   "cell_type": "code",
   "execution_count": 39,
   "metadata": {},
   "outputs": [
    {
     "data": {
      "image/png": "[encoded data removed]",
      "text/plain": [
       "<Figure size 432x288 with 1 Axes>"
      ]
     },
     "metadata": {
      "needs_background": "light"
     },
     "output_type": "display_data"
    },
    {
     "data": {
      "image/png": "[encoded data removed]",
      "text/plain": [
       "<Figure size 432x288 with 1 Axes>"
      ]
     },
     "metadata": {
      "needs_background": "light"
     },
     "output_type": "display_data"
    }
   ],
   "source": [
    "visualize_results(results_final)"
   ]
  },
  {
   "cell_type": "code",
   "execution_count": 40,
   "metadata": {},
   "outputs": [
    {
     "data": {
      "image/png": "[encoded data removed]",
      "text/plain": [
       "<Figure size 432x288 with 2 Axes>"
      ]
     },
     "metadata": {
      "needs_background": "light"
     },
     "output_type": "display_data"
    }
   ],
   "source": [
    "\n",
    "final_pred = (model3.predict(X_test) > 0.5).astype(int)\n",
    "plot_matrix(y_test, final_pred);\n"
   ]
  },
  {
   "cell_type": "code",
   "execution_count": 41,
   "metadata": {},
   "outputs": [
    {
     "data": {
      "text/plain": [
       "array([[0.6937288 ],\n",
       "       [0.48421693],\n",
       "       [0.6002889 ],\n",
       "       ...,\n",
       "       [0.48984662],\n",
       "       [0.59098697],\n",
       "       [0.5783496 ]], dtype=float32)"
      ]
     },
     "execution_count": 41,
     "metadata": {},
     "output_type": "execute_result"
    }
   ],
   "source": [
    "#generate model predictions\n",
    "data_pred = model3.predict(data_images)\n",
    "data_pred"
   ]
  },
  {
   "cell_type": "code",
   "execution_count": 44,
   "metadata": {},
   "outputs": [
    {
     "data": {
      "text/html": [
       "<div>\n",
       "<style scoped>\n",
       "    .dataframe tbody tr th:only-of-type {\n",
       "        vertical-align: middle;\n",
       "    }\n",
       "\n",
       "    .dataframe tbody tr th {\n",
       "        vertical-align: top;\n",
       "    }\n",
       "\n",
       "    .dataframe thead th {\n",
       "        text-align: right;\n",
       "    }\n",
       "</style>\n",
       "<table border=\"1\" class=\"dataframe\">\n",
       "  <thead>\n",
       "    <tr style=\"text-align: right;\">\n",
       "      <th></th>\n",
       "      <th>patient_id</th>\n",
       "      <th>prediction</th>\n",
       "    </tr>\n",
       "  </thead>\n",
       "  <tbody>\n",
       "    <tr>\n",
       "      <th>0</th>\n",
       "      <td>deceased\\A003797-211.png</td>\n",
       "      <td>[0.6937288045883179]</td>\n",
       "    </tr>\n",
       "    <tr>\n",
       "      <th>1</th>\n",
       "      <td>deceased\\A003797-213.png</td>\n",
       "      <td>[0.48421692848205566]</td>\n",
       "    </tr>\n",
       "    <tr>\n",
       "      <th>2</th>\n",
       "      <td>deceased\\A003797-215.png</td>\n",
       "      <td>[0.6002889275550842]</td>\n",
       "    </tr>\n",
       "    <tr>\n",
       "      <th>3</th>\n",
       "      <td>deceased\\A003797-217.png</td>\n",
       "      <td>[0.2221185266971588]</td>\n",
       "    </tr>\n",
       "    <tr>\n",
       "      <th>4</th>\n",
       "      <td>deceased\\A003797-219.png</td>\n",
       "      <td>[0.4539777636528015]</td>\n",
       "    </tr>\n",
       "    <tr>\n",
       "      <th>...</th>\n",
       "      <td>...</td>\n",
       "      <td>...</td>\n",
       "    </tr>\n",
       "    <tr>\n",
       "      <th>6685</th>\n",
       "      <td>discharged\\A993649-13609.png</td>\n",
       "      <td>[0.5923764109611511]</td>\n",
       "    </tr>\n",
       "    <tr>\n",
       "      <th>6686</th>\n",
       "      <td>discharged\\A993649-13611.png</td>\n",
       "      <td>[0.7126463651657104]</td>\n",
       "    </tr>\n",
       "    <tr>\n",
       "      <th>6687</th>\n",
       "      <td>discharged\\A993649-13613.png</td>\n",
       "      <td>[0.5944018363952637]</td>\n",
       "    </tr>\n",
       "    <tr>\n",
       "      <th>6688</th>\n",
       "      <td>discharged\\A993649-13615.png</td>\n",
       "      <td>[0.5858060717582703]</td>\n",
       "    </tr>\n",
       "    <tr>\n",
       "      <th>6689</th>\n",
       "      <td>discharged\\A993649-13617.png</td>\n",
       "      <td>[0.6106165051460266]</td>\n",
       "    </tr>\n",
       "  </tbody>\n",
       "</table>\n",
       "<p>6690 rows × 2 columns</p>\n",
       "</div>"
      ],
      "text/plain": [
       "                        patient_id             prediction\n",
       "0         deceased\\A003797-211.png   [0.6937288045883179]\n",
       "1         deceased\\A003797-213.png  [0.48421692848205566]\n",
       "2         deceased\\A003797-215.png   [0.6002889275550842]\n",
       "3         deceased\\A003797-217.png   [0.2221185266971588]\n",
       "4         deceased\\A003797-219.png   [0.4539777636528015]\n",
       "...                            ...                    ...\n",
       "6685  discharged\\A993649-13609.png   [0.5923764109611511]\n",
       "6686  discharged\\A993649-13611.png   [0.7126463651657104]\n",
       "6687  discharged\\A993649-13613.png   [0.5944018363952637]\n",
       "6688  discharged\\A993649-13615.png   [0.5858060717582703]\n",
       "6689  discharged\\A993649-13617.png   [0.6106165051460266]\n",
       "\n",
       "[6690 rows x 2 columns]"
      ]
     },
     "execution_count": 44,
     "metadata": {},
     "output_type": "execute_result"
    }
   ],
   "source": [
    "#correlate predictions to patient IDs and convert to pandas dataframe\n",
    "\n",
    "preds = data_pred.tolist()\n",
    "pred_df = pd.DataFrame({'patient_id':data_generator.filenames, 'prediction':preds})\n",
    "pred_df.head(-10)"
   ]
  },
  {
   "cell_type": "code",
   "execution_count": null,
   "metadata": {},
   "outputs": [],
   "source": [
    "#save predictions as a dataframe  \n",
    "# import os\n",
    "# cwd = os.getcwd()\n",
    "# path = cwd + \"/pred_df.csv\"\n",
    "# pred_df.to_csv(path, index=False)"
   ]
  },
  {
   "cell_type": "markdown",
   "metadata": {},
   "source": [
    "## Summary: \n",
    "Model 3 offered the best overall structure of the tested CNN models. It did not overfit to the testing data and we can predict the likelihood of survival for each patient. It should be noted that since all the images trained and tested against the model are of COVID19+ patients. Without advanced image processing techniques, the similarity of images to one another adds a layer of difficulty for the model to deal with. \n",
    "\n",
    "By increasing computing power, using object detection to account for port presence, and more time to experiment with models, a higher performing model could be created to generate more accurate mortality predictions. The predictions generated by this model will be correlated to the patient IDs in the cleaned features dataframe (df), and used as an additional feature to help predict patient mortality outcomes. "
   ]
  },
  {
   "cell_type": "code",
   "execution_count": null,
   "metadata": {},
   "outputs": [],
   "source": []
  }
 ],
 "metadata": {
  "kernelspec": {
   "display_name": "Python 3",
   "language": "python",
   "name": "python3"
  },
  "language_info": {
   "codemirror_mode": {
    "name": "ipython",
    "version": 3
   },
   "file_extension": ".py",
   "mimetype": "text/x-python",
   "name": "python",
   "nbconvert_exporter": "python",
   "pygments_lexer": "ipython3",
   "version": "3.8.5"
  }
 },
 "nbformat": 4,
 "nbformat_minor": 4
}
