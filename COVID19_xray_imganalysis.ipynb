{
 "cells": [
  {
   "cell_type": "markdown",
   "metadata": {},
   "source": [
    "## X-ray image loading and analysis"
   ]
  },
  {
   "cell_type": "code",
   "execution_count": 1,
   "metadata": {},
   "outputs": [],
   "source": [
    "import pandas as pd\n",
    "import numpy as np\n",
    "import matplotlib.pyplot as plt\n",
    "import os, cv2, json, shutil\n",
    "import tensorflow as tf\n",
    "import seaborn as sns\n",
    "\n",
    "\n",
    "from sklearn.model_selection import train_test_split\n",
    "from sklearn.metrics import confusion_matrix\n",
    "\n",
    "from tensorflow.keras.applications import VGG16\n",
    "from tensorflow.keras.layers import Input\n",
    "from keras.preprocessing import image_dataset_from_directory\n",
    "from keras.preprocessing.image import ImageDataGenerator, array_to_img, img_to_array, load_img\n",
    "from keras import models, layers, regularizers\n",
    "from keras.callbacks import EarlyStopping, ModelCheckpoint"
   ]
  },
  {
   "cell_type": "code",
   "execution_count": 2,
   "metadata": {},
   "outputs": [
    {
     "data": {
      "text/html": [
       "<div>\n",
       "<style scoped>\n",
       "    .dataframe tbody tr th:only-of-type {\n",
       "        vertical-align: middle;\n",
       "    }\n",
       "\n",
       "    .dataframe tbody tr th {\n",
       "        vertical-align: top;\n",
       "    }\n",
       "\n",
       "    .dataframe thead th {\n",
       "        text-align: right;\n",
       "    }\n",
       "</style>\n",
       "<table border=\"1\" class=\"dataframe\">\n",
       "  <thead>\n",
       "    <tr style=\"text-align: right;\">\n",
       "      <th></th>\n",
       "      <th>id</th>\n",
       "      <th>patient_id</th>\n",
       "      <th>enhanced</th>\n",
       "      <th>series</th>\n",
       "      <th>filename</th>\n",
       "    </tr>\n",
       "  </thead>\n",
       "  <tbody>\n",
       "    <tr>\n",
       "      <th>0</th>\n",
       "      <td>IMG00001</td>\n",
       "      <td>A000801</td>\n",
       "      <td>False</td>\n",
       "      <td>01-03-1901-CHEST AP PORT-62879</td>\n",
       "      <td>A000801/01-03-1901-CHEST AP PORT-62879/1.00000...</td>\n",
       "    </tr>\n",
       "    <tr>\n",
       "      <th>1</th>\n",
       "      <td>IMG00002</td>\n",
       "      <td>A000801</td>\n",
       "      <td>True</td>\n",
       "      <td>01-03-1901-CHEST AP PORT-62879</td>\n",
       "      <td>A000801/01-03-1901-CHEST AP PORT-62879/2.00000...</td>\n",
       "    </tr>\n",
       "    <tr>\n",
       "      <th>2</th>\n",
       "      <td>IMG00003</td>\n",
       "      <td>A000801</td>\n",
       "      <td>False</td>\n",
       "      <td>01-03-1901-CHEST AP PORT-62879</td>\n",
       "      <td>A000801/01-03-1901-CHEST AP PORT-62879/3.00000...</td>\n",
       "    </tr>\n",
       "    <tr>\n",
       "      <th>3</th>\n",
       "      <td>IMG00004</td>\n",
       "      <td>A000801</td>\n",
       "      <td>True</td>\n",
       "      <td>01-03-1901-CHEST AP PORT-62879</td>\n",
       "      <td>A000801/01-03-1901-CHEST AP PORT-62879/4.00000...</td>\n",
       "    </tr>\n",
       "    <tr>\n",
       "      <th>4</th>\n",
       "      <td>IMG00005</td>\n",
       "      <td>A000801</td>\n",
       "      <td>False</td>\n",
       "      <td>01-04-1901-CHEST AP PORT-17928</td>\n",
       "      <td>A000801/01-04-1901-CHEST AP PORT-17928/1.00000...</td>\n",
       "    </tr>\n",
       "  </tbody>\n",
       "</table>\n",
       "</div>"
      ],
      "text/plain": [
       "         id patient_id  enhanced                          series  \\\n",
       "0  IMG00001    A000801     False  01-03-1901-CHEST AP PORT-62879   \n",
       "1  IMG00002    A000801      True  01-03-1901-CHEST AP PORT-62879   \n",
       "2  IMG00003    A000801     False  01-03-1901-CHEST AP PORT-62879   \n",
       "3  IMG00004    A000801      True  01-03-1901-CHEST AP PORT-62879   \n",
       "4  IMG00005    A000801     False  01-04-1901-CHEST AP PORT-17928   \n",
       "\n",
       "                                            filename  \n",
       "0  A000801/01-03-1901-CHEST AP PORT-62879/1.00000...  \n",
       "1  A000801/01-03-1901-CHEST AP PORT-62879/2.00000...  \n",
       "2  A000801/01-03-1901-CHEST AP PORT-62879/3.00000...  \n",
       "3  A000801/01-03-1901-CHEST AP PORT-62879/4.00000...  \n",
       "4  A000801/01-04-1901-CHEST AP PORT-17928/1.00000...  "
      ]
     },
     "execution_count": 2,
     "metadata": {},
     "output_type": "execute_result"
    }
   ],
   "source": [
    "metadata = pd.read_csv('COVID19_SBU/metadata.csv')\n",
    "\n",
    "metadata.head(5)"
   ]
  },
  {
   "cell_type": "code",
   "execution_count": 3,
   "metadata": {},
   "outputs": [
    {
     "data": {
      "text/plain": [
       "'A000801/01-03-1901-CHEST AP PORT-62879/1.000000-AP-12195/1-1.png'"
      ]
     },
     "execution_count": 3,
     "metadata": {},
     "output_type": "execute_result"
    }
   ],
   "source": [
    "metadata['filename'][0]"
   ]
  },
  {
   "cell_type": "code",
   "execution_count": 4,
   "metadata": {},
   "outputs": [
    {
     "data": {
      "text/plain": [
       "False    6938\n",
       "True     6700\n",
       "Name: enhanced, dtype: int64"
      ]
     },
     "execution_count": 4,
     "metadata": {},
     "output_type": "execute_result"
    }
   ],
   "source": [
    "metadata['enhanced'].value_counts()"
   ]
  },
  {
   "cell_type": "code",
   "execution_count": 5,
   "metadata": {},
   "outputs": [
    {
     "name": "stdout",
     "output_type": "stream",
     "text": [
      "<class 'pandas.core.frame.DataFrame'>\n",
      "RangeIndex: 13638 entries, 0 to 13637\n",
      "Data columns (total 5 columns):\n",
      " #   Column      Non-Null Count  Dtype \n",
      "---  ------      --------------  ----- \n",
      " 0   id          13638 non-null  object\n",
      " 1   patient_id  13638 non-null  object\n",
      " 2   enhanced    13638 non-null  bool  \n",
      " 3   series      13638 non-null  object\n",
      " 4   filename    13638 non-null  object\n",
      "dtypes: bool(1), object(4)\n",
      "memory usage: 439.6+ KB\n"
     ]
    }
   ],
   "source": [
    "metadata.info()"
   ]
  },
  {
   "cell_type": "code",
   "execution_count": 6,
   "metadata": {},
   "outputs": [
    {
     "data": {
      "text/plain": [
       "Index(['id', 'patient_id', 'enhanced', 'series', 'filename'], dtype='object')"
      ]
     },
     "execution_count": 6,
     "metadata": {},
     "output_type": "execute_result"
    }
   ],
   "source": [
    "metadata.columns"
   ]
  },
  {
   "cell_type": "code",
   "execution_count": 7,
   "metadata": {},
   "outputs": [
    {
     "data": {
      "text/plain": [
       "A860070    236\n",
       "A763364    183\n",
       "A221230    175\n",
       "A701295    174\n",
       "A766483    173\n",
       "          ... \n",
       "A327819      1\n",
       "A685471      1\n",
       "A974180      1\n",
       "A776010      1\n",
       "A031437      1\n",
       "Name: patient_id, Length: 1365, dtype: int64"
      ]
     },
     "execution_count": 7,
     "metadata": {},
     "output_type": "execute_result"
    }
   ],
   "source": [
    "metadata.patient_id.value_counts()"
   ]
  },
  {
   "cell_type": "code",
   "execution_count": 8,
   "metadata": {},
   "outputs": [
    {
     "data": {
      "text/plain": [
       "1365"
      ]
     },
     "execution_count": 8,
     "metadata": {},
     "output_type": "execute_result"
    }
   ],
   "source": [
    "len(metadata.patient_id.unique())"
   ]
  },
  {
   "cell_type": "code",
   "execution_count": 9,
   "metadata": {},
   "outputs": [
    {
     "data": {
      "text/html": [
       "<div>\n",
       "<style scoped>\n",
       "    .dataframe tbody tr th:only-of-type {\n",
       "        vertical-align: middle;\n",
       "    }\n",
       "\n",
       "    .dataframe tbody tr th {\n",
       "        vertical-align: top;\n",
       "    }\n",
       "\n",
       "    .dataframe thead th {\n",
       "        text-align: right;\n",
       "    }\n",
       "</style>\n",
       "<table border=\"1\" class=\"dataframe\">\n",
       "  <thead>\n",
       "    <tr style=\"text-align: right;\">\n",
       "      <th></th>\n",
       "      <th>id</th>\n",
       "      <th>patient_id</th>\n",
       "      <th>enhanced</th>\n",
       "      <th>series</th>\n",
       "      <th>filename</th>\n",
       "    </tr>\n",
       "  </thead>\n",
       "  <tbody>\n",
       "    <tr>\n",
       "      <th>1</th>\n",
       "      <td>IMG00002</td>\n",
       "      <td>A000801</td>\n",
       "      <td>True</td>\n",
       "      <td>01-03-1901-CHEST AP PORT-62879</td>\n",
       "      <td>A000801/01-03-1901-CHEST AP PORT-62879/2.00000...</td>\n",
       "    </tr>\n",
       "    <tr>\n",
       "      <th>3</th>\n",
       "      <td>IMG00004</td>\n",
       "      <td>A000801</td>\n",
       "      <td>True</td>\n",
       "      <td>01-03-1901-CHEST AP PORT-62879</td>\n",
       "      <td>A000801/01-03-1901-CHEST AP PORT-62879/4.00000...</td>\n",
       "    </tr>\n",
       "    <tr>\n",
       "      <th>5</th>\n",
       "      <td>IMG00006</td>\n",
       "      <td>A000801</td>\n",
       "      <td>True</td>\n",
       "      <td>01-04-1901-CHEST AP PORT-17928</td>\n",
       "      <td>A000801/01-04-1901-CHEST AP PORT-17928/2.00000...</td>\n",
       "    </tr>\n",
       "    <tr>\n",
       "      <th>7</th>\n",
       "      <td>IMG00008</td>\n",
       "      <td>A000801</td>\n",
       "      <td>True</td>\n",
       "      <td>01-04-1901-CHEST AP PORT-17928</td>\n",
       "      <td>A000801/01-04-1901-CHEST AP PORT-17928/4.00000...</td>\n",
       "    </tr>\n",
       "    <tr>\n",
       "      <th>9</th>\n",
       "      <td>IMG00010</td>\n",
       "      <td>A000801</td>\n",
       "      <td>True</td>\n",
       "      <td>01-04-1901-CHEST AP PORT-38592</td>\n",
       "      <td>A000801/01-04-1901-CHEST AP PORT-38592/2.00000...</td>\n",
       "    </tr>\n",
       "  </tbody>\n",
       "</table>\n",
       "</div>"
      ],
      "text/plain": [
       "         id patient_id  enhanced                          series  \\\n",
       "1  IMG00002    A000801      True  01-03-1901-CHEST AP PORT-62879   \n",
       "3  IMG00004    A000801      True  01-03-1901-CHEST AP PORT-62879   \n",
       "5  IMG00006    A000801      True  01-04-1901-CHEST AP PORT-17928   \n",
       "7  IMG00008    A000801      True  01-04-1901-CHEST AP PORT-17928   \n",
       "9  IMG00010    A000801      True  01-04-1901-CHEST AP PORT-38592   \n",
       "\n",
       "                                            filename  \n",
       "1  A000801/01-03-1901-CHEST AP PORT-62879/2.00000...  \n",
       "3  A000801/01-03-1901-CHEST AP PORT-62879/4.00000...  \n",
       "5  A000801/01-04-1901-CHEST AP PORT-17928/2.00000...  \n",
       "7  A000801/01-04-1901-CHEST AP PORT-17928/4.00000...  \n",
       "9  A000801/01-04-1901-CHEST AP PORT-38592/2.00000...  "
      ]
     },
     "execution_count": 9,
     "metadata": {},
     "output_type": "execute_result"
    }
   ],
   "source": [
    "#only keep enhanced images\n",
    "metadata.drop(metadata[metadata['enhanced'] == False].index, inplace=True)\n",
    "metadata.head()"
   ]
  },
  {
   "cell_type": "code",
   "execution_count": 10,
   "metadata": {},
   "outputs": [
    {
     "data": {
      "text/plain": [
       "(6700, 5)"
      ]
     },
     "execution_count": 10,
     "metadata": {},
     "output_type": "execute_result"
    }
   ],
   "source": [
    "metadata.shape"
   ]
  },
  {
   "cell_type": "code",
   "execution_count": null,
   "metadata": {},
   "outputs": [],
   "source": []
  },
  {
   "cell_type": "code",
   "execution_count": null,
   "metadata": {},
   "outputs": [],
   "source": []
  },
  {
   "cell_type": "code",
   "execution_count": null,
   "metadata": {},
   "outputs": [],
   "source": []
  },
  {
   "cell_type": "code",
   "execution_count": null,
   "metadata": {},
   "outputs": [],
   "source": []
  }
 ],
 "metadata": {
  "kernelspec": {
   "display_name": "Python 3",
   "language": "python",
   "name": "python3"
  },
  "language_info": {
   "codemirror_mode": {
    "name": "ipython",
    "version": 3
   },
   "file_extension": ".py",
   "mimetype": "text/x-python",
   "name": "python",
   "nbconvert_exporter": "python",
   "pygments_lexer": "ipython3",
   "version": "3.8.5"
  }
 },
 "nbformat": 4,
 "nbformat_minor": 4
}
