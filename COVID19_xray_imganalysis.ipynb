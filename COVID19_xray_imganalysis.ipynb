{
 "cells": [
  {
   "cell_type": "markdown",
   "metadata": {},
   "source": [
    "## X-ray image loading and analysis"
   ]
  },
  {
   "cell_type": "code",
   "execution_count": 1,
   "metadata": {},
   "outputs": [],
   "source": [
    "import pandas as pd\n",
    "import numpy as np\n",
    "import matplotlib.pyplot as plt \n",
    "import tensorflow as tf\n",
    "import seaborn as sns\n",
    "import keras\n",
    "\n",
    "from sklearn.model_selection import train_test_split\n",
    "from sklearn.metrics import confusion_matrix\n",
    "from sklearn.dummy import DummyClassifier\n",
    "\n",
    "\n",
    "from tensorflow.keras.layers import Input\n",
    "from keras.preprocessing import image_dataset_from_directory\n",
    "from keras.preprocessing.image import ImageDataGenerator, array_to_img, img_to_array, load_img\n",
    "from keras import models, layers, regularizers\n",
    "from keras.callbacks import EarlyStopping"
   ]
  },
  {
   "cell_type": "markdown",
   "metadata": {},
   "source": [
    "### Now that the files have been moved to their respective labels, we can use the image generator to begin modeling analysis"
   ]
  },
  {
   "cell_type": "code",
   "execution_count": 41,
   "metadata": {},
   "outputs": [
    {
     "name": "stdout",
     "output_type": "stream",
     "text": [
      "Found 6700 images belonging to 2 classes.\n"
     ]
    },
    {
     "name": "stderr",
     "output_type": "stream",
     "text": [
      "C:\\Users\\Adonis McQueen\\anaconda3\\envs\\learn-env\\lib\\site-packages\\keras_preprocessing\\image\\image_data_generator.py:720: UserWarning: This ImageDataGenerator specifies `featurewise_center`, but it hasn't been fit on any training data. Fit it first by calling `.fit(numpy_data)`.\n",
      "  warnings.warn('This ImageDataGenerator specifies '\n"
     ]
    }
   ],
   "source": [
    "data_dir = 'Classes'\n",
    "\n",
    "\n",
    "#create test generator for final model evaluation(20% of entire dataset)\n",
    "data_generator = ImageDataGenerator(1./255).flow_from_directory(\n",
    "       data_dir, \n",
    "       target_size=(128, 128), batch_size=6700, color_mode='grayscale', class_mode='binary')\n",
    "\n",
    "# #create train generator for model training and validation(80% of dataset). Will create validation split with TTS from train set\n",
    "# train_generator = ImageDataGenerator(1./255).flow_from_directory(\n",
    "#        data_dir, \n",
    "#        target_size=(128, 128), batch_size=5360, color_mode='grayscale', class_mode='binary').\n",
    "\n",
    "#Create the datasets\n",
    "data_images, data_labels = next(data_generator)\n",
    "# test_images, test_labels = next(test_generator)"
   ]
  },
  {
   "cell_type": "code",
   "execution_count": 42,
   "metadata": {},
   "outputs": [
    {
     "data": {
      "image/png": "[encoded data removed]",
      "text/plain": [
       "<PIL.Image.Image image mode=L size=128x128 at 0x258961330A0>"
      ]
     },
     "execution_count": 42,
     "metadata": {},
     "output_type": "execute_result"
    }
   ],
   "source": [
    "#sample photo\n",
    "array_to_img(data_images[0])"
   ]
  },
  {
   "cell_type": "code",
   "execution_count": 43,
   "metadata": {},
   "outputs": [
    {
     "data": {
      "text/plain": [
       "{'deceased': 0, 'discharged': 1}"
      ]
     },
     "execution_count": 43,
     "metadata": {},
     "output_type": "execute_result"
    }
   ],
   "source": [
    "#labels\n",
    "data_generator.class_indices"
   ]
  },
  {
   "cell_type": "markdown",
   "metadata": {},
   "source": [
    "#### checking image and label shapes for model creation"
   ]
  },
  {
   "cell_type": "code",
   "execution_count": 44,
   "metadata": {},
   "outputs": [
    {
     "data": {
      "text/plain": [
       "(6700, 128, 128, 1)"
      ]
     },
     "execution_count": 44,
     "metadata": {},
     "output_type": "execute_result"
    }
   ],
   "source": [
    "data_images.shape"
   ]
  },
  {
   "cell_type": "code",
   "execution_count": 45,
   "metadata": {},
   "outputs": [
    {
     "data": {
      "text/plain": [
       "(6700,)"
      ]
     },
     "execution_count": 45,
     "metadata": {},
     "output_type": "execute_result"
    }
   ],
   "source": [
    "data_labels.shape"
   ]
  },
  {
   "cell_type": "code",
   "execution_count": 7,
   "metadata": {},
   "outputs": [
    {
     "data": {
      "text/plain": [
       "(1340, 128, 128, 1)"
      ]
     },
     "execution_count": 7,
     "metadata": {},
     "output_type": "execute_result"
    }
   ],
   "source": [
    "# test_images.shape"
   ]
  },
  {
   "cell_type": "code",
   "execution_count": 8,
   "metadata": {},
   "outputs": [
    {
     "data": {
      "text/plain": [
       "(1340,)"
      ]
     },
     "execution_count": 8,
     "metadata": {},
     "output_type": "execute_result"
    }
   ],
   "source": [
    "# test_labels.shape"
   ]
  },
  {
   "cell_type": "markdown",
   "metadata": {},
   "source": [
    "#### Creating validation data from TTS in order to train CNN models"
   ]
  },
  {
   "cell_type": "code",
   "execution_count": 70,
   "metadata": {},
   "outputs": [],
   "source": [
    "#train test split to generate training and test data\n",
    "\n",
    "X = data_images\n",
    "y = data_labels\n",
    "\n",
    "X_train, X_test, y_train, y_test = train_test_split(X, y, test_size=0.2, random_state=42)"
   ]
  },
  {
   "cell_type": "code",
   "execution_count": 71,
   "metadata": {},
   "outputs": [],
   "source": [
    "#creating 2nd train and validation set from initial training set\n",
    "\n",
    "x = X_train\n",
    "Y = y_train\n",
    "\n",
    "X_train2, X_val, y_train2, y_val = train_test_split(x, Y, test_size=0.2, random_state=42)"
   ]
  },
  {
   "cell_type": "code",
   "execution_count": 73,
   "metadata": {},
   "outputs": [
    {
     "name": "stdout",
     "output_type": "stream",
     "text": [
      "(4288, 128, 128, 1)\n",
      "(1072, 128, 128, 1)\n",
      "(4288,)\n",
      "(1072,)\n"
     ]
    }
   ],
   "source": [
    "#investigating shapes of train and validation sets\n",
    "print(np.shape(X_train2))\n",
    "print(np.shape(X_val))\n",
    "print(np.shape(y_train2))\n",
    "print(np.shape(y_val))"
   ]
  },
  {
   "cell_type": "code",
   "execution_count": 48,
   "metadata": {},
   "outputs": [],
   "source": [
    "#function to plot epochs vs loss and accuracy for train and validation/test set\n",
    "def visualize_results(results):\n",
    "    history = results.history\n",
    "    plt.figure()\n",
    "    plt.plot(history['val_loss'])\n",
    "    plt.plot(history['loss'])\n",
    "    plt.legend(['test_loss', 'train_loss'])\n",
    "    plt.title('Epochs vs Loss')\n",
    "    plt.xlabel('Epochs')\n",
    "    plt.ylabel('Loss')\n",
    "    plt.show();\n",
    "    \n",
    "    plt.figure()\n",
    "    plt.plot(history['val_acc'])\n",
    "    plt.plot(history['acc'])\n",
    "    plt.legend(['test_acc', 'train_acc'])\n",
    "    plt.title('Epochs vs Accuracy')\n",
    "    plt.xlabel('Epochs')\n",
    "    plt.ylabel('Accuracy')\n",
    "    plt.show();"
   ]
  },
  {
   "cell_type": "code",
   "execution_count": 135,
   "metadata": {},
   "outputs": [],
   "source": [
    "def plot_matrix(y_true, y_pred):\n",
    "    matrix = confusion_matrix(y_true, y_pred)\n",
    "    \n",
    "    return sns.heatmap(matrix, annot=True, cmap='BuPu', fmt='.4g', xticklabels=['Deceased', 'Discharged'], \n",
    "                       yticklabels=['Deceased', 'Discharged']), plt.yticks(rotation=0)"
   ]
  },
  {
   "cell_type": "markdown",
   "metadata": {},
   "source": [
    "## Baseline dummy classifier"
   ]
  },
  {
   "cell_type": "code",
   "execution_count": 74,
   "metadata": {},
   "outputs": [
    {
     "data": {
      "text/plain": [
       "array([1., 1., 1., ..., 1., 1., 1.], dtype=float32)"
      ]
     },
     "execution_count": 74,
     "metadata": {},
     "output_type": "execute_result"
    }
   ],
   "source": [
    "#dummy classifier to compare baseline models to\n",
    "\n",
    "\n",
    "dummy = DummyClassifier(strategy='most_frequent')\n",
    "dummy.fit(X_train2, y_train2)\n",
    "dummy.predict(X_val)"
   ]
  },
  {
   "cell_type": "code",
   "execution_count": 75,
   "metadata": {},
   "outputs": [
    {
     "data": {
      "text/plain": [
       "0.6194029850746269"
      ]
     },
     "execution_count": 75,
     "metadata": {},
     "output_type": "execute_result"
    }
   ],
   "source": [
    "#dummy classifier score\n",
    "dummy.score(X_val, y_val)"
   ]
  },
  {
   "cell_type": "markdown",
   "metadata": {},
   "source": [
    "### To start, a simple CNN model will be used with no dropouts or multiple dense layers."
   ]
  },
  {
   "cell_type": "code",
   "execution_count": 76,
   "metadata": {},
   "outputs": [],
   "source": [
    "#baseline CNN model\n",
    "np.random.seed(424)\n",
    "model = models.Sequential()\n",
    "model.add(layers.Conv2D(32, (3,3), activation='relu',\n",
    "                        input_shape=(128, 128, 1)))\n",
    "model.add(layers.MaxPooling2D((2, 2)))\n",
    "\n",
    "model.add(layers.Flatten())\n",
    "model.add(layers.Dense(64, activation='relu'))\n",
    "model.add(layers.Dense(1, activation='sigmoid'))"
   ]
  },
  {
   "cell_type": "code",
   "execution_count": 107,
   "metadata": {},
   "outputs": [
    {
     "name": "stdout",
     "output_type": "stream",
     "text": [
      "Model: \"sequential_10\"\n",
      "_________________________________________________________________\n",
      "Layer (type)                 Output Shape              Param #   \n",
      "=================================================================\n",
      "conv2d_25 (Conv2D)           (None, 126, 126, 32)      320       \n",
      "_________________________________________________________________\n",
      "max_pooling2d_25 (MaxPooling (None, 63, 63, 32)        0         \n",
      "_________________________________________________________________\n",
      "flatten_10 (Flatten)         (None, 127008)            0         \n",
      "_________________________________________________________________\n",
      "dense_20 (Dense)             (None, 64)                8128576   \n",
      "_________________________________________________________________\n",
      "dense_21 (Dense)             (None, 1)                 65        \n",
      "=================================================================\n",
      "Total params: 8,128,961\n",
      "Trainable params: 8,128,961\n",
      "Non-trainable params: 0\n",
      "_________________________________________________________________\n"
     ]
    }
   ],
   "source": [
    "model.summary()"
   ]
  },
  {
   "cell_type": "markdown",
   "metadata": {},
   "source": [
    "### Accuracy will be the primary metric of evaluation. A low learning rate is used to improve model learning. SGD is the preferred optimizer; previous iterations with Adam yielded lower accuracy rates."
   ]
  },
  {
   "cell_type": "code",
   "execution_count": 77,
   "metadata": {
    "scrolled": true
   },
   "outputs": [
    {
     "name": "stdout",
     "output_type": "stream",
     "text": [
      "Epoch 1/50\n",
      "34/34 [==============================] - 14s 412ms/step - loss: 10.1109 - acc: 0.5257 - val_loss: 0.7222 - val_acc: 0.5578\n",
      "Epoch 2/50\n",
      "34/34 [==============================] - 14s 408ms/step - loss: 0.6944 - acc: 0.5795 - val_loss: 0.6929 - val_acc: 0.5868\n",
      "Epoch 3/50\n",
      "34/34 [==============================] - 14s 403ms/step - loss: 0.6741 - acc: 0.5951 - val_loss: 0.6896 - val_acc: 0.5896\n",
      "Epoch 4/50\n",
      "34/34 [==============================] - 14s 399ms/step - loss: 0.6644 - acc: 0.6073 - val_loss: 0.6873 - val_acc: 0.5989\n",
      "Epoch 5/50\n",
      "34/34 [==============================] - 14s 401ms/step - loss: 0.6555 - acc: 0.6199 - val_loss: 0.6860 - val_acc: 0.5989\n",
      "Epoch 6/50\n",
      "34/34 [==============================] - 14s 402ms/step - loss: 0.6472 - acc: 0.6297 - val_loss: 0.6835 - val_acc: 0.6007\n",
      "Epoch 7/50\n",
      "34/34 [==============================] - 14s 399ms/step - loss: 0.6388 - acc: 0.6369 - val_loss: 0.6815 - val_acc: 0.6101\n",
      "Epoch 8/50\n",
      "34/34 [==============================] - 14s 401ms/step - loss: 0.6304 - acc: 0.6483 - val_loss: 0.6808 - val_acc: 0.6026\n",
      "Epoch 9/50\n",
      "34/34 [==============================] - 14s 403ms/step - loss: 0.6222 - acc: 0.6542 - val_loss: 0.6793 - val_acc: 0.6054\n",
      "Epoch 10/50\n",
      "34/34 [==============================] - 14s 402ms/step - loss: 0.6141 - acc: 0.6604 - val_loss: 0.6786 - val_acc: 0.5998\n",
      "Epoch 11/50\n",
      "34/34 [==============================] - 14s 399ms/step - loss: 0.6063 - acc: 0.6670 - val_loss: 0.6770 - val_acc: 0.6017\n",
      "Epoch 12/50\n",
      "34/34 [==============================] - 14s 399ms/step - loss: 0.5982 - acc: 0.6733 - val_loss: 0.6752 - val_acc: 0.6026\n",
      "Epoch 13/50\n",
      "34/34 [==============================] - 14s 400ms/step - loss: 0.5906 - acc: 0.6805 - val_loss: 0.6746 - val_acc: 0.6054\n",
      "Epoch 14/50\n",
      "34/34 [==============================] - 14s 400ms/step - loss: 0.5830 - acc: 0.6861 - val_loss: 0.6739 - val_acc: 0.6091\n",
      "Epoch 15/50\n",
      "34/34 [==============================] - 14s 400ms/step - loss: 0.5756 - acc: 0.6950 - val_loss: 0.6731 - val_acc: 0.6063\n",
      "Epoch 16/50\n",
      "34/34 [==============================] - 14s 399ms/step - loss: 0.5683 - acc: 0.7020 - val_loss: 0.6725 - val_acc: 0.6045\n",
      "Epoch 17/50\n",
      "34/34 [==============================] - 14s 401ms/step - loss: 0.5610 - acc: 0.7087 - val_loss: 0.6710 - val_acc: 0.6063\n",
      "Epoch 18/50\n",
      "34/34 [==============================] - 14s 402ms/step - loss: 0.5540 - acc: 0.7139 - val_loss: 0.6703 - val_acc: 0.6082\n",
      "Epoch 19/50\n",
      "34/34 [==============================] - 14s 400ms/step - loss: 0.5467 - acc: 0.7206 - val_loss: 0.6699 - val_acc: 0.6091\n",
      "Epoch 20/50\n",
      "34/34 [==============================] - 14s 406ms/step - loss: 0.5396 - acc: 0.7271 - val_loss: 0.6691 - val_acc: 0.6054\n",
      "Epoch 21/50\n",
      "34/34 [==============================] - 14s 401ms/step - loss: 0.5328 - acc: 0.7337 - val_loss: 0.6687 - val_acc: 0.6082\n",
      "Epoch 22/50\n",
      "34/34 [==============================] - 14s 401ms/step - loss: 0.5256 - acc: 0.7402 - val_loss: 0.6671 - val_acc: 0.6147\n",
      "Epoch 23/50\n",
      "34/34 [==============================] - 14s 401ms/step - loss: 0.5191 - acc: 0.7486 - val_loss: 0.6673 - val_acc: 0.6129\n",
      "Epoch 24/50\n",
      "34/34 [==============================] - 14s 404ms/step - loss: 0.5125 - acc: 0.7528 - val_loss: 0.6672 - val_acc: 0.6185\n",
      "Epoch 25/50\n",
      "34/34 [==============================] - 14s 404ms/step - loss: 0.5061 - acc: 0.7603 - val_loss: 0.6672 - val_acc: 0.6147\n",
      "Epoch 26/50\n",
      "34/34 [==============================] - 14s 400ms/step - loss: 0.4998 - acc: 0.7666 - val_loss: 0.6674 - val_acc: 0.6166\n",
      "Epoch 27/50\n",
      "34/34 [==============================] - 14s 404ms/step - loss: 0.4933 - acc: 0.7694 - val_loss: 0.6664 - val_acc: 0.6231\n",
      "Epoch 28/50\n",
      "34/34 [==============================] - 14s 404ms/step - loss: 0.4872 - acc: 0.7740 - val_loss: 0.6659 - val_acc: 0.6222\n",
      "Epoch 29/50\n",
      "34/34 [==============================] - 14s 403ms/step - loss: 0.4809 - acc: 0.7801 - val_loss: 0.6666 - val_acc: 0.6250\n",
      "Epoch 30/50\n",
      "34/34 [==============================] - 14s 402ms/step - loss: 0.4749 - acc: 0.7850 - val_loss: 0.6661 - val_acc: 0.6222\n",
      "Epoch 31/50\n",
      "34/34 [==============================] - 14s 405ms/step - loss: 0.4688 - acc: 0.7910 - val_loss: 0.6660 - val_acc: 0.6222\n",
      "Epoch 32/50\n",
      "34/34 [==============================] - 14s 402ms/step - loss: 0.4624 - acc: 0.7990 - val_loss: 0.6684 - val_acc: 0.6231\n",
      "Epoch 33/50\n",
      "34/34 [==============================] - 14s 405ms/step - loss: 0.4564 - acc: 0.8062 - val_loss: 0.6664 - val_acc: 0.6203\n",
      "Epoch 34/50\n",
      "34/34 [==============================] - 14s 402ms/step - loss: 0.4507 - acc: 0.8095 - val_loss: 0.6697 - val_acc: 0.6213\n",
      "Epoch 35/50\n",
      "34/34 [==============================] - 14s 403ms/step - loss: 0.4446 - acc: 0.8148 - val_loss: 0.6693 - val_acc: 0.6222\n",
      "Epoch 36/50\n",
      "34/34 [==============================] - 14s 403ms/step - loss: 0.4393 - acc: 0.8193 - val_loss: 0.6671 - val_acc: 0.6269\n",
      "Epoch 37/50\n",
      "34/34 [==============================] - 14s 403ms/step - loss: 0.4331 - acc: 0.8239 - val_loss: 0.6686 - val_acc: 0.6241\n",
      "Epoch 38/50\n",
      "34/34 [==============================] - 14s 403ms/step - loss: 0.4275 - acc: 0.8300 - val_loss: 0.6685 - val_acc: 0.6278\n"
     ]
    }
   ],
   "source": [
    "#compile and fit the training data, then validate the fit with validation data\n",
    "early_stopping = [EarlyStopping(monitor='val_loss', patience=10)]\n",
    "optimizer = keras.optimizers.SGD(lr=0.0001)\n",
    "model.compile(optimizer=optimizer,\n",
    "              loss='binary_crossentropy',\n",
    "              metrics=['acc'])\n",
    "\n",
    "results = model.fit(X_train2,\n",
    "                    y_train2,\n",
    "                    callbacks=early_stopping,\n",
    "                    epochs=50,\n",
    "                    batch_size=128,\n",
    "                    validation_data=(X_val, y_val), shuffle=False)"
   ]
  },
  {
   "cell_type": "markdown",
   "metadata": {},
   "source": [
    "#### Model results with train and validation sets"
   ]
  },
  {
   "cell_type": "code",
   "execution_count": 78,
   "metadata": {},
   "outputs": [
    {
     "name": "stdout",
     "output_type": "stream",
     "text": [
      "134/134 [==============================] - 5s 35ms/step - loss: 0.4254 - acc: 0.8088\n"
     ]
    }
   ],
   "source": [
    "results_train = model.evaluate(X_train2, y_train2)"
   ]
  },
  {
   "cell_type": "code",
   "execution_count": 79,
   "metadata": {},
   "outputs": [
    {
     "name": "stdout",
     "output_type": "stream",
     "text": [
      "34/34 [==============================] - 1s 35ms/step - loss: 0.6685 - acc: 0.6278\n"
     ]
    }
   ],
   "source": [
    "results_val = model.evaluate(X_val, y_val)"
   ]
  },
  {
   "cell_type": "markdown",
   "metadata": {},
   "source": [
    "#### Visualizing results"
   ]
  },
  {
   "cell_type": "code",
   "execution_count": 80,
   "metadata": {},
   "outputs": [
    {
     "data": {
      "image/png": "[encoded data removed]",
      "text/plain": [
       "<Figure size 432x288 with 1 Axes>"
      ]
     },
     "metadata": {
      "needs_background": "light"
     },
     "output_type": "display_data"
    },
    {
     "data": {
      "image/png": "[encoded data removed]",
      "text/plain": [
       "<Figure size 432x288 with 1 Axes>"
      ]
     },
     "metadata": {
      "needs_background": "light"
     },
     "output_type": "display_data"
    }
   ],
   "source": [
    "visualize_results(results)"
   ]
  },
  {
   "cell_type": "code",
   "execution_count": 136,
   "metadata": {},
   "outputs": [
    {
     "data": {
      "text/plain": [
       "(<AxesSubplot:>,\n",
       " (array([0.5, 1.5]), [Text(0, 0.5, 'Deceased'), Text(0, 1.5, 'Discharged')]))"
      ]
     },
     "execution_count": 136,
     "metadata": {},
     "output_type": "execute_result"
    },
    {
     "data": {
      "image/png": "[encoded data removed]",
      "text/plain": [
       "<Figure size 432x288 with 2 Axes>"
      ]
     },
     "metadata": {
      "needs_background": "light"
     },
     "output_type": "display_data"
    }
   ],
   "source": [
    "#confusion matrix for model predictions\n",
    "\n",
    "label_pred = (model.predict(X_val) > 0.5).astype(int)\n",
    "\n",
    "plot_matrix(y_val, label_pred)\n",
    "\n"
   ]
  },
  {
   "cell_type": "markdown",
   "metadata": {},
   "source": [
    "### Insight: This model appears to begin overfitting to the training data, and the validation accuracy does not increase. Will adding addtional convolution layers increase performance?"
   ]
  },
  {
   "cell_type": "code",
   "execution_count": 82,
   "metadata": {},
   "outputs": [],
   "source": [
    "# Increasing convolutional layers\n",
    "np.random.seed(424)\n",
    "model2 = models.Sequential()\n",
    "model2.add(layers.Conv2D(32, (3, 3), activation='relu', input_shape=(128, 128, 1)))\n",
    "model2.add(layers.MaxPooling2D((2, 2)))\n",
    "model2.add(layers.Conv2D(16, (4, 4), activation='relu'))\n",
    "model2.add(layers.MaxPooling2D((2, 2)))\n",
    "model2.add(layers.Conv2D(64, (2, 2), activation='relu'))\n",
    "model2.add(layers.MaxPooling2D((3, 3)))\n",
    "\n",
    "model2.add(layers.Flatten())\n",
    "model2.add(layers.Dense(96, activation='relu'))\n",
    "model2.add(layers.Dense(1, activation='sigmoid'))"
   ]
  },
  {
   "cell_type": "code",
   "execution_count": 108,
   "metadata": {
    "scrolled": true
   },
   "outputs": [
    {
     "name": "stdout",
     "output_type": "stream",
     "text": [
      "Model: \"sequential_8\"\n",
      "_________________________________________________________________\n",
      "Layer (type)                 Output Shape              Param #   \n",
      "=================================================================\n",
      "conv2d_18 (Conv2D)           (None, 126, 126, 32)      320       \n",
      "_________________________________________________________________\n",
      "max_pooling2d_18 (MaxPooling (None, 63, 63, 32)        0         \n",
      "_________________________________________________________________\n",
      "conv2d_19 (Conv2D)           (None, 60, 60, 16)        8208      \n",
      "_________________________________________________________________\n",
      "max_pooling2d_19 (MaxPooling (None, 30, 30, 16)        0         \n",
      "_________________________________________________________________\n",
      "conv2d_20 (Conv2D)           (None, 29, 29, 64)        4160      \n",
      "_________________________________________________________________\n",
      "max_pooling2d_20 (MaxPooling (None, 9, 9, 64)          0         \n",
      "_________________________________________________________________\n",
      "flatten_8 (Flatten)          (None, 5184)              0         \n",
      "_________________________________________________________________\n",
      "dense_16 (Dense)             (None, 96)                497760    \n",
      "_________________________________________________________________\n",
      "dense_17 (Dense)             (None, 1)                 97        \n",
      "=================================================================\n",
      "Total params: 510,545\n",
      "Trainable params: 510,545\n",
      "Non-trainable params: 0\n",
      "_________________________________________________________________\n"
     ]
    }
   ],
   "source": [
    "model2.summary()"
   ]
  },
  {
   "cell_type": "code",
   "execution_count": 83,
   "metadata": {
    "scrolled": true
   },
   "outputs": [
    {
     "name": "stdout",
     "output_type": "stream",
     "text": [
      "Epoch 1/50\n",
      "34/34 [==============================] - 27s 808ms/step - loss: 1.7252 - acc: 0.5161 - val_loss: 1.3767 - val_acc: 0.4086\n",
      "Epoch 2/50\n",
      "34/34 [==============================] - 27s 804ms/step - loss: 1.1940 - acc: 0.5063 - val_loss: 1.3217 - val_acc: 0.4114\n",
      "Epoch 3/50\n",
      "34/34 [==============================] - 27s 803ms/step - loss: 1.1598 - acc: 0.5072 - val_loss: 1.2794 - val_acc: 0.4142\n",
      "Epoch 4/50\n",
      "34/34 [==============================] - 27s 800ms/step - loss: 1.1318 - acc: 0.5091 - val_loss: 1.2447 - val_acc: 0.4170\n",
      "Epoch 5/50\n",
      "34/34 [==============================] - 27s 801ms/step - loss: 1.1088 - acc: 0.5100 - val_loss: 1.2134 - val_acc: 0.4170\n",
      "Epoch 6/50\n",
      "34/34 [==============================] - 27s 800ms/step - loss: 1.0892 - acc: 0.5131 - val_loss: 1.1853 - val_acc: 0.4198\n",
      "Epoch 7/50\n",
      "34/34 [==============================] - 27s 805ms/step - loss: 1.0714 - acc: 0.5170 - val_loss: 1.1618 - val_acc: 0.4198\n",
      "Epoch 8/50\n",
      "34/34 [==============================] - 27s 803ms/step - loss: 1.0556 - acc: 0.5196 - val_loss: 1.1393 - val_acc: 0.4235\n",
      "Epoch 9/50\n",
      "34/34 [==============================] - 27s 800ms/step - loss: 1.0415 - acc: 0.5229 - val_loss: 1.1220 - val_acc: 0.4310\n",
      "Epoch 10/50\n",
      "34/34 [==============================] - 27s 802ms/step - loss: 1.0287 - acc: 0.5261 - val_loss: 1.1099 - val_acc: 0.4375\n",
      "Epoch 11/50\n",
      "34/34 [==============================] - 27s 804ms/step - loss: 1.0179 - acc: 0.5285 - val_loss: 1.0970 - val_acc: 0.4375\n",
      "Epoch 12/50\n",
      "34/34 [==============================] - 27s 805ms/step - loss: 1.0070 - acc: 0.5296 - val_loss: 1.0845 - val_acc: 0.4431\n",
      "Epoch 13/50\n",
      "34/34 [==============================] - 27s 805ms/step - loss: 0.9973 - acc: 0.5312 - val_loss: 1.0701 - val_acc: 0.4412\n",
      "Epoch 14/50\n",
      "34/34 [==============================] - 27s 803ms/step - loss: 0.9874 - acc: 0.5322 - val_loss: 1.0571 - val_acc: 0.4412\n",
      "Epoch 15/50\n",
      "34/34 [==============================] - 27s 802ms/step - loss: 0.9786 - acc: 0.5352 - val_loss: 1.0436 - val_acc: 0.4422\n",
      "Epoch 16/50\n",
      "34/34 [==============================] - 27s 808ms/step - loss: 0.9697 - acc: 0.5375 - val_loss: 1.0314 - val_acc: 0.4422\n",
      "Epoch 17/50\n",
      "34/34 [==============================] - 27s 803ms/step - loss: 0.9611 - acc: 0.5401 - val_loss: 1.0203 - val_acc: 0.4487\n",
      "Epoch 18/50\n",
      "34/34 [==============================] - 27s 804ms/step - loss: 0.9534 - acc: 0.5422 - val_loss: 1.0103 - val_acc: 0.4524\n",
      "Epoch 19/50\n",
      "34/34 [==============================] - 27s 802ms/step - loss: 0.9462 - acc: 0.5441 - val_loss: 0.9988 - val_acc: 0.4571\n",
      "Epoch 20/50\n",
      "34/34 [==============================] - 27s 806ms/step - loss: 0.9388 - acc: 0.5450 - val_loss: 0.9897 - val_acc: 0.4580\n",
      "Epoch 21/50\n",
      "34/34 [==============================] - 27s 803ms/step - loss: 0.9324 - acc: 0.5450 - val_loss: 0.9810 - val_acc: 0.4655\n",
      "Epoch 22/50\n",
      "34/34 [==============================] - 27s 801ms/step - loss: 0.9263 - acc: 0.5434 - val_loss: 0.9721 - val_acc: 0.4664\n",
      "Epoch 23/50\n",
      "34/34 [==============================] - 27s 802ms/step - loss: 0.9204 - acc: 0.5410 - val_loss: 0.9621 - val_acc: 0.4748\n",
      "Epoch 24/50\n",
      "34/34 [==============================] - 27s 806ms/step - loss: 0.9149 - acc: 0.5429 - val_loss: 0.9556 - val_acc: 0.4785\n",
      "Epoch 25/50\n",
      "34/34 [==============================] - 27s 806ms/step - loss: 0.9098 - acc: 0.5459 - val_loss: 0.9493 - val_acc: 0.4804\n",
      "Epoch 26/50\n",
      "34/34 [==============================] - 29s 843ms/step - loss: 0.9048 - acc: 0.5445 - val_loss: 0.9439 - val_acc: 0.4841\n",
      "Epoch 27/50\n",
      "34/34 [==============================] - 28s 814ms/step - loss: 0.8999 - acc: 0.5476 - val_loss: 0.9384 - val_acc: 0.4841\n",
      "Epoch 28/50\n",
      "34/34 [==============================] - 27s 806ms/step - loss: 0.8951 - acc: 0.5462 - val_loss: 0.9335 - val_acc: 0.4860\n",
      "Epoch 29/50\n",
      "34/34 [==============================] - 27s 803ms/step - loss: 0.8906 - acc: 0.5457 - val_loss: 0.9288 - val_acc: 0.4841\n",
      "Epoch 30/50\n",
      "34/34 [==============================] - 27s 808ms/step - loss: 0.8862 - acc: 0.5478 - val_loss: 0.9249 - val_acc: 0.4813\n",
      "Epoch 31/50\n",
      "34/34 [==============================] - 27s 805ms/step - loss: 0.8820 - acc: 0.5497 - val_loss: 0.9209 - val_acc: 0.4832\n",
      "Epoch 32/50\n",
      "34/34 [==============================] - 27s 803ms/step - loss: 0.8779 - acc: 0.5506 - val_loss: 0.9177 - val_acc: 0.4832\n",
      "Epoch 33/50\n",
      "34/34 [==============================] - 27s 805ms/step - loss: 0.8739 - acc: 0.5506 - val_loss: 0.9140 - val_acc: 0.4851\n",
      "Epoch 34/50\n",
      "34/34 [==============================] - 27s 802ms/step - loss: 0.8700 - acc: 0.5511 - val_loss: 0.9108 - val_acc: 0.4879\n",
      "Epoch 35/50\n",
      "34/34 [==============================] - 27s 806ms/step - loss: 0.8663 - acc: 0.5511 - val_loss: 0.9078 - val_acc: 0.4869\n",
      "Epoch 36/50\n",
      "34/34 [==============================] - 27s 806ms/step - loss: 0.8628 - acc: 0.5497 - val_loss: 0.9042 - val_acc: 0.4879\n",
      "Epoch 37/50\n",
      "34/34 [==============================] - 27s 808ms/step - loss: 0.8594 - acc: 0.5497 - val_loss: 0.9010 - val_acc: 0.4879\n",
      "Epoch 38/50\n",
      "34/34 [==============================] - 27s 803ms/step - loss: 0.8563 - acc: 0.5520 - val_loss: 0.8976 - val_acc: 0.4925\n",
      "Epoch 39/50\n",
      "34/34 [==============================] - 27s 802ms/step - loss: 0.8533 - acc: 0.5520 - val_loss: 0.8946 - val_acc: 0.4963\n",
      "Epoch 40/50\n",
      "34/34 [==============================] - 27s 806ms/step - loss: 0.8504 - acc: 0.5534 - val_loss: 0.8914 - val_acc: 0.4972\n",
      "Epoch 41/50\n",
      "34/34 [==============================] - 27s 804ms/step - loss: 0.8476 - acc: 0.5546 - val_loss: 0.8887 - val_acc: 0.5009\n",
      "Epoch 42/50\n",
      "34/34 [==============================] - 27s 805ms/step - loss: 0.8449 - acc: 0.5557 - val_loss: 0.8854 - val_acc: 0.5019\n",
      "Epoch 43/50\n",
      "34/34 [==============================] - 27s 803ms/step - loss: 0.8423 - acc: 0.5564 - val_loss: 0.8824 - val_acc: 0.5028\n",
      "Epoch 44/50\n",
      "34/34 [==============================] - 27s 804ms/step - loss: 0.8398 - acc: 0.5576 - val_loss: 0.8793 - val_acc: 0.5028\n",
      "Epoch 45/50\n",
      "34/34 [==============================] - 27s 806ms/step - loss: 0.8372 - acc: 0.5588 - val_loss: 0.8762 - val_acc: 0.5028\n",
      "Epoch 46/50\n",
      "34/34 [==============================] - 27s 806ms/step - loss: 0.8348 - acc: 0.5604 - val_loss: 0.8731 - val_acc: 0.5037\n",
      "Epoch 47/50\n",
      "34/34 [==============================] - 27s 804ms/step - loss: 0.8324 - acc: 0.5604 - val_loss: 0.8706 - val_acc: 0.5019\n",
      "Epoch 48/50\n",
      "34/34 [==============================] - 27s 805ms/step - loss: 0.8301 - acc: 0.5602 - val_loss: 0.8678 - val_acc: 0.5028\n",
      "Epoch 49/50\n",
      "34/34 [==============================] - 27s 804ms/step - loss: 0.8278 - acc: 0.5618 - val_loss: 0.8659 - val_acc: 0.5037\n",
      "Epoch 50/50\n",
      "34/34 [==============================] - 27s 807ms/step - loss: 0.8256 - acc: 0.5630 - val_loss: 0.8635 - val_acc: 0.5056\n"
     ]
    }
   ],
   "source": [
    "optimizer = keras.optimizers.SGD(lr=0.00001)\n",
    "model2.compile(optimizer=optimizer,\n",
    "              loss='binary_crossentropy',\n",
    "              metrics=['acc'])\n",
    "\n",
    "results2 = model2.fit(X_train2,\n",
    "                    y_train2,\n",
    "                    callbacks=early_stopping,\n",
    "                    epochs=50,\n",
    "                    batch_size=128,\n",
    "                    validation_data=(X_val, y_val), shuffle=False)"
   ]
  },
  {
   "cell_type": "markdown",
   "metadata": {},
   "source": [
    "#### Model2 predictions and visualizing results"
   ]
  },
  {
   "cell_type": "code",
   "execution_count": 84,
   "metadata": {},
   "outputs": [
    {
     "name": "stdout",
     "output_type": "stream",
     "text": [
      "134/134 [==============================] - 6s 47ms/step - loss: 0.8185 - acc: 0.5548\n"
     ]
    }
   ],
   "source": [
    "results_train2 = model2.evaluate(X_train2, y_train2)"
   ]
  },
  {
   "cell_type": "code",
   "execution_count": 85,
   "metadata": {},
   "outputs": [
    {
     "name": "stdout",
     "output_type": "stream",
     "text": [
      "34/34 [==============================] - 2s 45ms/step - loss: 0.8635 - acc: 0.5056\n"
     ]
    }
   ],
   "source": [
    "results_test2 = model2.evaluate(X_val, y_val)"
   ]
  },
  {
   "cell_type": "code",
   "execution_count": 86,
   "metadata": {},
   "outputs": [
    {
     "data": {
      "image/png": "[encoded data removed]",
      "text/plain": [
       "<Figure size 432x288 with 1 Axes>"
      ]
     },
     "metadata": {
      "needs_background": "light"
     },
     "output_type": "display_data"
    },
    {
     "data": {
      "image/png": "[encoded data removed]",
      "text/plain": [
       "<Figure size 432x288 with 1 Axes>"
      ]
     },
     "metadata": {
      "needs_background": "light"
     },
     "output_type": "display_data"
    }
   ],
   "source": [
    "# train_pred = (model2.predict(X_train2) > 0.5).astype(int)\n",
    "val_pred = (model2.predict(X_val) > 0.5).astype(int)\n",
    "\n",
    "visualize_results(results2)"
   ]
  },
  {
   "cell_type": "code",
   "execution_count": 137,
   "metadata": {},
   "outputs": [
    {
     "data": {
      "text/plain": [
       "(<AxesSubplot:>,\n",
       " (array([0.5, 1.5]), [Text(0, 0.5, 'Deceased'), Text(0, 1.5, 'Discharged')]))"
      ]
     },
     "execution_count": 137,
     "metadata": {},
     "output_type": "execute_result"
    },
    {
     "data": {
      "image/png": "[encoded data removed]",
      "text/plain": [
       "<Figure size 432x288 with 2 Axes>"
      ]
     },
     "metadata": {
      "needs_background": "light"
     },
     "output_type": "display_data"
    }
   ],
   "source": [
    "plot_matrix(y_val, val_pred)\n"
   ]
  },
  {
   "cell_type": "markdown",
   "metadata": {},
   "source": [
    "### While the 2nd model resolves the overfitting issue, the accuracy has decreased for both training and validation sets. Will regularization improve accuracy scores for better predictions? "
   ]
  },
  {
   "cell_type": "code",
   "execution_count": 88,
   "metadata": {},
   "outputs": [],
   "source": [
    "#adding regularization penalty to model\n",
    "\n",
    "model3 = models.Sequential()\n",
    "model3.add(layers.Conv2D(128, (3, 3), activation='relu', input_shape=(128, 128, 1)))\n",
    "model3.add(layers.MaxPooling2D((2, 2)))\n",
    "model3.add(layers.Conv2D(96, (3, 3), activation='relu'))\n",
    "model3.add(layers.MaxPooling2D((2, 2)))\n",
    "model3.add(layers.Conv2D(64, (3, 3), activation='relu'))\n",
    "model3.add(layers.MaxPooling2D((2, 2)))\n",
    "model3.add(layers.Conv2D(64, (3, 3), activation='relu'))\n",
    "model3.add(layers.MaxPooling2D((2, 2)))\n",
    "\n",
    "\n",
    "model3.add(layers.Flatten())\n",
    "model3.add(layers.Dense(64, activation='relu', kernel_regularizer=regularizers.l2(0.01)))\n",
    "model3.add(layers.Dense(1, activation='sigmoid'))"
   ]
  },
  {
   "cell_type": "code",
   "execution_count": 109,
   "metadata": {},
   "outputs": [
    {
     "name": "stdout",
     "output_type": "stream",
     "text": [
      "Model: \"sequential_9\"\n",
      "_________________________________________________________________\n",
      "Layer (type)                 Output Shape              Param #   \n",
      "=================================================================\n",
      "conv2d_21 (Conv2D)           (None, 126, 126, 128)     1280      \n",
      "_________________________________________________________________\n",
      "max_pooling2d_21 (MaxPooling (None, 63, 63, 128)       0         \n",
      "_________________________________________________________________\n",
      "conv2d_22 (Conv2D)           (None, 61, 61, 96)        110688    \n",
      "_________________________________________________________________\n",
      "max_pooling2d_22 (MaxPooling (None, 30, 30, 96)        0         \n",
      "_________________________________________________________________\n",
      "conv2d_23 (Conv2D)           (None, 28, 28, 64)        55360     \n",
      "_________________________________________________________________\n",
      "max_pooling2d_23 (MaxPooling (None, 14, 14, 64)        0         \n",
      "_________________________________________________________________\n",
      "conv2d_24 (Conv2D)           (None, 12, 12, 64)        36928     \n",
      "_________________________________________________________________\n",
      "max_pooling2d_24 (MaxPooling (None, 6, 6, 64)          0         \n",
      "_________________________________________________________________\n",
      "flatten_9 (Flatten)          (None, 2304)              0         \n",
      "_________________________________________________________________\n",
      "dense_18 (Dense)             (None, 64)                147520    \n",
      "_________________________________________________________________\n",
      "dense_19 (Dense)             (None, 1)                 65        \n",
      "=================================================================\n",
      "Total params: 351,841\n",
      "Trainable params: 351,841\n",
      "Non-trainable params: 0\n",
      "_________________________________________________________________\n"
     ]
    }
   ],
   "source": [
    "model3.summary()"
   ]
  },
  {
   "cell_type": "code",
   "execution_count": 89,
   "metadata": {
    "scrolled": true
   },
   "outputs": [
    {
     "name": "stdout",
     "output_type": "stream",
     "text": [
      "Epoch 1/25\n",
      "67/67 [==============================] - 106s 2s/step - loss: 2.2641 - acc: 0.5459 - val_loss: 1.9567 - val_acc: 0.5634\n",
      "Epoch 2/25\n",
      "67/67 [==============================] - 105s 2s/step - loss: 1.9703 - acc: 0.5683 - val_loss: 1.9378 - val_acc: 0.5765\n",
      "Epoch 3/25\n",
      "67/67 [==============================] - 105s 2s/step - loss: 1.9458 - acc: 0.5837 - val_loss: 1.9284 - val_acc: 0.5886\n",
      "Epoch 4/25\n",
      "67/67 [==============================] - 106s 2s/step - loss: 1.9343 - acc: 0.5882 - val_loss: 1.9240 - val_acc: 0.5886\n",
      "Epoch 5/25\n",
      "67/67 [==============================] - 105s 2s/step - loss: 1.9258 - acc: 0.5935 - val_loss: 1.9160 - val_acc: 0.5933\n",
      "Epoch 6/25\n",
      "67/67 [==============================] - 106s 2s/step - loss: 1.9189 - acc: 0.5944 - val_loss: 1.9105 - val_acc: 0.6045\n",
      "Epoch 7/25\n",
      "67/67 [==============================] - 105s 2s/step - loss: 1.9107 - acc: 0.6021 - val_loss: 1.9070 - val_acc: 0.6157\n",
      "Epoch 8/25\n",
      "67/67 [==============================] - 106s 2s/step - loss: 1.9048 - acc: 0.6054 - val_loss: 1.9034 - val_acc: 0.6138\n",
      "Epoch 9/25\n",
      "67/67 [==============================] - 105s 2s/step - loss: 1.8983 - acc: 0.6138 - val_loss: 1.8935 - val_acc: 0.6194\n",
      "Epoch 10/25\n",
      "67/67 [==============================] - 105s 2s/step - loss: 1.8947 - acc: 0.6168 - val_loss: 1.8921 - val_acc: 0.6175\n",
      "Epoch 11/25\n",
      "67/67 [==============================] - 106s 2s/step - loss: 1.8921 - acc: 0.6168 - val_loss: 1.8883 - val_acc: 0.6185\n",
      "Epoch 12/25\n",
      "67/67 [==============================] - 105s 2s/step - loss: 1.8898 - acc: 0.6203 - val_loss: 1.8870 - val_acc: 0.6157\n",
      "Epoch 13/25\n",
      "67/67 [==============================] - 105s 2s/step - loss: 1.8871 - acc: 0.6231 - val_loss: 1.8862 - val_acc: 0.6259\n",
      "Epoch 14/25\n",
      "67/67 [==============================] - 105s 2s/step - loss: 1.8846 - acc: 0.6236 - val_loss: 1.8852 - val_acc: 0.6241\n",
      "Epoch 15/25\n",
      "67/67 [==============================] - 105s 2s/step - loss: 1.8819 - acc: 0.6231 - val_loss: 1.8825 - val_acc: 0.6157\n",
      "Epoch 16/25\n",
      "67/67 [==============================] - 105s 2s/step - loss: 1.8798 - acc: 0.6266 - val_loss: 1.8807 - val_acc: 0.6203\n",
      "Epoch 17/25\n",
      "67/67 [==============================] - 105s 2s/step - loss: 1.8781 - acc: 0.6266 - val_loss: 1.8805 - val_acc: 0.6194\n",
      "Epoch 18/25\n",
      "67/67 [==============================] - 105s 2s/step - loss: 1.8756 - acc: 0.6283 - val_loss: 1.8790 - val_acc: 0.6194\n",
      "Epoch 19/25\n",
      "67/67 [==============================] - 105s 2s/step - loss: 1.8738 - acc: 0.6313 - val_loss: 1.8766 - val_acc: 0.6222\n",
      "Epoch 20/25\n",
      "67/67 [==============================] - 105s 2s/step - loss: 1.8721 - acc: 0.6313 - val_loss: 1.8754 - val_acc: 0.6203\n",
      "Epoch 21/25\n",
      "67/67 [==============================] - 105s 2s/step - loss: 1.8695 - acc: 0.6339 - val_loss: 1.8754 - val_acc: 0.6175\n",
      "Epoch 22/25\n",
      "67/67 [==============================] - 106s 2s/step - loss: 1.8671 - acc: 0.6357 - val_loss: 1.8744 - val_acc: 0.6259\n",
      "Epoch 23/25\n",
      "67/67 [==============================] - 105s 2s/step - loss: 1.8656 - acc: 0.6388 - val_loss: 1.8730 - val_acc: 0.6250\n",
      "Epoch 24/25\n",
      "67/67 [==============================] - 106s 2s/step - loss: 1.8642 - acc: 0.6406 - val_loss: 1.8720 - val_acc: 0.6269\n",
      "Epoch 25/25\n",
      "67/67 [==============================] - 106s 2s/step - loss: 1.8619 - acc: 0.6416 - val_loss: 1.8706 - val_acc: 0.6287\n"
     ]
    }
   ],
   "source": [
    "optimizer = keras.optimizers.SGD(lr=0.0001)\n",
    "early_stopping2 = [EarlyStopping(monitor='val_loss', patience=10)]\n",
    "model3.compile(optimizer=optimizer,\n",
    "              loss='binary_crossentropy',\n",
    "              metrics=['acc'])\n",
    "\n",
    "results3 = model3.fit(X_train2,\n",
    "                    y_train2,\n",
    "                    callbacks=early_stopping2,\n",
    "                    epochs=25,\n",
    "                    batch_size=64,\n",
    "                    validation_data=(X_val, y_val), shuffle=False)"
   ]
  },
  {
   "cell_type": "markdown",
   "metadata": {},
   "source": [
    "#### Visualizing results for model 3"
   ]
  },
  {
   "cell_type": "code",
   "execution_count": 90,
   "metadata": {},
   "outputs": [
    {
     "name": "stdout",
     "output_type": "stream",
     "text": [
      "134/134 [==============================] - 27s 199ms/step - loss: 1.8553 - acc: 0.6413\n"
     ]
    }
   ],
   "source": [
    "results_train3 = model3.evaluate(X_train2, y_train2)"
   ]
  },
  {
   "cell_type": "code",
   "execution_count": 91,
   "metadata": {},
   "outputs": [
    {
     "name": "stdout",
     "output_type": "stream",
     "text": [
      "34/34 [==============================] - 7s 193ms/step - loss: 1.8706 - acc: 0.6287\n"
     ]
    }
   ],
   "source": [
    "results_test3 = model3.evaluate(X_val, y_val)"
   ]
  },
  {
   "cell_type": "code",
   "execution_count": 92,
   "metadata": {},
   "outputs": [
    {
     "data": {
      "image/png": "[encoded data removed]",
      "text/plain": [
       "<Figure size 432x288 with 1 Axes>"
      ]
     },
     "metadata": {
      "needs_background": "light"
     },
     "output_type": "display_data"
    },
    {
     "data": {
      "image/png": "[encoded data removed]",
      "text/plain": [
       "<Figure size 432x288 with 1 Axes>"
      ]
     },
     "metadata": {
      "needs_background": "light"
     },
     "output_type": "display_data"
    }
   ],
   "source": [
    "visualize_results(results3)"
   ]
  },
  {
   "cell_type": "code",
   "execution_count": 138,
   "metadata": {},
   "outputs": [
    {
     "data": {
      "image/png": "[encoded data removed]",
      "text/plain": [
       "<Figure size 432x288 with 2 Axes>"
      ]
     },
     "metadata": {
      "needs_background": "light"
     },
     "output_type": "display_data"
    }
   ],
   "source": [
    "val_pred3 = (model3.predict(X_val) > 0.5).astype(int)\n",
    "plot_matrix(y_val, val_pred3);\n"
   ]
  },
  {
   "cell_type": "markdown",
   "metadata": {},
   "source": [
    "### Insight: model 1 performed the best out of all the models, so it will be used to generate probability predictions for the train and test sets"
   ]
  },
  {
   "cell_type": "code",
   "execution_count": 94,
   "metadata": {},
   "outputs": [],
   "source": [
    "#fit against entire train set and validate with test set, then generate predictions\n",
    "np.random.seed(424)\n",
    "model = models.Sequential()\n",
    "model.add(layers.Conv2D(32, (3,3), activation='relu',\n",
    "                        input_shape=(128, 128, 1)))\n",
    "model.add(layers.MaxPooling2D((2, 2)))\n",
    "\n",
    "model.add(layers.Flatten())\n",
    "model.add(layers.Dense(64, activation='relu'))\n",
    "model.add(layers.Dense(1, activation='sigmoid'))"
   ]
  },
  {
   "cell_type": "code",
   "execution_count": 95,
   "metadata": {
    "scrolled": true
   },
   "outputs": [
    {
     "name": "stdout",
     "output_type": "stream",
     "text": [
      "Epoch 1/50\n",
      "42/42 [==============================] - 18s 421ms/step - loss: 10.4586 - acc: 0.5944 - val_loss: 0.6734 - val_acc: 0.6149\n",
      "Epoch 2/50\n",
      "42/42 [==============================] - 17s 416ms/step - loss: 0.6710 - acc: 0.6062 - val_loss: 0.6667 - val_acc: 0.6149\n",
      "Epoch 3/50\n",
      "42/42 [==============================] - 18s 419ms/step - loss: 0.6698 - acc: 0.6058 - val_loss: 0.6659 - val_acc: 0.6149\n",
      "Epoch 4/50\n",
      "42/42 [==============================] - 18s 419ms/step - loss: 0.6693 - acc: 0.6058 - val_loss: 0.6657 - val_acc: 0.6149\n",
      "Epoch 5/50\n",
      "42/42 [==============================] - 18s 419ms/step - loss: 0.6689 - acc: 0.6060 - val_loss: 0.6654 - val_acc: 0.6142\n",
      "Epoch 6/50\n",
      "42/42 [==============================] - 18s 418ms/step - loss: 0.6686 - acc: 0.6060 - val_loss: 0.6653 - val_acc: 0.6142\n",
      "Epoch 7/50\n",
      "42/42 [==============================] - 18s 417ms/step - loss: 0.6682 - acc: 0.6060 - val_loss: 0.6651 - val_acc: 0.6142\n",
      "Epoch 8/50\n",
      "42/42 [==============================] - 18s 419ms/step - loss: 0.6678 - acc: 0.6060 - val_loss: 0.6648 - val_acc: 0.6142\n",
      "Epoch 9/50\n",
      "42/42 [==============================] - 18s 422ms/step - loss: 0.6673 - acc: 0.6060 - val_loss: 0.6646 - val_acc: 0.6142\n",
      "Epoch 10/50\n",
      "42/42 [==============================] - 18s 418ms/step - loss: 0.6670 - acc: 0.6062 - val_loss: 0.6643 - val_acc: 0.6142\n",
      "Epoch 11/50\n",
      "42/42 [==============================] - 18s 419ms/step - loss: 0.6664 - acc: 0.6062 - val_loss: 0.6641 - val_acc: 0.6142\n",
      "Epoch 12/50\n",
      "42/42 [==============================] - 18s 419ms/step - loss: 0.6659 - acc: 0.6062 - val_loss: 0.6635 - val_acc: 0.6142\n",
      "Epoch 13/50\n",
      "42/42 [==============================] - 18s 417ms/step - loss: 0.6655 - acc: 0.6062 - val_loss: 0.6630 - val_acc: 0.6142\n",
      "Epoch 14/50\n",
      "42/42 [==============================] - 18s 424ms/step - loss: 0.6646 - acc: 0.6062 - val_loss: 0.6625 - val_acc: 0.6149\n",
      "Epoch 15/50\n",
      "42/42 [==============================] - 18s 418ms/step - loss: 0.6629 - acc: 0.6062 - val_loss: 0.6617 - val_acc: 0.6149\n",
      "Epoch 16/50\n",
      "42/42 [==============================] - 18s 418ms/step - loss: 0.6615 - acc: 0.6062 - val_loss: 0.6595 - val_acc: 0.6149\n",
      "Epoch 17/50\n",
      "42/42 [==============================] - 18s 418ms/step - loss: 0.6600 - acc: 0.6063 - val_loss: 0.6582 - val_acc: 0.6149\n",
      "Epoch 18/50\n",
      "42/42 [==============================] - 18s 420ms/step - loss: 0.6583 - acc: 0.6063 - val_loss: 0.6564 - val_acc: 0.6149\n",
      "Epoch 19/50\n",
      "42/42 [==============================] - 18s 418ms/step - loss: 0.6567 - acc: 0.6063 - val_loss: 0.6553 - val_acc: 0.6149\n",
      "Epoch 20/50\n",
      "42/42 [==============================] - 18s 418ms/step - loss: 0.6553 - acc: 0.6063 - val_loss: 0.6538 - val_acc: 0.6142\n",
      "Epoch 21/50\n",
      "42/42 [==============================] - 18s 419ms/step - loss: 0.6537 - acc: 0.6063 - val_loss: 0.6525 - val_acc: 0.6142\n",
      "Epoch 22/50\n",
      "42/42 [==============================] - 18s 417ms/step - loss: 0.6521 - acc: 0.6062 - val_loss: 0.6503 - val_acc: 0.6142\n",
      "Epoch 23/50\n",
      "42/42 [==============================] - 18s 417ms/step - loss: 0.6506 - acc: 0.6060 - val_loss: 0.6486 - val_acc: 0.6142\n",
      "Epoch 24/50\n",
      "42/42 [==============================] - 17s 417ms/step - loss: 0.6492 - acc: 0.6062 - val_loss: 0.6471 - val_acc: 0.6142\n",
      "Epoch 25/50\n",
      "42/42 [==============================] - 18s 418ms/step - loss: 0.6476 - acc: 0.6062 - val_loss: 0.6458 - val_acc: 0.6142\n",
      "Epoch 26/50\n",
      "42/42 [==============================] - 18s 421ms/step - loss: 0.6462 - acc: 0.6063 - val_loss: 0.6446 - val_acc: 0.6149\n",
      "Epoch 27/50\n",
      "42/42 [==============================] - 18s 417ms/step - loss: 0.6447 - acc: 0.6063 - val_loss: 0.6432 - val_acc: 0.6149\n",
      "Epoch 28/50\n",
      "42/42 [==============================] - 18s 420ms/step - loss: 0.6434 - acc: 0.6065 - val_loss: 0.6427 - val_acc: 0.6172\n",
      "Epoch 29/50\n",
      "42/42 [==============================] - 18s 418ms/step - loss: 0.6418 - acc: 0.6082 - val_loss: 0.6408 - val_acc: 0.6127\n",
      "Epoch 30/50\n",
      "42/42 [==============================] - 18s 418ms/step - loss: 0.6406 - acc: 0.6144 - val_loss: 0.6403 - val_acc: 0.6119\n",
      "Epoch 31/50\n",
      "42/42 [==============================] - 18s 419ms/step - loss: 0.6392 - acc: 0.6181 - val_loss: 0.6384 - val_acc: 0.6112\n",
      "Epoch 32/50\n",
      "42/42 [==============================] - 18s 418ms/step - loss: 0.6381 - acc: 0.6185 - val_loss: 0.6373 - val_acc: 0.6104\n",
      "Epoch 33/50\n",
      "42/42 [==============================] - 18s 417ms/step - loss: 0.6369 - acc: 0.6196 - val_loss: 0.6361 - val_acc: 0.6112\n",
      "Epoch 34/50\n",
      "42/42 [==============================] - 18s 417ms/step - loss: 0.6352 - acc: 0.6203 - val_loss: 0.6354 - val_acc: 0.6149\n",
      "Epoch 35/50\n",
      "42/42 [==============================] - 18s 418ms/step - loss: 0.6341 - acc: 0.6228 - val_loss: 0.6342 - val_acc: 0.6142\n",
      "Epoch 36/50\n",
      "42/42 [==============================] - 18s 417ms/step - loss: 0.6330 - acc: 0.6229 - val_loss: 0.6328 - val_acc: 0.6149\n",
      "Epoch 37/50\n",
      "42/42 [==============================] - 18s 417ms/step - loss: 0.6315 - acc: 0.6256 - val_loss: 0.6324 - val_acc: 0.6142\n",
      "Epoch 38/50\n",
      "42/42 [==============================] - 18s 417ms/step - loss: 0.6303 - acc: 0.6276 - val_loss: 0.6314 - val_acc: 0.6142\n",
      "Epoch 39/50\n",
      "42/42 [==============================] - 17s 416ms/step - loss: 0.6292 - acc: 0.6278 - val_loss: 0.6315 - val_acc: 0.6187\n",
      "Epoch 40/50\n",
      "42/42 [==============================] - 18s 417ms/step - loss: 0.6282 - acc: 0.6310 - val_loss: 0.6300 - val_acc: 0.6149\n",
      "Epoch 41/50\n",
      "42/42 [==============================] - 18s 418ms/step - loss: 0.6274 - acc: 0.6328 - val_loss: 0.6303 - val_acc: 0.6194\n",
      "Epoch 42/50\n",
      "42/42 [==============================] - 18s 418ms/step - loss: 0.6263 - acc: 0.6340 - val_loss: 0.6287 - val_acc: 0.6187\n",
      "Epoch 43/50\n",
      "42/42 [==============================] - 18s 419ms/step - loss: 0.6247 - acc: 0.6343 - val_loss: 0.6270 - val_acc: 0.6179\n",
      "Epoch 44/50\n",
      "42/42 [==============================] - 18s 417ms/step - loss: 0.6232 - acc: 0.6323 - val_loss: 0.6271 - val_acc: 0.6306\n",
      "Epoch 45/50\n",
      "42/42 [==============================] - 18s 418ms/step - loss: 0.6227 - acc: 0.6326 - val_loss: 0.6253 - val_acc: 0.6231\n",
      "Epoch 46/50\n",
      "42/42 [==============================] - 18s 421ms/step - loss: 0.6219 - acc: 0.6353 - val_loss: 0.6250 - val_acc: 0.6224\n",
      "Epoch 47/50\n",
      "42/42 [==============================] - 18s 417ms/step - loss: 0.6210 - acc: 0.6347 - val_loss: 0.6250 - val_acc: 0.6306\n",
      "Epoch 48/50\n",
      "42/42 [==============================] - 18s 418ms/step - loss: 0.6194 - acc: 0.6347 - val_loss: 0.6238 - val_acc: 0.6328\n",
      "Epoch 49/50\n",
      "42/42 [==============================] - 18s 417ms/step - loss: 0.6179 - acc: 0.6369 - val_loss: 0.6233 - val_acc: 0.6343\n",
      "Epoch 50/50\n",
      "42/42 [==============================] - 18s 418ms/step - loss: 0.6178 - acc: 0.6340 - val_loss: 0.6221 - val_acc: 0.6209\n"
     ]
    }
   ],
   "source": [
    "early_stopping = [EarlyStopping(monitor='val_loss', patience=10)]\n",
    "optimizer = keras.optimizers.SGD(lr=0.0001)\n",
    "model.compile(optimizer=optimizer,\n",
    "              loss='binary_crossentropy',\n",
    "              metrics=['acc'])\n",
    "\n",
    "results_final = model.fit(X_train,\n",
    "                    y_train,\n",
    "                    callbacks=early_stopping,\n",
    "                    epochs=50,\n",
    "                    batch_size=128,\n",
    "                    validation_data=(X_test, y_test), shuffle=False)"
   ]
  },
  {
   "cell_type": "code",
   "execution_count": 105,
   "metadata": {},
   "outputs": [
    {
     "name": "stdout",
     "output_type": "stream",
     "text": [
      "168/168 [==============================] - 6s 36ms/step - loss: 0.6097 - acc: 0.6448\n"
     ]
    }
   ],
   "source": [
    "train_final = model.evaluate(X_train, y_train)"
   ]
  },
  {
   "cell_type": "code",
   "execution_count": 106,
   "metadata": {},
   "outputs": [
    {
     "name": "stdout",
     "output_type": "stream",
     "text": [
      "42/42 [==============================] - 1s 35ms/step - loss: 0.6221 - acc: 0.6209\n"
     ]
    }
   ],
   "source": [
    "test_final = model.evaluate(X_test, y_test)"
   ]
  },
  {
   "cell_type": "code",
   "execution_count": 96,
   "metadata": {},
   "outputs": [
    {
     "data": {
      "image/png": "[encoded data removed]",
      "text/plain": [
       "<Figure size 432x288 with 1 Axes>"
      ]
     },
     "metadata": {
      "needs_background": "light"
     },
     "output_type": "display_data"
    },
    {
     "data": {
      "image/png": "[encoded data removed]",
      "text/plain": [
       "<Figure size 432x288 with 1 Axes>"
      ]
     },
     "metadata": {
      "needs_background": "light"
     },
     "output_type": "display_data"
    }
   ],
   "source": [
    "visualize_results(results_final)"
   ]
  },
  {
   "cell_type": "code",
   "execution_count": 97,
   "metadata": {},
   "outputs": [],
   "source": [
    "train_predictions = model.predict(X_train)\n",
    "test_predictions = model.predict(X_test)"
   ]
  },
  {
   "cell_type": "code",
   "execution_count": 98,
   "metadata": {},
   "outputs": [
    {
     "data": {
      "text/plain": [
       "(5360, 1)"
      ]
     },
     "execution_count": 98,
     "metadata": {},
     "output_type": "execute_result"
    }
   ],
   "source": [
    "train_predictions.shape"
   ]
  },
  {
   "cell_type": "code",
   "execution_count": 99,
   "metadata": {},
   "outputs": [
    {
     "data": {
      "text/plain": [
       "array([[0.41965514],\n",
       "       [0.76471364],\n",
       "       [0.7185861 ],\n",
       "       ...,\n",
       "       [0.6715141 ],\n",
       "       [0.7298917 ],\n",
       "       [0.5788402 ]], dtype=float32)"
      ]
     },
     "execution_count": 99,
     "metadata": {},
     "output_type": "execute_result"
    }
   ],
   "source": [
    "test_predictions"
   ]
  },
  {
   "cell_type": "code",
   "execution_count": 139,
   "metadata": {},
   "outputs": [
    {
     "data": {
      "image/png": "[encoded data removed]",
      "text/plain": [
       "<Figure size 432x288 with 2 Axes>"
      ]
     },
     "metadata": {
      "needs_background": "light"
     },
     "output_type": "display_data"
    }
   ],
   "source": [
    "\n",
    "final_pred = (model.predict(X_test) > 0.5).astype(int)\n",
    "plot_matrix(y_test, final_pred);\n"
   ]
  },
  {
   "cell_type": "code",
   "execution_count": 111,
   "metadata": {},
   "outputs": [
    {
     "data": {
      "text/plain": [
       "numpy.ndarray"
      ]
     },
     "execution_count": 111,
     "metadata": {},
     "output_type": "execute_result"
    }
   ],
   "source": [
    "type(data_images)"
   ]
  },
  {
   "cell_type": "code",
   "execution_count": 141,
   "metadata": {},
   "outputs": [
    {
     "data": {
      "text/plain": [
       "array([1., 1., 1., ..., 1., 1., 1.], dtype=float32)"
      ]
     },
     "execution_count": 141,
     "metadata": {},
     "output_type": "execute_result"
    }
   ],
   "source": [
    "data_labels"
   ]
  },
  {
   "cell_type": "code",
   "execution_count": 119,
   "metadata": {},
   "outputs": [
    {
     "data": {
      "text/plain": [
       "6700"
      ]
     },
     "execution_count": 119,
     "metadata": {},
     "output_type": "execute_result"
    }
   ],
   "source": [
    "len(data_generator.filenames)"
   ]
  },
  {
   "cell_type": "code",
   "execution_count": 116,
   "metadata": {},
   "outputs": [
    {
     "data": {
      "text/plain": [
       "array([[0.81626177],\n",
       "       [0.69117916],\n",
       "       [0.4996497 ],\n",
       "       ...,\n",
       "       [0.7029867 ],\n",
       "       [0.4996497 ],\n",
       "       [0.5297894 ]], dtype=float32)"
      ]
     },
     "execution_count": 116,
     "metadata": {},
     "output_type": "execute_result"
    }
   ],
   "source": [
    "data_pred = model.predict(data_images)\n",
    "data_pred"
   ]
  },
  {
   "cell_type": "code",
   "execution_count": 117,
   "metadata": {},
   "outputs": [
    {
     "data": {
      "text/plain": [
       "(6700, 1)"
      ]
     },
     "execution_count": 117,
     "metadata": {},
     "output_type": "execute_result"
    }
   ],
   "source": [
    "data_pred.shape"
   ]
  },
  {
   "cell_type": "code",
   "execution_count": 120,
   "metadata": {},
   "outputs": [
    {
     "data": {
      "text/html": [
       "<div>\n",
       "<style scoped>\n",
       "    .dataframe tbody tr th:only-of-type {\n",
       "        vertical-align: middle;\n",
       "    }\n",
       "\n",
       "    .dataframe tbody tr th {\n",
       "        vertical-align: top;\n",
       "    }\n",
       "\n",
       "    .dataframe thead th {\n",
       "        text-align: right;\n",
       "    }\n",
       "</style>\n",
       "<table border=\"1\" class=\"dataframe\">\n",
       "  <thead>\n",
       "    <tr style=\"text-align: right;\">\n",
       "      <th></th>\n",
       "      <th>patient_id</th>\n",
       "      <th>prediction</th>\n",
       "    </tr>\n",
       "  </thead>\n",
       "  <tbody>\n",
       "    <tr>\n",
       "      <th>0</th>\n",
       "      <td>deceased\\A003797-211.png</td>\n",
       "      <td>[0.8162617683410645]</td>\n",
       "    </tr>\n",
       "    <tr>\n",
       "      <th>1</th>\n",
       "      <td>deceased\\A003797-213.png</td>\n",
       "      <td>[0.6911791563034058]</td>\n",
       "    </tr>\n",
       "    <tr>\n",
       "      <th>2</th>\n",
       "      <td>deceased\\A003797-215.png</td>\n",
       "      <td>[0.49964970350265503]</td>\n",
       "    </tr>\n",
       "    <tr>\n",
       "      <th>3</th>\n",
       "      <td>deceased\\A003797-217.png</td>\n",
       "      <td>[0.6613535284996033]</td>\n",
       "    </tr>\n",
       "    <tr>\n",
       "      <th>4</th>\n",
       "      <td>deceased\\A003797-219.png</td>\n",
       "      <td>[0.5728612542152405]</td>\n",
       "    </tr>\n",
       "  </tbody>\n",
       "</table>\n",
       "</div>"
      ],
      "text/plain": [
       "                 patient_id             prediction\n",
       "0  deceased\\A003797-211.png   [0.8162617683410645]\n",
       "1  deceased\\A003797-213.png   [0.6911791563034058]\n",
       "2  deceased\\A003797-215.png  [0.49964970350265503]\n",
       "3  deceased\\A003797-217.png   [0.6613535284996033]\n",
       "4  deceased\\A003797-219.png   [0.5728612542152405]"
      ]
     },
     "execution_count": 120,
     "metadata": {},
     "output_type": "execute_result"
    }
   ],
   "source": [
    "preds = data_pred.tolist()\n",
    "pred_df = pd.DataFrame({'patient_id':data_generator.filenames, 'prediction':preds})\n",
    "pred_df.head()"
   ]
  },
  {
   "cell_type": "code",
   "execution_count": null,
   "metadata": {},
   "outputs": [],
   "source": [
    "#save cleaned up df  \n",
    "# cwd = os.getcwd()\n",
    "# path = cwd + \"/cnnpreds.csv\"\n",
    "# pred_df.to_csv(path, index=False)"
   ]
  }
 ],
 "metadata": {
  "kernelspec": {
   "display_name": "Python 3",
   "language": "python",
   "name": "python3"
  },
  "language_info": {
   "codemirror_mode": {
    "name": "ipython",
    "version": 3
   },
   "file_extension": ".py",
   "mimetype": "text/x-python",
   "name": "python",
   "nbconvert_exporter": "python",
   "pygments_lexer": "ipython3",
   "version": "3.8.5"
  }
 },
 "nbformat": 4,
 "nbformat_minor": 4
}
