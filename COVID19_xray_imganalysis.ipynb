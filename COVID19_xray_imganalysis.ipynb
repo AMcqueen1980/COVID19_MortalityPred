{
 "cells": [
  {
   "cell_type": "markdown",
   "metadata": {},
   "source": [
    "# X-ray image loading and analysis\n",
    "\n",
    "With this notebook, we will use convolutional neural networks (CNN) to analyze our X-rays of each patient and generate predictions on their mortality outcomes. The outline for this notebook is as follows:\n",
    "\n",
    "<br>1) Load Packages\n",
    "<br>2) Load images with Image Data Generator\n",
    "<br>3) Examine select images and their shapes\n",
    "<br>4) Perform Train Test split to generate train, test, and validation sets. Defining functions\n",
    "<br>5) Generation of dummy and CNN models, model evaluation plots and metrics\n",
    "<br>6) Predictions of final model, generation of dataframe with final model predictions"
   ]
  },
  {
   "cell_type": "markdown",
   "metadata": {},
   "source": [
    "## 1) LOADING PACKAGES"
   ]
  },
  {
   "cell_type": "code",
   "execution_count": 1,
   "metadata": {},
   "outputs": [],
   "source": [
    "import pandas as pd\n",
    "import numpy as np\n",
    "import matplotlib.pyplot as plt \n",
    "import tensorflow as tf\n",
    "import seaborn as sns\n",
    "import keras\n",
    "\n",
    "from sklearn.model_selection import train_test_split\n",
    "from sklearn.metrics import confusion_matrix\n",
    "from sklearn.dummy import DummyClassifier\n",
    "\n",
    "\n",
    "from tensorflow.keras.layers import Input\n",
    "from keras.preprocessing import image_dataset_from_directory\n",
    "from keras.preprocessing.image import ImageDataGenerator, array_to_img, img_to_array, load_img\n",
    "from keras import models, layers, regularizers\n",
    "from keras.callbacks import EarlyStopping"
   ]
  },
  {
   "cell_type": "markdown",
   "metadata": {},
   "source": [
    "## 2) Now that the files have been moved to their respective labels, we can use the image generator to begin modeling analysis"
   ]
  },
  {
   "cell_type": "code",
   "execution_count": 2,
   "metadata": {},
   "outputs": [
    {
     "name": "stdout",
     "output_type": "stream",
     "text": [
      "Found 6700 images belonging to 2 classes.\n"
     ]
    },
    {
     "name": "stderr",
     "output_type": "stream",
     "text": [
      "C:\\Users\\Adonis McQueen\\anaconda3\\envs\\learn-env\\lib\\site-packages\\keras_preprocessing\\image\\image_data_generator.py:720: UserWarning: This ImageDataGenerator specifies `featurewise_center`, but it hasn't been fit on any training data. Fit it first by calling `.fit(numpy_data)`.\n",
      "  warnings.warn('This ImageDataGenerator specifies '\n"
     ]
    }
   ],
   "source": [
    "data_dir = 'Classes'\n",
    "\n",
    "\n",
    "#create test generator for final model evaluation(20% of entire dataset)\n",
    "data_generator = ImageDataGenerator(1./255).flow_from_directory(\n",
    "       data_dir, \n",
    "       target_size=(128, 128), batch_size=6700, color_mode='grayscale', class_mode='binary', shuffle=False)\n",
    "\n",
    "# #create train generator for model training and validation(80% of dataset). Will create validation split with TTS from train set\n",
    "# train_generator = ImageDataGenerator(1./255).flow_from_directory(\n",
    "#        data_dir, \n",
    "#        target_size=(128, 128), batch_size=5360, color_mode='grayscale', class_mode='binary').\n",
    "\n",
    "#Create the datasets\n",
    "data_images, data_labels = next(data_generator)\n",
    "# test_images, test_labels = next(test_generator)"
   ]
  },
  {
   "cell_type": "markdown",
   "metadata": {},
   "source": [
    "## 3) Examination of select image,  data set shapes, and labels"
   ]
  },
  {
   "cell_type": "code",
   "execution_count": 3,
   "metadata": {},
   "outputs": [
    {
     "data": {
      "image/png": "[encoded data removed]",
      "text/plain": [
       "<PIL.Image.Image image mode=L size=128x128 at 0x16EAA744790>"
      ]
     },
     "execution_count": 3,
     "metadata": {},
     "output_type": "execute_result"
    }
   ],
   "source": [
    "#sample photo\n",
    "array_to_img(data_images[0])"
   ]
  },
  {
   "cell_type": "code",
   "execution_count": 4,
   "metadata": {},
   "outputs": [
    {
     "data": {
      "text/plain": [
       "{'deceased': 0, 'discharged': 1}"
      ]
     },
     "execution_count": 4,
     "metadata": {},
     "output_type": "execute_result"
    }
   ],
   "source": [
    "#labels\n",
    "data_generator.class_indices"
   ]
  },
  {
   "cell_type": "markdown",
   "metadata": {},
   "source": [
    "#### checking image and label shapes for model creation"
   ]
  },
  {
   "cell_type": "code",
   "execution_count": 5,
   "metadata": {},
   "outputs": [
    {
     "data": {
      "text/plain": [
       "(6700, 128, 128, 1)"
      ]
     },
     "execution_count": 5,
     "metadata": {},
     "output_type": "execute_result"
    }
   ],
   "source": [
    "data_images.shape"
   ]
  },
  {
   "cell_type": "code",
   "execution_count": 6,
   "metadata": {},
   "outputs": [
    {
     "data": {
      "text/plain": [
       "(6700,)"
      ]
     },
     "execution_count": 6,
     "metadata": {},
     "output_type": "execute_result"
    }
   ],
   "source": [
    "data_labels.shape"
   ]
  },
  {
   "cell_type": "markdown",
   "metadata": {},
   "source": [
    "## 4) Creating train, test, and validation data from TTS in order to train CNN models"
   ]
  },
  {
   "cell_type": "code",
   "execution_count": 7,
   "metadata": {},
   "outputs": [],
   "source": [
    "#train test split to generate training and test data\n",
    "\n",
    "X = data_images\n",
    "y = data_labels\n",
    "\n",
    "X_train, X_test, y_train, y_test = train_test_split(X, y, test_size=0.2, random_state=42)"
   ]
  },
  {
   "cell_type": "code",
   "execution_count": 8,
   "metadata": {},
   "outputs": [],
   "source": [
    "#creating 2nd train and validation set from initial training set\n",
    "\n",
    "x = X_train\n",
    "Y = y_train\n",
    "\n",
    "X_train2, X_val, y_train2, y_val = train_test_split(x, Y, test_size=0.2, random_state=42)"
   ]
  },
  {
   "cell_type": "code",
   "execution_count": 9,
   "metadata": {},
   "outputs": [
    {
     "name": "stdout",
     "output_type": "stream",
     "text": [
      "(4288, 128, 128, 1)\n",
      "(1072, 128, 128, 1)\n",
      "(4288,)\n",
      "(1072,)\n"
     ]
    }
   ],
   "source": [
    "#investigating shapes of train and validation sets\n",
    "print(np.shape(X_train2))\n",
    "print(np.shape(X_val))\n",
    "print(np.shape(y_train2))\n",
    "print(np.shape(y_val))"
   ]
  },
  {
   "cell_type": "markdown",
   "metadata": {},
   "source": [
    "### 4a) Defining functions"
   ]
  },
  {
   "cell_type": "code",
   "execution_count": 10,
   "metadata": {},
   "outputs": [],
   "source": [
    "#function to plot epochs vs loss and accuracy for train and validation/test set\n",
    "def visualize_results(results):\n",
    "    history = results.history\n",
    "    plt.figure()\n",
    "    plt.plot(history['val_loss'])\n",
    "    plt.plot(history['loss'])\n",
    "    plt.legend(['test_loss', 'train_loss'])\n",
    "    plt.title('Epochs vs Loss')\n",
    "    plt.xlabel('Epochs')\n",
    "    plt.ylabel('Loss')\n",
    "    plt.show();\n",
    "    \n",
    "    plt.figure()\n",
    "    plt.plot(history['val_acc'])\n",
    "    plt.plot(history['acc'])\n",
    "    plt.legend(['test_acc', 'train_acc'])\n",
    "    plt.title('Epochs vs Accuracy')\n",
    "    plt.xlabel('Epochs')\n",
    "    plt.ylabel('Accuracy')\n",
    "    plt.show();"
   ]
  },
  {
   "cell_type": "code",
   "execution_count": 11,
   "metadata": {},
   "outputs": [],
   "source": [
    "def plot_matrix(y_true, y_pred):\n",
    "    matrix = confusion_matrix(y_true, y_pred)\n",
    "    \n",
    "    return sns.heatmap(matrix, annot=True, cmap='BuPu', fmt='.4g', xticklabels=['Deceased', 'Discharged'], \n",
    "                       yticklabels=['Deceased', 'Discharged']), plt.yticks(rotation=0)"
   ]
  },
  {
   "cell_type": "markdown",
   "metadata": {},
   "source": [
    "## 5) Generation of dummy and all CNN models"
   ]
  },
  {
   "cell_type": "markdown",
   "metadata": {},
   "source": [
    "### Baseline dummy classifier"
   ]
  },
  {
   "cell_type": "code",
   "execution_count": 14,
   "metadata": {},
   "outputs": [
    {
     "data": {
      "text/plain": [
       "array([1., 1., 1., ..., 1., 1., 1.], dtype=float32)"
      ]
     },
     "execution_count": 14,
     "metadata": {},
     "output_type": "execute_result"
    }
   ],
   "source": [
    "#dummy classifier to compare baseline models to\n",
    "\n",
    "\n",
    "dummy = DummyClassifier(strategy='most_frequent')\n",
    "dummy.fit(X_train2, y_train2)\n",
    "dummy.predict(X_val)"
   ]
  },
  {
   "cell_type": "code",
   "execution_count": 15,
   "metadata": {},
   "outputs": [
    {
     "data": {
      "text/plain": [
       "0.5998134328358209"
      ]
     },
     "execution_count": 15,
     "metadata": {},
     "output_type": "execute_result"
    }
   ],
   "source": [
    "#dummy classifier score\n",
    "dummy.score(X_val, y_val)"
   ]
  },
  {
   "cell_type": "markdown",
   "metadata": {},
   "source": [
    "### To start, a simple CNN model will be used with no dropouts or multiple dense layers."
   ]
  },
  {
   "cell_type": "code",
   "execution_count": 16,
   "metadata": {},
   "outputs": [],
   "source": [
    "#baseline CNN model\n",
    "np.random.seed(424)\n",
    "model = models.Sequential()\n",
    "model.add(layers.Conv2D(32, (3,3), activation='relu',\n",
    "                        input_shape=(128, 128, 1)))\n",
    "model.add(layers.MaxPooling2D((2, 2)))\n",
    "\n",
    "model.add(layers.Flatten())\n",
    "model.add(layers.Dense(64, activation='relu'))\n",
    "model.add(layers.Dense(1, activation='sigmoid'))"
   ]
  },
  {
   "cell_type": "code",
   "execution_count": 17,
   "metadata": {},
   "outputs": [
    {
     "name": "stdout",
     "output_type": "stream",
     "text": [
      "Model: \"sequential\"\n",
      "_________________________________________________________________\n",
      "Layer (type)                 Output Shape              Param #   \n",
      "=================================================================\n",
      "conv2d (Conv2D)              (None, 126, 126, 32)      320       \n",
      "_________________________________________________________________\n",
      "max_pooling2d (MaxPooling2D) (None, 63, 63, 32)        0         \n",
      "_________________________________________________________________\n",
      "flatten (Flatten)            (None, 127008)            0         \n",
      "_________________________________________________________________\n",
      "dense (Dense)                (None, 64)                8128576   \n",
      "_________________________________________________________________\n",
      "dense_1 (Dense)              (None, 1)                 65        \n",
      "=================================================================\n",
      "Total params: 8,128,961\n",
      "Trainable params: 8,128,961\n",
      "Non-trainable params: 0\n",
      "_________________________________________________________________\n"
     ]
    }
   ],
   "source": [
    "model.summary()"
   ]
  },
  {
   "cell_type": "markdown",
   "metadata": {},
   "source": [
    "### Accuracy will be the primary metric of evaluation. A low learning rate is used to improve model learning. SGD is the preferred optimizer; previous iterations with Adam yielded lower accuracy rates."
   ]
  },
  {
   "cell_type": "code",
   "execution_count": 18,
   "metadata": {
    "scrolled": true
   },
   "outputs": [
    {
     "name": "stdout",
     "output_type": "stream",
     "text": [
      "Epoch 1/50\n",
      "34/34 [==============================] - 17s 503ms/step - loss: 22.7923 - acc: 0.5679 - val_loss: 0.6868 - val_acc: 0.5942\n",
      "Epoch 2/50\n",
      "34/34 [==============================] - 15s 450ms/step - loss: 0.6769 - acc: 0.5940 - val_loss: 0.6826 - val_acc: 0.6082\n",
      "Epoch 3/50\n",
      "34/34 [==============================] - 15s 449ms/step - loss: 0.6664 - acc: 0.6042 - val_loss: 0.6809 - val_acc: 0.6194\n",
      "Epoch 4/50\n",
      "34/34 [==============================] - 15s 448ms/step - loss: 0.6572 - acc: 0.6082 - val_loss: 0.6795 - val_acc: 0.6185\n",
      "Epoch 5/50\n",
      "34/34 [==============================] - 15s 449ms/step - loss: 0.6496 - acc: 0.6189 - val_loss: 0.6769 - val_acc: 0.6231\n",
      "Epoch 6/50\n",
      "34/34 [==============================] - 15s 447ms/step - loss: 0.6425 - acc: 0.6271 - val_loss: 0.6757 - val_acc: 0.6203\n",
      "Epoch 7/50\n",
      "34/34 [==============================] - 15s 446ms/step - loss: 0.6358 - acc: 0.6381 - val_loss: 0.6737 - val_acc: 0.6203\n",
      "Epoch 8/50\n",
      "34/34 [==============================] - 15s 448ms/step - loss: 0.6296 - acc: 0.6444 - val_loss: 0.6723 - val_acc: 0.6166\n",
      "Epoch 9/50\n",
      "34/34 [==============================] - 15s 449ms/step - loss: 0.6237 - acc: 0.6518 - val_loss: 0.6713 - val_acc: 0.6166\n",
      "Epoch 10/50\n",
      "34/34 [==============================] - 15s 456ms/step - loss: 0.6178 - acc: 0.6574 - val_loss: 0.6708 - val_acc: 0.6203\n",
      "Epoch 11/50\n",
      "34/34 [==============================] - 15s 455ms/step - loss: 0.6119 - acc: 0.6651 - val_loss: 0.6701 - val_acc: 0.6231\n",
      "Epoch 12/50\n",
      "34/34 [==============================] - 15s 455ms/step - loss: 0.6062 - acc: 0.6695 - val_loss: 0.6679 - val_acc: 0.6175\n",
      "Epoch 13/50\n",
      "34/34 [==============================] - 15s 454ms/step - loss: 0.6005 - acc: 0.6735 - val_loss: 0.6680 - val_acc: 0.6147\n",
      "Epoch 14/50\n",
      "34/34 [==============================] - 15s 452ms/step - loss: 0.5950 - acc: 0.6789 - val_loss: 0.6670 - val_acc: 0.6213\n",
      "Epoch 15/50\n",
      "34/34 [==============================] - 15s 455ms/step - loss: 0.5897 - acc: 0.6835 - val_loss: 0.6675 - val_acc: 0.6166\n",
      "Epoch 16/50\n",
      "34/34 [==============================] - 15s 447ms/step - loss: 0.5843 - acc: 0.6854 - val_loss: 0.6662 - val_acc: 0.6147\n",
      "Epoch 17/50\n",
      "34/34 [==============================] - 15s 446ms/step - loss: 0.5791 - acc: 0.6917 - val_loss: 0.6672 - val_acc: 0.6119\n",
      "Epoch 18/50\n",
      "34/34 [==============================] - 15s 448ms/step - loss: 0.5739 - acc: 0.6964 - val_loss: 0.6643 - val_acc: 0.6129\n",
      "Epoch 19/50\n",
      "34/34 [==============================] - 15s 445ms/step - loss: 0.5687 - acc: 0.7020 - val_loss: 0.6645 - val_acc: 0.6119\n",
      "Epoch 20/50\n",
      "34/34 [==============================] - 15s 448ms/step - loss: 0.5638 - acc: 0.7043 - val_loss: 0.6664 - val_acc: 0.6119\n",
      "Epoch 21/50\n",
      "34/34 [==============================] - 15s 450ms/step - loss: 0.5588 - acc: 0.7090 - val_loss: 0.6654 - val_acc: 0.6073\n",
      "Epoch 22/50\n",
      "34/34 [==============================] - 15s 447ms/step - loss: 0.5536 - acc: 0.7143 - val_loss: 0.6642 - val_acc: 0.6091\n",
      "Epoch 23/50\n",
      "34/34 [==============================] - 15s 448ms/step - loss: 0.5493 - acc: 0.7188 - val_loss: 0.6618 - val_acc: 0.6082\n",
      "Epoch 24/50\n",
      "34/34 [==============================] - 15s 450ms/step - loss: 0.5447 - acc: 0.7253 - val_loss: 0.6634 - val_acc: 0.6119\n",
      "Epoch 25/50\n",
      "34/34 [==============================] - 15s 453ms/step - loss: 0.5394 - acc: 0.7295 - val_loss: 0.6625 - val_acc: 0.6110\n",
      "Epoch 26/50\n",
      "34/34 [==============================] - 15s 447ms/step - loss: 0.5350 - acc: 0.7332 - val_loss: 0.6648 - val_acc: 0.6101\n",
      "Epoch 27/50\n",
      "34/34 [==============================] - 15s 449ms/step - loss: 0.5297 - acc: 0.7383 - val_loss: 0.6666 - val_acc: 0.6101\n",
      "Epoch 28/50\n",
      "34/34 [==============================] - 15s 451ms/step - loss: 0.5252 - acc: 0.7425 - val_loss: 0.6645 - val_acc: 0.6119\n",
      "Epoch 29/50\n",
      "34/34 [==============================] - 15s 451ms/step - loss: 0.5203 - acc: 0.7481 - val_loss: 0.6674 - val_acc: 0.6129\n",
      "Epoch 30/50\n",
      "34/34 [==============================] - 15s 454ms/step - loss: 0.5154 - acc: 0.7535 - val_loss: 0.6690 - val_acc: 0.6157\n",
      "Epoch 31/50\n",
      "34/34 [==============================] - 15s 453ms/step - loss: 0.5108 - acc: 0.7579 - val_loss: 0.6671 - val_acc: 0.6119\n",
      "Epoch 32/50\n",
      "34/34 [==============================] - 16s 457ms/step - loss: 0.5061 - acc: 0.7626 - val_loss: 0.6777 - val_acc: 0.6082\n",
      "Epoch 33/50\n",
      "34/34 [==============================] - 15s 452ms/step - loss: 0.5010 - acc: 0.7684 - val_loss: 0.6777 - val_acc: 0.6157\n"
     ]
    }
   ],
   "source": [
    "#compile and fit the training data, then validate the fit with validation data\n",
    "early_stopping = [EarlyStopping(monitor='val_loss', patience=10)]\n",
    "optimizer = keras.optimizers.SGD(lr=0.0001)\n",
    "model.compile(optimizer=optimizer,\n",
    "              loss='binary_crossentropy',\n",
    "              metrics=['acc'])\n",
    "\n",
    "results = model.fit(X_train2,\n",
    "                    y_train2,\n",
    "                    callbacks=early_stopping,\n",
    "                    epochs=50,\n",
    "                    batch_size=128,\n",
    "                    validation_data=(X_val, y_val), shuffle=False)"
   ]
  },
  {
   "cell_type": "markdown",
   "metadata": {},
   "source": [
    "#### Model results with train and validation sets"
   ]
  },
  {
   "cell_type": "code",
   "execution_count": 19,
   "metadata": {},
   "outputs": [
    {
     "name": "stdout",
     "output_type": "stream",
     "text": [
      "134/134 [==============================] - 5s 38ms/step - loss: 0.4972 - acc: 0.7535\n"
     ]
    }
   ],
   "source": [
    "results_train = model.evaluate(X_train2, y_train2)"
   ]
  },
  {
   "cell_type": "code",
   "execution_count": 20,
   "metadata": {},
   "outputs": [
    {
     "name": "stdout",
     "output_type": "stream",
     "text": [
      "34/34 [==============================] - 1s 36ms/step - loss: 0.6777 - acc: 0.6157\n"
     ]
    }
   ],
   "source": [
    "results_val = model.evaluate(X_val, y_val)"
   ]
  },
  {
   "cell_type": "markdown",
   "metadata": {},
   "source": [
    "#### Visualizing results"
   ]
  },
  {
   "cell_type": "code",
   "execution_count": 21,
   "metadata": {},
   "outputs": [
    {
     "data": {
      "image/png": "[encoded data removed]",
      "text/plain": [
       "<Figure size 432x288 with 1 Axes>"
      ]
     },
     "metadata": {
      "needs_background": "light"
     },
     "output_type": "display_data"
    },
    {
     "data": {
      "image/png": "[encoded data removed]",
      "text/plain": [
       "<Figure size 432x288 with 1 Axes>"
      ]
     },
     "metadata": {
      "needs_background": "light"
     },
     "output_type": "display_data"
    }
   ],
   "source": [
    "visualize_results(results)"
   ]
  },
  {
   "cell_type": "code",
   "execution_count": 22,
   "metadata": {},
   "outputs": [
    {
     "data": {
      "text/plain": [
       "(<AxesSubplot:>,\n",
       " (array([0.5, 1.5]), [Text(0, 0.5, 'Deceased'), Text(0, 1.5, 'Discharged')]))"
      ]
     },
     "execution_count": 22,
     "metadata": {},
     "output_type": "execute_result"
    },
    {
     "data": {
      "image/png": "[encoded data removed]",
      "text/plain": [
       "<Figure size 432x288 with 2 Axes>"
      ]
     },
     "metadata": {
      "needs_background": "light"
     },
     "output_type": "display_data"
    }
   ],
   "source": [
    "#confusion matrix for model predictions\n",
    "\n",
    "label_pred = (model.predict(X_val) > 0.5).astype(int)\n",
    "\n",
    "plot_matrix(y_val, label_pred);\n",
    "\n"
   ]
  },
  {
   "cell_type": "markdown",
   "metadata": {},
   "source": [
    "### Insight: This model appears to begin overfitting to the training data, and the validation accuracy does not increase. Will adding addtional convolution layers increase performance?"
   ]
  },
  {
   "cell_type": "code",
   "execution_count": 23,
   "metadata": {},
   "outputs": [],
   "source": [
    "# Increasing convolutional layers\n",
    "np.random.seed(424)\n",
    "model2 = models.Sequential()\n",
    "model2.add(layers.Conv2D(32, (3, 3), activation='relu', input_shape=(128, 128, 1)))\n",
    "model2.add(layers.MaxPooling2D((2, 2)))\n",
    "model2.add(layers.Conv2D(16, (4, 4), activation='relu'))\n",
    "model2.add(layers.MaxPooling2D((2, 2)))\n",
    "model2.add(layers.Conv2D(64, (2, 2), activation='relu'))\n",
    "model2.add(layers.MaxPooling2D((3, 3)))\n",
    "\n",
    "model2.add(layers.Flatten())\n",
    "model2.add(layers.Dense(96, activation='relu'))\n",
    "model2.add(layers.Dense(1, activation='sigmoid'))"
   ]
  },
  {
   "cell_type": "code",
   "execution_count": 24,
   "metadata": {
    "scrolled": true
   },
   "outputs": [
    {
     "name": "stdout",
     "output_type": "stream",
     "text": [
      "Model: \"sequential_1\"\n",
      "_________________________________________________________________\n",
      "Layer (type)                 Output Shape              Param #   \n",
      "=================================================================\n",
      "conv2d_1 (Conv2D)            (None, 126, 126, 32)      320       \n",
      "_________________________________________________________________\n",
      "max_pooling2d_1 (MaxPooling2 (None, 63, 63, 32)        0         \n",
      "_________________________________________________________________\n",
      "conv2d_2 (Conv2D)            (None, 60, 60, 16)        8208      \n",
      "_________________________________________________________________\n",
      "max_pooling2d_2 (MaxPooling2 (None, 30, 30, 16)        0         \n",
      "_________________________________________________________________\n",
      "conv2d_3 (Conv2D)            (None, 29, 29, 64)        4160      \n",
      "_________________________________________________________________\n",
      "max_pooling2d_3 (MaxPooling2 (None, 9, 9, 64)          0         \n",
      "_________________________________________________________________\n",
      "flatten_1 (Flatten)          (None, 5184)              0         \n",
      "_________________________________________________________________\n",
      "dense_2 (Dense)              (None, 96)                497760    \n",
      "_________________________________________________________________\n",
      "dense_3 (Dense)              (None, 1)                 97        \n",
      "=================================================================\n",
      "Total params: 510,545\n",
      "Trainable params: 510,545\n",
      "Non-trainable params: 0\n",
      "_________________________________________________________________\n"
     ]
    }
   ],
   "source": [
    "model2.summary()"
   ]
  },
  {
   "cell_type": "code",
   "execution_count": 25,
   "metadata": {
    "scrolled": true
   },
   "outputs": [
    {
     "name": "stdout",
     "output_type": "stream",
     "text": [
      "Epoch 1/50\n",
      "34/34 [==============================] - 31s 899ms/step - loss: 2.0524 - acc: 0.5466 - val_loss: 1.4119 - val_acc: 0.5280\n",
      "Epoch 2/50\n",
      "34/34 [==============================] - 31s 909ms/step - loss: 1.5119 - acc: 0.5308 - val_loss: 1.3927 - val_acc: 0.5233\n",
      "Epoch 3/50\n",
      "34/34 [==============================] - 31s 912ms/step - loss: 1.5060 - acc: 0.5285 - val_loss: 1.3400 - val_acc: 0.5261\n",
      "Epoch 4/50\n",
      "34/34 [==============================] - 30s 894ms/step - loss: 1.4670 - acc: 0.5343 - val_loss: 1.3082 - val_acc: 0.5243\n",
      "Epoch 5/50\n",
      "34/34 [==============================] - 30s 894ms/step - loss: 1.4345 - acc: 0.5361 - val_loss: 1.2730 - val_acc: 0.5326\n",
      "Epoch 6/50\n",
      "34/34 [==============================] - 30s 893ms/step - loss: 1.4005 - acc: 0.5359 - val_loss: 1.2486 - val_acc: 0.5364\n",
      "Epoch 7/50\n",
      "34/34 [==============================] - 30s 893ms/step - loss: 1.3757 - acc: 0.5375 - val_loss: 1.2329 - val_acc: 0.5382\n",
      "Epoch 8/50\n",
      "34/34 [==============================] - 31s 899ms/step - loss: 1.3508 - acc: 0.5382 - val_loss: 1.2218 - val_acc: 0.5410\n",
      "Epoch 9/50\n",
      "34/34 [==============================] - 30s 895ms/step - loss: 1.3298 - acc: 0.5420 - val_loss: 1.2093 - val_acc: 0.5382\n",
      "Epoch 10/50\n",
      "34/34 [==============================] - 31s 898ms/step - loss: 1.3080 - acc: 0.5434 - val_loss: 1.1980 - val_acc: 0.5401\n",
      "Epoch 11/50\n",
      "34/34 [==============================] - 31s 905ms/step - loss: 1.2888 - acc: 0.5420 - val_loss: 1.1866 - val_acc: 0.5429\n",
      "Epoch 12/50\n",
      "34/34 [==============================] - 30s 892ms/step - loss: 1.2699 - acc: 0.5434 - val_loss: 1.1760 - val_acc: 0.5429\n",
      "Epoch 13/50\n",
      "34/34 [==============================] - 31s 897ms/step - loss: 1.2516 - acc: 0.5466 - val_loss: 1.1652 - val_acc: 0.5448\n",
      "Epoch 14/50\n",
      "34/34 [==============================] - 31s 909ms/step - loss: 1.2341 - acc: 0.5483 - val_loss: 1.1552 - val_acc: 0.5476\n",
      "Epoch 15/50\n",
      "34/34 [==============================] - 31s 898ms/step - loss: 1.2167 - acc: 0.5480 - val_loss: 1.1449 - val_acc: 0.5457\n",
      "Epoch 16/50\n",
      "34/34 [==============================] - 30s 896ms/step - loss: 1.1991 - acc: 0.5466 - val_loss: 1.1363 - val_acc: 0.5457\n",
      "Epoch 17/50\n",
      "34/34 [==============================] - 31s 904ms/step - loss: 1.1842 - acc: 0.5485 - val_loss: 1.1286 - val_acc: 0.5485\n",
      "Epoch 18/50\n",
      "34/34 [==============================] - 30s 897ms/step - loss: 1.1702 - acc: 0.5485 - val_loss: 1.1216 - val_acc: 0.5513\n",
      "Epoch 19/50\n",
      "34/34 [==============================] - 31s 906ms/step - loss: 1.1569 - acc: 0.5480 - val_loss: 1.1144 - val_acc: 0.5504\n",
      "Epoch 20/50\n",
      "34/34 [==============================] - 30s 892ms/step - loss: 1.1442 - acc: 0.5476 - val_loss: 1.1068 - val_acc: 0.5485\n",
      "Epoch 21/50\n",
      "34/34 [==============================] - 30s 893ms/step - loss: 1.1325 - acc: 0.5469 - val_loss: 1.0996 - val_acc: 0.5513\n",
      "Epoch 22/50\n",
      "34/34 [==============================] - 30s 893ms/step - loss: 1.1216 - acc: 0.5490 - val_loss: 1.0933 - val_acc: 0.5541\n",
      "Epoch 23/50\n",
      "34/34 [==============================] - 30s 893ms/step - loss: 1.1112 - acc: 0.5494 - val_loss: 1.0866 - val_acc: 0.5522\n",
      "Epoch 24/50\n",
      "34/34 [==============================] - 30s 896ms/step - loss: 1.1018 - acc: 0.5511 - val_loss: 1.0806 - val_acc: 0.5532\n",
      "Epoch 25/50\n",
      "34/34 [==============================] - 31s 900ms/step - loss: 1.0931 - acc: 0.5527 - val_loss: 1.0750 - val_acc: 0.5513\n",
      "Epoch 26/50\n",
      "34/34 [==============================] - 31s 902ms/step - loss: 1.0847 - acc: 0.5543 - val_loss: 1.0696 - val_acc: 0.5522\n",
      "Epoch 27/50\n",
      "34/34 [==============================] - 31s 910ms/step - loss: 1.0770 - acc: 0.5569 - val_loss: 1.0644 - val_acc: 0.5485\n",
      "Epoch 28/50\n",
      "34/34 [==============================] - 31s 912ms/step - loss: 1.0688 - acc: 0.5569 - val_loss: 1.0594 - val_acc: 0.5532\n",
      "Epoch 29/50\n",
      "34/34 [==============================] - 30s 895ms/step - loss: 1.0611 - acc: 0.5562 - val_loss: 1.0548 - val_acc: 0.5550\n",
      "Epoch 30/50\n",
      "34/34 [==============================] - 31s 905ms/step - loss: 1.0537 - acc: 0.5557 - val_loss: 1.0503 - val_acc: 0.5578\n",
      "Epoch 31/50\n",
      "34/34 [==============================] - 30s 897ms/step - loss: 1.0466 - acc: 0.5574 - val_loss: 1.0455 - val_acc: 0.5616\n",
      "Epoch 32/50\n",
      "34/34 [==============================] - 30s 894ms/step - loss: 1.0389 - acc: 0.5581 - val_loss: 1.0410 - val_acc: 0.5625\n",
      "Epoch 33/50\n",
      "34/34 [==============================] - 31s 903ms/step - loss: 1.0318 - acc: 0.5585 - val_loss: 1.0366 - val_acc: 0.5634\n",
      "Epoch 34/50\n",
      "34/34 [==============================] - 31s 900ms/step - loss: 1.0251 - acc: 0.5606 - val_loss: 1.0316 - val_acc: 0.5662\n",
      "Epoch 35/50\n",
      "34/34 [==============================] - 31s 897ms/step - loss: 1.0180 - acc: 0.5613 - val_loss: 1.0267 - val_acc: 0.5681\n",
      "Epoch 36/50\n",
      "34/34 [==============================] - 31s 909ms/step - loss: 1.0110 - acc: 0.5618 - val_loss: 1.0215 - val_acc: 0.5662\n",
      "Epoch 37/50\n",
      "34/34 [==============================] - 31s 900ms/step - loss: 1.0043 - acc: 0.5625 - val_loss: 1.0171 - val_acc: 0.5653\n",
      "Epoch 38/50\n",
      "34/34 [==============================] - 30s 897ms/step - loss: 0.9980 - acc: 0.5648 - val_loss: 1.0131 - val_acc: 0.5653\n",
      "Epoch 39/50\n",
      "34/34 [==============================] - 31s 900ms/step - loss: 0.9914 - acc: 0.5653 - val_loss: 1.0091 - val_acc: 0.5653\n",
      "Epoch 40/50\n",
      "34/34 [==============================] - 31s 902ms/step - loss: 0.9855 - acc: 0.5669 - val_loss: 1.0056 - val_acc: 0.5644\n",
      "Epoch 41/50\n",
      "34/34 [==============================] - 31s 901ms/step - loss: 0.9804 - acc: 0.5693 - val_loss: 1.0023 - val_acc: 0.5662\n",
      "Epoch 42/50\n",
      "34/34 [==============================] - 31s 902ms/step - loss: 0.9759 - acc: 0.5695 - val_loss: 0.9992 - val_acc: 0.5662\n",
      "Epoch 43/50\n",
      "34/34 [==============================] - 30s 894ms/step - loss: 0.9716 - acc: 0.5693 - val_loss: 0.9963 - val_acc: 0.5672\n",
      "Epoch 44/50\n",
      "34/34 [==============================] - 31s 902ms/step - loss: 0.9674 - acc: 0.5697 - val_loss: 0.9931 - val_acc: 0.5681\n",
      "Epoch 45/50\n",
      "34/34 [==============================] - 30s 897ms/step - loss: 0.9633 - acc: 0.5700 - val_loss: 0.9904 - val_acc: 0.5690\n",
      "Epoch 46/50\n",
      "34/34 [==============================] - 31s 903ms/step - loss: 0.9595 - acc: 0.5711 - val_loss: 0.9875 - val_acc: 0.5718\n",
      "Epoch 47/50\n",
      "34/34 [==============================] - 31s 900ms/step - loss: 0.9556 - acc: 0.5718 - val_loss: 0.9846 - val_acc: 0.5737\n",
      "Epoch 48/50\n",
      "34/34 [==============================] - 31s 904ms/step - loss: 0.9517 - acc: 0.5735 - val_loss: 0.9816 - val_acc: 0.5765\n",
      "Epoch 49/50\n",
      "34/34 [==============================] - 31s 902ms/step - loss: 0.9478 - acc: 0.5744 - val_loss: 0.9790 - val_acc: 0.5774\n",
      "Epoch 50/50\n",
      "34/34 [==============================] - 30s 896ms/step - loss: 0.9442 - acc: 0.5746 - val_loss: 0.9764 - val_acc: 0.5737\n"
     ]
    }
   ],
   "source": [
    "optimizer = keras.optimizers.SGD(lr=0.00001)\n",
    "model2.compile(optimizer=optimizer,\n",
    "              loss='binary_crossentropy',\n",
    "              metrics=['acc'])\n",
    "\n",
    "results2 = model2.fit(X_train2,\n",
    "                    y_train2,\n",
    "                    callbacks=early_stopping,\n",
    "                    epochs=50,\n",
    "                    batch_size=128,\n",
    "                    validation_data=(X_val, y_val), shuffle=False)"
   ]
  },
  {
   "cell_type": "markdown",
   "metadata": {},
   "source": [
    "#### Model2 predictions and visualizing results"
   ]
  },
  {
   "cell_type": "code",
   "execution_count": 26,
   "metadata": {},
   "outputs": [
    {
     "name": "stdout",
     "output_type": "stream",
     "text": [
      "134/134 [==============================] - 7s 53ms/step - loss: 0.9064 - acc: 0.5800\n"
     ]
    }
   ],
   "source": [
    "results_train2 = model2.evaluate(X_train2, y_train2)"
   ]
  },
  {
   "cell_type": "code",
   "execution_count": 27,
   "metadata": {},
   "outputs": [
    {
     "name": "stdout",
     "output_type": "stream",
     "text": [
      "34/34 [==============================] - 2s 51ms/step - loss: 0.9764 - acc: 0.5737\n"
     ]
    }
   ],
   "source": [
    "results_test2 = model2.evaluate(X_val, y_val)"
   ]
  },
  {
   "cell_type": "code",
   "execution_count": 28,
   "metadata": {},
   "outputs": [
    {
     "data": {
      "image/png": "[encoded data removed]",
      "text/plain": [
       "<Figure size 432x288 with 1 Axes>"
      ]
     },
     "metadata": {
      "needs_background": "light"
     },
     "output_type": "display_data"
    },
    {
     "data": {
      "image/png": "[encoded data removed]",
      "text/plain": [
       "<Figure size 432x288 with 1 Axes>"
      ]
     },
     "metadata": {
      "needs_background": "light"
     },
     "output_type": "display_data"
    }
   ],
   "source": [
    "# train_pred = (model2.predict(X_train2) > 0.5).astype(int)\n",
    "val_pred = (model2.predict(X_val) > 0.5).astype(int)\n",
    "\n",
    "visualize_results(results2)"
   ]
  },
  {
   "cell_type": "code",
   "execution_count": 29,
   "metadata": {},
   "outputs": [
    {
     "data": {
      "text/plain": [
       "(<AxesSubplot:>,\n",
       " (array([0.5, 1.5]), [Text(0, 0.5, 'Deceased'), Text(0, 1.5, 'Discharged')]))"
      ]
     },
     "execution_count": 29,
     "metadata": {},
     "output_type": "execute_result"
    },
    {
     "data": {
      "image/png": "[encoded data removed]",
      "text/plain": [
       "<Figure size 432x288 with 2 Axes>"
      ]
     },
     "metadata": {
      "needs_background": "light"
     },
     "output_type": "display_data"
    }
   ],
   "source": [
    "plot_matrix(y_val, val_pred);\n"
   ]
  },
  {
   "cell_type": "markdown",
   "metadata": {},
   "source": [
    "### While the 2nd model resolves the overfitting issue, the accuracy has decreased for both training and validation sets. Will regularization improve accuracy scores for better predictions? "
   ]
  },
  {
   "cell_type": "code",
   "execution_count": 12,
   "metadata": {},
   "outputs": [],
   "source": [
    "#adding regularization penalty to model\n",
    "\n",
    "model3 = models.Sequential()\n",
    "model3.add(layers.Conv2D(128, (3, 3), activation='relu', input_shape=(128, 128, 1)))\n",
    "model3.add(layers.MaxPooling2D((2, 2)))\n",
    "model3.add(layers.Conv2D(96, (3, 3), activation='relu'))\n",
    "model3.add(layers.MaxPooling2D((2, 2)))\n",
    "model3.add(layers.Conv2D(64, (3, 3), activation='relu'))\n",
    "model3.add(layers.MaxPooling2D((2, 2)))\n",
    "model3.add(layers.Conv2D(64, (3, 3), activation='relu'))\n",
    "model3.add(layers.MaxPooling2D((2, 2)))\n",
    "\n",
    "\n",
    "model3.add(layers.Flatten())\n",
    "model3.add(layers.Dense(64, activation='relu', kernel_regularizer=regularizers.l2(0.01)))\n",
    "model3.add(layers.Dense(1, activation='sigmoid'))"
   ]
  },
  {
   "cell_type": "code",
   "execution_count": 13,
   "metadata": {},
   "outputs": [
    {
     "name": "stdout",
     "output_type": "stream",
     "text": [
      "Model: \"sequential\"\n",
      "_________________________________________________________________\n",
      "Layer (type)                 Output Shape              Param #   \n",
      "=================================================================\n",
      "conv2d (Conv2D)              (None, 126, 126, 128)     1280      \n",
      "_________________________________________________________________\n",
      "max_pooling2d (MaxPooling2D) (None, 63, 63, 128)       0         \n",
      "_________________________________________________________________\n",
      "conv2d_1 (Conv2D)            (None, 61, 61, 96)        110688    \n",
      "_________________________________________________________________\n",
      "max_pooling2d_1 (MaxPooling2 (None, 30, 30, 96)        0         \n",
      "_________________________________________________________________\n",
      "conv2d_2 (Conv2D)            (None, 28, 28, 64)        55360     \n",
      "_________________________________________________________________\n",
      "max_pooling2d_2 (MaxPooling2 (None, 14, 14, 64)        0         \n",
      "_________________________________________________________________\n",
      "conv2d_3 (Conv2D)            (None, 12, 12, 64)        36928     \n",
      "_________________________________________________________________\n",
      "max_pooling2d_3 (MaxPooling2 (None, 6, 6, 64)          0         \n",
      "_________________________________________________________________\n",
      "flatten (Flatten)            (None, 2304)              0         \n",
      "_________________________________________________________________\n",
      "dense (Dense)                (None, 64)                147520    \n",
      "_________________________________________________________________\n",
      "dense_1 (Dense)              (None, 1)                 65        \n",
      "=================================================================\n",
      "Total params: 351,841\n",
      "Trainable params: 351,841\n",
      "Non-trainable params: 0\n",
      "_________________________________________________________________\n"
     ]
    }
   ],
   "source": [
    "model3.summary()"
   ]
  },
  {
   "cell_type": "code",
   "execution_count": null,
   "metadata": {
    "scrolled": true
   },
   "outputs": [
    {
     "name": "stdout",
     "output_type": "stream",
     "text": [
      "Epoch 1/25\n",
      "67/67 [==============================] - 113s 2s/step - loss: 2.1942 - acc: 0.5518 - val_loss: 1.9601 - val_acc: 0.5765\n",
      "Epoch 2/25\n",
      "45/67 [===================>..........] - ETA: 34s - loss: 1.9655 - acc: 0.5771"
     ]
    }
   ],
   "source": [
    "optimizer = keras.optimizers.SGD(lr=0.0001)\n",
    "early_stopping2 = [EarlyStopping(monitor='val_loss', patience=10)]\n",
    "model3.compile(optimizer=optimizer,\n",
    "              loss='binary_crossentropy',\n",
    "              metrics=['acc'])\n",
    "\n",
    "results3 = model3.fit(X_train2,\n",
    "                    y_train2,\n",
    "                    callbacks=early_stopping2,\n",
    "                    epochs=25,\n",
    "                    batch_size=64,\n",
    "                    validation_data=(X_val, y_val), shuffle=False)"
   ]
  },
  {
   "cell_type": "markdown",
   "metadata": {},
   "source": [
    "#### Visualizing results for model 3"
   ]
  },
  {
   "cell_type": "code",
   "execution_count": null,
   "metadata": {},
   "outputs": [],
   "source": [
    "results_train3 = model3.evaluate(X_train2, y_train2)"
   ]
  },
  {
   "cell_type": "code",
   "execution_count": null,
   "metadata": {},
   "outputs": [],
   "source": [
    "results_test3 = model3.evaluate(X_val, y_val)"
   ]
  },
  {
   "cell_type": "code",
   "execution_count": null,
   "metadata": {},
   "outputs": [],
   "source": [
    "visualize_results(results3)"
   ]
  },
  {
   "cell_type": "code",
   "execution_count": null,
   "metadata": {},
   "outputs": [],
   "source": [
    "val_pred3 = (model3.predict(X_val) > 0.5).astype(int)\n",
    "plot_matrix(y_val, val_pred3);\n"
   ]
  },
  {
   "cell_type": "markdown",
   "metadata": {},
   "source": [
    "### Insight: Model 3 performed the best out of all the models. It doesn't overfit like model 1, and has better metrics than model 2 for both train and validation sets. Model 3 will be used to generate probability predictions for the entire dataset after being trained against the entire training set and validated with the testing set."
   ]
  },
  {
   "cell_type": "markdown",
   "metadata": {},
   "source": [
    "## 6) Final model predictions and prediction dataframe creation"
   ]
  },
  {
   "cell_type": "code",
   "execution_count": null,
   "metadata": {},
   "outputs": [],
   "source": [
    "#fit against entire train set and validate with test set, then generate predictions\n",
    "np.random.seed(42)\n",
    "model3 = models.Sequential()\n",
    "model3.add(layers.Conv2D(128, (3, 3), activation='relu', input_shape=(128, 128, 1)))\n",
    "model3.add(layers.MaxPooling2D((2, 2)))\n",
    "model3.add(layers.Conv2D(96, (3, 3), activation='relu'))\n",
    "model3.add(layers.MaxPooling2D((2, 2)))\n",
    "model3.add(layers.Conv2D(64, (3, 3), activation='relu'))\n",
    "model3.add(layers.MaxPooling2D((2, 2)))\n",
    "model3.add(layers.Conv2D(64, (3, 3), activation='relu'))\n",
    "model3.add(layers.MaxPooling2D((2, 2)))\n",
    "\n",
    "\n",
    "model3.add(layers.Flatten())\n",
    "model3.add(layers.Dense(64, activation='relu', kernel_regularizer=regularizers.l2(0.01)))\n",
    "model3.add(layers.Dense(1, activation='sigmoid'))"
   ]
  },
  {
   "cell_type": "code",
   "execution_count": null,
   "metadata": {
    "scrolled": true
   },
   "outputs": [],
   "source": [
    "optimizer = keras.optimizers.SGD(lr=0.0001)\n",
    "early_stopping2 = [EarlyStopping(monitor='val_loss', patience=10)]\n",
    "model3.compile(optimizer=optimizer,\n",
    "              loss='binary_crossentropy',\n",
    "              metrics=['acc'])\n",
    "\n",
    "results_final = model3.fit(X_train,\n",
    "                    y_train,\n",
    "                    callbacks=early_stopping2,\n",
    "                    epochs=25,\n",
    "                    batch_size=64,\n",
    "                    validation_data=(X_test, y_test), shuffle=False)"
   ]
  },
  {
   "cell_type": "markdown",
   "metadata": {},
   "source": [
    "### Final model visualizations and evaluation"
   ]
  },
  {
   "cell_type": "code",
   "execution_count": null,
   "metadata": {},
   "outputs": [],
   "source": [
    "train_final = model3.evaluate(X_train, y_train)"
   ]
  },
  {
   "cell_type": "code",
   "execution_count": null,
   "metadata": {},
   "outputs": [],
   "source": [
    "test_final = model3.evaluate(X_test, y_test)"
   ]
  },
  {
   "cell_type": "code",
   "execution_count": null,
   "metadata": {},
   "outputs": [],
   "source": [
    "visualize_results(results_final)"
   ]
  },
  {
   "cell_type": "code",
   "execution_count": null,
   "metadata": {},
   "outputs": [],
   "source": [
    "\n",
    "final_pred = (model3.predict(X_test) > 0.5).astype(int)\n",
    "plot_matrix(y_test, final_pred);\n"
   ]
  },
  {
   "cell_type": "code",
   "execution_count": null,
   "metadata": {},
   "outputs": [],
   "source": [
    "#generate model predictions\n",
    "data_pred = model3.predict(data_images)\n",
    "data_pred"
   ]
  },
  {
   "cell_type": "code",
   "execution_count": null,
   "metadata": {},
   "outputs": [],
   "source": [
    "#correlate predictions to patient IDs and convert to pandas dataframe\n",
    "\n",
    "preds = data_pred.tolist()\n",
    "pred_df = pd.DataFrame({'patient_id':data_generator.filenames, 'prediction':pred})\n",
    "pred_df.head(-10)"
   ]
  },
  {
   "cell_type": "code",
   "execution_count": 83,
   "metadata": {},
   "outputs": [],
   "source": [
    "#save predictions as a dataframe  \n",
    "# import os\n",
    "# cwd = os.getcwd()\n",
    "# path = cwd + \"/pred_df.csv\"\n",
    "# pred_df.to_csv(path, index=False)"
   ]
  },
  {
   "cell_type": "markdown",
   "metadata": {},
   "source": [
    "## Summary: \n",
    "Model 3 offered the best overall structure of the tested CNN models. It did not overfit to the testing data and we can predict the likelihood of survival for each patient. It should be noted that since all the images trained and tested against the model are of COVID19+ patients. Without advanced image processing techniques, the similarity of images to one another adds a layer of difficulty for the model to deal with. \n",
    "\n",
    "By increasing computing power, using object detection to account for port presence, and more time to experiment with models, a higher performing model could be created to generate more accurate mortality predictions. The predictions generated by this model will be correlated to the patient IDs in the cleaned features dataframe (df), and used as an additional feature to help predict patient mortality outcomes. "
   ]
  },
  {
   "cell_type": "code",
   "execution_count": null,
   "metadata": {},
   "outputs": [],
   "source": []
  }
 ],
 "metadata": {
  "kernelspec": {
   "display_name": "Python 3",
   "language": "python",
   "name": "python3"
  },
  "language_info": {
   "codemirror_mode": {
    "name": "ipython",
    "version": 3
   },
   "file_extension": ".py",
   "mimetype": "text/x-python",
   "name": "python",
   "nbconvert_exporter": "python",
   "pygments_lexer": "ipython3",
   "version": "3.8.5"
  }
 },
 "nbformat": 4,
 "nbformat_minor": 4
}
