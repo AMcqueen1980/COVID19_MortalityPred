{
 "cells": [
  {
   "cell_type": "markdown",
   "metadata": {},
   "source": [
    "# Final Modeling notebook\n",
    "\n",
    "This notebook contains the final models and predictions for COVID19 mortality based upon predictions from the CNN model as a feature, as well as other patient data. This combined data will be used with the best performing model on the patient data to generate predictions for COVID19 mortality outcomes."
   ]
  },
  {
   "cell_type": "code",
   "execution_count": 1,
   "metadata": {},
   "outputs": [],
   "source": [
    "import pandas as pd\n",
    "import numpy as np\n",
    "import matplotlib.pyplot as plt\n",
    "import os, re\n",
    "import seaborn as sns\n",
    "import warnings\n",
    "warnings.filterwarnings('ignore')\n",
    "\n",
    "\n",
    "from sklearn.model_selection import train_test_split, cross_val_score, GridSearchCV\n",
    "from sklearn.metrics import confusion_matrix, accuracy_score, precision_score, f1_score \n",
    "from sklearn.dummy import DummyClassifier\n",
    "from sklearn.neighbors import KNeighborsClassifier\n",
    "\n"
   ]
  },
  {
   "cell_type": "code",
   "execution_count": 2,
   "metadata": {},
   "outputs": [
    {
     "data": {
      "text/html": [
       "<div>\n",
       "<style scoped>\n",
       "    .dataframe tbody tr th:only-of-type {\n",
       "        vertical-align: middle;\n",
       "    }\n",
       "\n",
       "    .dataframe tbody tr th {\n",
       "        vertical-align: top;\n",
       "    }\n",
       "\n",
       "    .dataframe thead th {\n",
       "        text-align: right;\n",
       "    }\n",
       "</style>\n",
       "<table border=\"1\" class=\"dataframe\">\n",
       "  <thead>\n",
       "    <tr style=\"text-align: right;\">\n",
       "      <th></th>\n",
       "      <th>patient_id</th>\n",
       "      <th>last.status</th>\n",
       "      <th>is_icu</th>\n",
       "      <th>length_of_stay</th>\n",
       "      <th>days_prior_sx</th>\n",
       "      <th>8331-1_Oral temperature</th>\n",
       "      <th>59408-5_Oxygen saturation in Arterial blood by Pulse oximetry</th>\n",
       "      <th>9279-1_Respiratory rate</th>\n",
       "      <th>76282-3_Heart rate.beat-to-beat by EKG</th>\n",
       "      <th>8480-6_Systolic blood pressure</th>\n",
       "      <th>...</th>\n",
       "      <th>x7_False</th>\n",
       "      <th>x7_True</th>\n",
       "      <th>x8_False</th>\n",
       "      <th>x8_True</th>\n",
       "      <th>x9_False</th>\n",
       "      <th>x9_True</th>\n",
       "      <th>x10_False</th>\n",
       "      <th>x10_True</th>\n",
       "      <th>x11_False</th>\n",
       "      <th>x11_True</th>\n",
       "    </tr>\n",
       "  </thead>\n",
       "  <tbody>\n",
       "    <tr>\n",
       "      <th>0</th>\n",
       "      <td>A917122</td>\n",
       "      <td>discharged</td>\n",
       "      <td>0.0</td>\n",
       "      <td>9.0</td>\n",
       "      <td>10.6</td>\n",
       "      <td>36.4</td>\n",
       "      <td>91.0</td>\n",
       "      <td>22.0</td>\n",
       "      <td>86.0</td>\n",
       "      <td>172.0</td>\n",
       "      <td>...</td>\n",
       "      <td>1.0</td>\n",
       "      <td>0.0</td>\n",
       "      <td>1.0</td>\n",
       "      <td>0.0</td>\n",
       "      <td>1.0</td>\n",
       "      <td>0.0</td>\n",
       "      <td>1.0</td>\n",
       "      <td>0.0</td>\n",
       "      <td>0.0</td>\n",
       "      <td>1.0</td>\n",
       "    </tr>\n",
       "    <tr>\n",
       "      <th>1</th>\n",
       "      <td>A387558</td>\n",
       "      <td>deceased</td>\n",
       "      <td>1.0</td>\n",
       "      <td>15.0</td>\n",
       "      <td>4.2</td>\n",
       "      <td>37.0</td>\n",
       "      <td>100.0</td>\n",
       "      <td>39.0</td>\n",
       "      <td>149.0</td>\n",
       "      <td>158.0</td>\n",
       "      <td>...</td>\n",
       "      <td>0.0</td>\n",
       "      <td>1.0</td>\n",
       "      <td>0.0</td>\n",
       "      <td>1.0</td>\n",
       "      <td>1.0</td>\n",
       "      <td>0.0</td>\n",
       "      <td>1.0</td>\n",
       "      <td>0.0</td>\n",
       "      <td>0.0</td>\n",
       "      <td>1.0</td>\n",
       "    </tr>\n",
       "    <tr>\n",
       "      <th>2</th>\n",
       "      <td>A968238</td>\n",
       "      <td>deceased</td>\n",
       "      <td>1.0</td>\n",
       "      <td>28.0</td>\n",
       "      <td>4.0</td>\n",
       "      <td>37.4</td>\n",
       "      <td>84.0</td>\n",
       "      <td>42.0</td>\n",
       "      <td>88.0</td>\n",
       "      <td>130.0</td>\n",
       "      <td>...</td>\n",
       "      <td>0.0</td>\n",
       "      <td>1.0</td>\n",
       "      <td>1.0</td>\n",
       "      <td>0.0</td>\n",
       "      <td>1.0</td>\n",
       "      <td>0.0</td>\n",
       "      <td>0.0</td>\n",
       "      <td>1.0</td>\n",
       "      <td>1.0</td>\n",
       "      <td>0.0</td>\n",
       "    </tr>\n",
       "    <tr>\n",
       "      <th>3</th>\n",
       "      <td>A106133</td>\n",
       "      <td>deceased</td>\n",
       "      <td>0.0</td>\n",
       "      <td>4.0</td>\n",
       "      <td>6.0</td>\n",
       "      <td>36.7</td>\n",
       "      <td>96.0</td>\n",
       "      <td>16.0</td>\n",
       "      <td>100.0</td>\n",
       "      <td>132.0</td>\n",
       "      <td>...</td>\n",
       "      <td>1.0</td>\n",
       "      <td>0.0</td>\n",
       "      <td>1.0</td>\n",
       "      <td>0.0</td>\n",
       "      <td>1.0</td>\n",
       "      <td>0.0</td>\n",
       "      <td>0.0</td>\n",
       "      <td>1.0</td>\n",
       "      <td>1.0</td>\n",
       "      <td>0.0</td>\n",
       "    </tr>\n",
       "    <tr>\n",
       "      <th>4</th>\n",
       "      <td>A300871</td>\n",
       "      <td>deceased</td>\n",
       "      <td>0.0</td>\n",
       "      <td>3.0</td>\n",
       "      <td>6.0</td>\n",
       "      <td>36.7</td>\n",
       "      <td>97.0</td>\n",
       "      <td>20.0</td>\n",
       "      <td>94.0</td>\n",
       "      <td>104.0</td>\n",
       "      <td>...</td>\n",
       "      <td>1.0</td>\n",
       "      <td>0.0</td>\n",
       "      <td>1.0</td>\n",
       "      <td>0.0</td>\n",
       "      <td>0.0</td>\n",
       "      <td>1.0</td>\n",
       "      <td>1.0</td>\n",
       "      <td>0.0</td>\n",
       "      <td>1.0</td>\n",
       "      <td>0.0</td>\n",
       "    </tr>\n",
       "  </tbody>\n",
       "</table>\n",
       "<p>5 rows × 58 columns</p>\n",
       "</div>"
      ],
      "text/plain": [
       "  patient_id last.status  is_icu  length_of_stay  days_prior_sx  \\\n",
       "0    A917122  discharged     0.0             9.0           10.6   \n",
       "1    A387558    deceased     1.0            15.0            4.2   \n",
       "2    A968238    deceased     1.0            28.0            4.0   \n",
       "3    A106133    deceased     0.0             4.0            6.0   \n",
       "4    A300871    deceased     0.0             3.0            6.0   \n",
       "\n",
       "   8331-1_Oral temperature  \\\n",
       "0                     36.4   \n",
       "1                     37.0   \n",
       "2                     37.4   \n",
       "3                     36.7   \n",
       "4                     36.7   \n",
       "\n",
       "   59408-5_Oxygen saturation in Arterial blood by Pulse oximetry  \\\n",
       "0                                               91.0               \n",
       "1                                              100.0               \n",
       "2                                               84.0               \n",
       "3                                               96.0               \n",
       "4                                               97.0               \n",
       "\n",
       "   9279-1_Respiratory rate  76282-3_Heart rate.beat-to-beat by EKG  \\\n",
       "0                     22.0                                    86.0   \n",
       "1                     39.0                                   149.0   \n",
       "2                     42.0                                    88.0   \n",
       "3                     16.0                                   100.0   \n",
       "4                     20.0                                    94.0   \n",
       "\n",
       "   8480-6_Systolic blood pressure  ...  x7_False  x7_True  x8_False  x8_True  \\\n",
       "0                           172.0  ...       1.0      0.0       1.0      0.0   \n",
       "1                           158.0  ...       0.0      1.0       0.0      1.0   \n",
       "2                           130.0  ...       0.0      1.0       1.0      0.0   \n",
       "3                           132.0  ...       1.0      0.0       1.0      0.0   \n",
       "4                           104.0  ...       1.0      0.0       1.0      0.0   \n",
       "\n",
       "   x9_False  x9_True  x10_False  x10_True  x11_False  x11_True  \n",
       "0       1.0      0.0        1.0       0.0        0.0       1.0  \n",
       "1       1.0      0.0        1.0       0.0        0.0       1.0  \n",
       "2       1.0      0.0        0.0       1.0        1.0       0.0  \n",
       "3       1.0      0.0        0.0       1.0        1.0       0.0  \n",
       "4       0.0      1.0        1.0       0.0        1.0       0.0  \n",
       "\n",
       "[5 rows x 58 columns]"
      ]
     },
     "execution_count": 2,
     "metadata": {},
     "output_type": "execute_result"
    }
   ],
   "source": [
    "df = pd.read_csv('df.csv')\n",
    "df.head()"
   ]
  },
  {
   "cell_type": "code",
   "execution_count": 3,
   "metadata": {},
   "outputs": [
    {
     "data": {
      "text/plain": [
       "(1313, 58)"
      ]
     },
     "execution_count": 3,
     "metadata": {},
     "output_type": "execute_result"
    }
   ],
   "source": [
    "df.shape"
   ]
  },
  {
   "cell_type": "code",
   "execution_count": 4,
   "metadata": {},
   "outputs": [
    {
     "data": {
      "text/html": [
       "<div>\n",
       "<style scoped>\n",
       "    .dataframe tbody tr th:only-of-type {\n",
       "        vertical-align: middle;\n",
       "    }\n",
       "\n",
       "    .dataframe tbody tr th {\n",
       "        vertical-align: top;\n",
       "    }\n",
       "\n",
       "    .dataframe thead th {\n",
       "        text-align: right;\n",
       "    }\n",
       "</style>\n",
       "<table border=\"1\" class=\"dataframe\">\n",
       "  <thead>\n",
       "    <tr style=\"text-align: right;\">\n",
       "      <th></th>\n",
       "      <th>patient_id</th>\n",
       "      <th>prediction</th>\n",
       "    </tr>\n",
       "  </thead>\n",
       "  <tbody>\n",
       "    <tr>\n",
       "      <th>0</th>\n",
       "      <td>deceased\\A003797-211.png</td>\n",
       "      <td>[0.5067868232727051]</td>\n",
       "    </tr>\n",
       "    <tr>\n",
       "      <th>1</th>\n",
       "      <td>deceased\\A003797-213.png</td>\n",
       "      <td>[0.45103394985198975]</td>\n",
       "    </tr>\n",
       "    <tr>\n",
       "      <th>2</th>\n",
       "      <td>deceased\\A003797-215.png</td>\n",
       "      <td>[0.5482220649719238]</td>\n",
       "    </tr>\n",
       "    <tr>\n",
       "      <th>3</th>\n",
       "      <td>deceased\\A003797-217.png</td>\n",
       "      <td>[0.43986982107162476]</td>\n",
       "    </tr>\n",
       "    <tr>\n",
       "      <th>4</th>\n",
       "      <td>deceased\\A003797-219.png</td>\n",
       "      <td>[0.46855348348617554]</td>\n",
       "    </tr>\n",
       "    <tr>\n",
       "      <th>...</th>\n",
       "      <td>...</td>\n",
       "      <td>...</td>\n",
       "    </tr>\n",
       "    <tr>\n",
       "      <th>6685</th>\n",
       "      <td>discharged\\A993649-13609.png</td>\n",
       "      <td>[0.5549108982086182]</td>\n",
       "    </tr>\n",
       "    <tr>\n",
       "      <th>6686</th>\n",
       "      <td>discharged\\A993649-13611.png</td>\n",
       "      <td>[0.595093309879303]</td>\n",
       "    </tr>\n",
       "    <tr>\n",
       "      <th>6687</th>\n",
       "      <td>discharged\\A993649-13613.png</td>\n",
       "      <td>[0.553656816482544]</td>\n",
       "    </tr>\n",
       "    <tr>\n",
       "      <th>6688</th>\n",
       "      <td>discharged\\A993649-13615.png</td>\n",
       "      <td>[0.47506052255630493]</td>\n",
       "    </tr>\n",
       "    <tr>\n",
       "      <th>6689</th>\n",
       "      <td>discharged\\A993649-13617.png</td>\n",
       "      <td>[0.3838842511177063]</td>\n",
       "    </tr>\n",
       "  </tbody>\n",
       "</table>\n",
       "<p>6690 rows × 2 columns</p>\n",
       "</div>"
      ],
      "text/plain": [
       "                        patient_id             prediction\n",
       "0         deceased\\A003797-211.png   [0.5067868232727051]\n",
       "1         deceased\\A003797-213.png  [0.45103394985198975]\n",
       "2         deceased\\A003797-215.png   [0.5482220649719238]\n",
       "3         deceased\\A003797-217.png  [0.43986982107162476]\n",
       "4         deceased\\A003797-219.png  [0.46855348348617554]\n",
       "...                            ...                    ...\n",
       "6685  discharged\\A993649-13609.png   [0.5549108982086182]\n",
       "6686  discharged\\A993649-13611.png    [0.595093309879303]\n",
       "6687  discharged\\A993649-13613.png    [0.553656816482544]\n",
       "6688  discharged\\A993649-13615.png  [0.47506052255630493]\n",
       "6689  discharged\\A993649-13617.png   [0.3838842511177063]\n",
       "\n",
       "[6690 rows x 2 columns]"
      ]
     },
     "execution_count": 4,
     "metadata": {},
     "output_type": "execute_result"
    }
   ],
   "source": [
    "pred_df = pd.read_csv('pred_df.csv')\n",
    "pred_df.head(-10)"
   ]
  },
  {
   "cell_type": "code",
   "execution_count": 5,
   "metadata": {},
   "outputs": [
    {
     "data": {
      "text/plain": [
       "(6700, 2)"
      ]
     },
     "execution_count": 5,
     "metadata": {},
     "output_type": "execute_result"
    }
   ],
   "source": [
    "pred_df.shape"
   ]
  },
  {
   "cell_type": "code",
   "execution_count": 6,
   "metadata": {},
   "outputs": [],
   "source": [
    "# pred_df['patient_id'].apply(re.findall(r'A[0-9]{6}', pred_df['patient_id']))"
   ]
  },
  {
   "cell_type": "code",
   "execution_count": 7,
   "metadata": {},
   "outputs": [
    {
     "data": {
      "text/plain": [
       "str"
      ]
     },
     "execution_count": 7,
     "metadata": {},
     "output_type": "execute_result"
    }
   ],
   "source": [
    "type(pred_df['patient_id'][0])"
   ]
  },
  {
   "cell_type": "code",
   "execution_count": 8,
   "metadata": {},
   "outputs": [],
   "source": [
    "pred_df['new_id'] = pred_df['patient_id'].str.extract(r'(A[0-9]{6})')"
   ]
  },
  {
   "cell_type": "code",
   "execution_count": 9,
   "metadata": {},
   "outputs": [
    {
     "data": {
      "text/html": [
       "<div>\n",
       "<style scoped>\n",
       "    .dataframe tbody tr th:only-of-type {\n",
       "        vertical-align: middle;\n",
       "    }\n",
       "\n",
       "    .dataframe tbody tr th {\n",
       "        vertical-align: top;\n",
       "    }\n",
       "\n",
       "    .dataframe thead th {\n",
       "        text-align: right;\n",
       "    }\n",
       "</style>\n",
       "<table border=\"1\" class=\"dataframe\">\n",
       "  <thead>\n",
       "    <tr style=\"text-align: right;\">\n",
       "      <th></th>\n",
       "      <th>patient_id</th>\n",
       "      <th>prediction</th>\n",
       "      <th>new_id</th>\n",
       "    </tr>\n",
       "  </thead>\n",
       "  <tbody>\n",
       "    <tr>\n",
       "      <th>0</th>\n",
       "      <td>deceased\\A003797-211.png</td>\n",
       "      <td>[0.5067868232727051]</td>\n",
       "      <td>A003797</td>\n",
       "    </tr>\n",
       "    <tr>\n",
       "      <th>1</th>\n",
       "      <td>deceased\\A003797-213.png</td>\n",
       "      <td>[0.45103394985198975]</td>\n",
       "      <td>A003797</td>\n",
       "    </tr>\n",
       "    <tr>\n",
       "      <th>2</th>\n",
       "      <td>deceased\\A003797-215.png</td>\n",
       "      <td>[0.5482220649719238]</td>\n",
       "      <td>A003797</td>\n",
       "    </tr>\n",
       "    <tr>\n",
       "      <th>3</th>\n",
       "      <td>deceased\\A003797-217.png</td>\n",
       "      <td>[0.43986982107162476]</td>\n",
       "      <td>A003797</td>\n",
       "    </tr>\n",
       "    <tr>\n",
       "      <th>4</th>\n",
       "      <td>deceased\\A003797-219.png</td>\n",
       "      <td>[0.46855348348617554]</td>\n",
       "      <td>A003797</td>\n",
       "    </tr>\n",
       "  </tbody>\n",
       "</table>\n",
       "</div>"
      ],
      "text/plain": [
       "                 patient_id             prediction   new_id\n",
       "0  deceased\\A003797-211.png   [0.5067868232727051]  A003797\n",
       "1  deceased\\A003797-213.png  [0.45103394985198975]  A003797\n",
       "2  deceased\\A003797-215.png   [0.5482220649719238]  A003797\n",
       "3  deceased\\A003797-217.png  [0.43986982107162476]  A003797\n",
       "4  deceased\\A003797-219.png  [0.46855348348617554]  A003797"
      ]
     },
     "execution_count": 9,
     "metadata": {},
     "output_type": "execute_result"
    }
   ],
   "source": [
    "pred_df.head()"
   ]
  },
  {
   "cell_type": "code",
   "execution_count": 10,
   "metadata": {},
   "outputs": [],
   "source": [
    "pred_df['prediction'] = pred_df['prediction'].str.strip('[]')"
   ]
  },
  {
   "cell_type": "code",
   "execution_count": 11,
   "metadata": {},
   "outputs": [],
   "source": [
    "#convert predictions to float\n",
    "\n",
    "pred_df['prediction'] = pred_df['prediction'].astype(float)"
   ]
  },
  {
   "cell_type": "code",
   "execution_count": 12,
   "metadata": {},
   "outputs": [
    {
     "data": {
      "text/plain": [
       "patient_id     object\n",
       "prediction    float64\n",
       "new_id         object\n",
       "dtype: object"
      ]
     },
     "execution_count": 12,
     "metadata": {},
     "output_type": "execute_result"
    }
   ],
   "source": [
    "pred_df.dtypes"
   ]
  },
  {
   "cell_type": "code",
   "execution_count": 13,
   "metadata": {},
   "outputs": [
    {
     "data": {
      "text/html": [
       "<div>\n",
       "<style scoped>\n",
       "    .dataframe tbody tr th:only-of-type {\n",
       "        vertical-align: middle;\n",
       "    }\n",
       "\n",
       "    .dataframe tbody tr th {\n",
       "        vertical-align: top;\n",
       "    }\n",
       "\n",
       "    .dataframe thead th {\n",
       "        text-align: right;\n",
       "    }\n",
       "</style>\n",
       "<table border=\"1\" class=\"dataframe\">\n",
       "  <thead>\n",
       "    <tr style=\"text-align: right;\">\n",
       "      <th></th>\n",
       "      <th>patient_id</th>\n",
       "      <th>prediction</th>\n",
       "      <th>new_id</th>\n",
       "    </tr>\n",
       "  </thead>\n",
       "  <tbody>\n",
       "    <tr>\n",
       "      <th>0</th>\n",
       "      <td>deceased\\A003797-211.png</td>\n",
       "      <td>0.506787</td>\n",
       "      <td>A003797</td>\n",
       "    </tr>\n",
       "    <tr>\n",
       "      <th>1</th>\n",
       "      <td>deceased\\A003797-213.png</td>\n",
       "      <td>0.451034</td>\n",
       "      <td>A003797</td>\n",
       "    </tr>\n",
       "    <tr>\n",
       "      <th>2</th>\n",
       "      <td>deceased\\A003797-215.png</td>\n",
       "      <td>0.548222</td>\n",
       "      <td>A003797</td>\n",
       "    </tr>\n",
       "    <tr>\n",
       "      <th>3</th>\n",
       "      <td>deceased\\A003797-217.png</td>\n",
       "      <td>0.439870</td>\n",
       "      <td>A003797</td>\n",
       "    </tr>\n",
       "    <tr>\n",
       "      <th>4</th>\n",
       "      <td>deceased\\A003797-219.png</td>\n",
       "      <td>0.468553</td>\n",
       "      <td>A003797</td>\n",
       "    </tr>\n",
       "  </tbody>\n",
       "</table>\n",
       "</div>"
      ],
      "text/plain": [
       "                 patient_id  prediction   new_id\n",
       "0  deceased\\A003797-211.png    0.506787  A003797\n",
       "1  deceased\\A003797-213.png    0.451034  A003797\n",
       "2  deceased\\A003797-215.png    0.548222  A003797\n",
       "3  deceased\\A003797-217.png    0.439870  A003797\n",
       "4  deceased\\A003797-219.png    0.468553  A003797"
      ]
     },
     "execution_count": 13,
     "metadata": {},
     "output_type": "execute_result"
    }
   ],
   "source": [
    "pred_df.head()"
   ]
  },
  {
   "cell_type": "code",
   "execution_count": 14,
   "metadata": {},
   "outputs": [
    {
     "data": {
      "text/html": [
       "<div>\n",
       "<style scoped>\n",
       "    .dataframe tbody tr th:only-of-type {\n",
       "        vertical-align: middle;\n",
       "    }\n",
       "\n",
       "    .dataframe tbody tr th {\n",
       "        vertical-align: top;\n",
       "    }\n",
       "\n",
       "    .dataframe thead th {\n",
       "        text-align: right;\n",
       "    }\n",
       "</style>\n",
       "<table border=\"1\" class=\"dataframe\">\n",
       "  <thead>\n",
       "    <tr style=\"text-align: right;\">\n",
       "      <th></th>\n",
       "      <th>new_id</th>\n",
       "      <th>prediction</th>\n",
       "    </tr>\n",
       "  </thead>\n",
       "  <tbody>\n",
       "    <tr>\n",
       "      <th>0</th>\n",
       "      <td>A000801</td>\n",
       "      <td>0.619411</td>\n",
       "    </tr>\n",
       "    <tr>\n",
       "      <th>1</th>\n",
       "      <td>A000936</td>\n",
       "      <td>0.688039</td>\n",
       "    </tr>\n",
       "    <tr>\n",
       "      <th>2</th>\n",
       "      <td>A001375</td>\n",
       "      <td>0.791101</td>\n",
       "    </tr>\n",
       "    <tr>\n",
       "      <th>3</th>\n",
       "      <td>A001942</td>\n",
       "      <td>0.815414</td>\n",
       "    </tr>\n",
       "    <tr>\n",
       "      <th>4</th>\n",
       "      <td>A002052</td>\n",
       "      <td>0.624444</td>\n",
       "    </tr>\n",
       "  </tbody>\n",
       "</table>\n",
       "</div>"
      ],
      "text/plain": [
       "    new_id  prediction\n",
       "0  A000801    0.619411\n",
       "1  A000936    0.688039\n",
       "2  A001375    0.791101\n",
       "3  A001942    0.815414\n",
       "4  A002052    0.624444"
      ]
     },
     "execution_count": 14,
     "metadata": {},
     "output_type": "execute_result"
    }
   ],
   "source": [
    "#obtain mean prediction values for each patient\n",
    "\n",
    "predmeans_df = pred_df.groupby('new_id', as_index=False)['prediction'].mean()\n",
    "predmeans_df.head()"
   ]
  },
  {
   "cell_type": "code",
   "execution_count": 15,
   "metadata": {},
   "outputs": [
    {
     "data": {
      "text/plain": [
       "(1332, 2)"
      ]
     },
     "execution_count": 15,
     "metadata": {},
     "output_type": "execute_result"
    }
   ],
   "source": [
    "#shape predmeans_df\n",
    "predmeans_df.shape"
   ]
  },
  {
   "cell_type": "code",
   "execution_count": 16,
   "metadata": {},
   "outputs": [],
   "source": [
    "predmeans_df.rename({'new_id':'patient_id'}, axis=1, inplace=True)"
   ]
  },
  {
   "cell_type": "code",
   "execution_count": 17,
   "metadata": {},
   "outputs": [
    {
     "data": {
      "text/html": [
       "<div>\n",
       "<style scoped>\n",
       "    .dataframe tbody tr th:only-of-type {\n",
       "        vertical-align: middle;\n",
       "    }\n",
       "\n",
       "    .dataframe tbody tr th {\n",
       "        vertical-align: top;\n",
       "    }\n",
       "\n",
       "    .dataframe thead th {\n",
       "        text-align: right;\n",
       "    }\n",
       "</style>\n",
       "<table border=\"1\" class=\"dataframe\">\n",
       "  <thead>\n",
       "    <tr style=\"text-align: right;\">\n",
       "      <th></th>\n",
       "      <th>patient_id</th>\n",
       "      <th>prediction</th>\n",
       "    </tr>\n",
       "  </thead>\n",
       "  <tbody>\n",
       "    <tr>\n",
       "      <th>0</th>\n",
       "      <td>A000801</td>\n",
       "      <td>0.619411</td>\n",
       "    </tr>\n",
       "    <tr>\n",
       "      <th>1</th>\n",
       "      <td>A000936</td>\n",
       "      <td>0.688039</td>\n",
       "    </tr>\n",
       "    <tr>\n",
       "      <th>2</th>\n",
       "      <td>A001375</td>\n",
       "      <td>0.791101</td>\n",
       "    </tr>\n",
       "    <tr>\n",
       "      <th>3</th>\n",
       "      <td>A001942</td>\n",
       "      <td>0.815414</td>\n",
       "    </tr>\n",
       "    <tr>\n",
       "      <th>4</th>\n",
       "      <td>A002052</td>\n",
       "      <td>0.624444</td>\n",
       "    </tr>\n",
       "  </tbody>\n",
       "</table>\n",
       "</div>"
      ],
      "text/plain": [
       "  patient_id  prediction\n",
       "0    A000801    0.619411\n",
       "1    A000936    0.688039\n",
       "2    A001375    0.791101\n",
       "3    A001942    0.815414\n",
       "4    A002052    0.624444"
      ]
     },
     "execution_count": 17,
     "metadata": {},
     "output_type": "execute_result"
    }
   ],
   "source": [
    "predmeans_df.head()"
   ]
  },
  {
   "cell_type": "markdown",
   "metadata": {},
   "source": [
    "#### Insight: some patient IDs were lost. These patient rows will have to be dropped from the final df"
   ]
  },
  {
   "cell_type": "code",
   "execution_count": 18,
   "metadata": {},
   "outputs": [
    {
     "data": {
      "text/html": [
       "<div>\n",
       "<style scoped>\n",
       "    .dataframe tbody tr th:only-of-type {\n",
       "        vertical-align: middle;\n",
       "    }\n",
       "\n",
       "    .dataframe tbody tr th {\n",
       "        vertical-align: top;\n",
       "    }\n",
       "\n",
       "    .dataframe thead th {\n",
       "        text-align: right;\n",
       "    }\n",
       "</style>\n",
       "<table border=\"1\" class=\"dataframe\">\n",
       "  <thead>\n",
       "    <tr style=\"text-align: right;\">\n",
       "      <th></th>\n",
       "      <th>patient_id</th>\n",
       "      <th>last.status</th>\n",
       "      <th>is_icu</th>\n",
       "      <th>length_of_stay</th>\n",
       "      <th>days_prior_sx</th>\n",
       "      <th>8331-1_Oral temperature</th>\n",
       "      <th>59408-5_Oxygen saturation in Arterial blood by Pulse oximetry</th>\n",
       "      <th>9279-1_Respiratory rate</th>\n",
       "      <th>76282-3_Heart rate.beat-to-beat by EKG</th>\n",
       "      <th>8480-6_Systolic blood pressure</th>\n",
       "      <th>...</th>\n",
       "      <th>x7_True</th>\n",
       "      <th>x8_False</th>\n",
       "      <th>x8_True</th>\n",
       "      <th>x9_False</th>\n",
       "      <th>x9_True</th>\n",
       "      <th>x10_False</th>\n",
       "      <th>x10_True</th>\n",
       "      <th>x11_False</th>\n",
       "      <th>x11_True</th>\n",
       "      <th>prediction</th>\n",
       "    </tr>\n",
       "  </thead>\n",
       "  <tbody>\n",
       "    <tr>\n",
       "      <th>0</th>\n",
       "      <td>A917122</td>\n",
       "      <td>discharged</td>\n",
       "      <td>0.0</td>\n",
       "      <td>9.0</td>\n",
       "      <td>10.6</td>\n",
       "      <td>36.4</td>\n",
       "      <td>91.0</td>\n",
       "      <td>22.0</td>\n",
       "      <td>86.0</td>\n",
       "      <td>172.0</td>\n",
       "      <td>...</td>\n",
       "      <td>0.0</td>\n",
       "      <td>1.0</td>\n",
       "      <td>0.0</td>\n",
       "      <td>1.0</td>\n",
       "      <td>0.0</td>\n",
       "      <td>1.0</td>\n",
       "      <td>0.0</td>\n",
       "      <td>0.0</td>\n",
       "      <td>1.0</td>\n",
       "      <td>0.658740</td>\n",
       "    </tr>\n",
       "    <tr>\n",
       "      <th>1</th>\n",
       "      <td>A387558</td>\n",
       "      <td>deceased</td>\n",
       "      <td>1.0</td>\n",
       "      <td>15.0</td>\n",
       "      <td>4.2</td>\n",
       "      <td>37.0</td>\n",
       "      <td>100.0</td>\n",
       "      <td>39.0</td>\n",
       "      <td>149.0</td>\n",
       "      <td>158.0</td>\n",
       "      <td>...</td>\n",
       "      <td>1.0</td>\n",
       "      <td>0.0</td>\n",
       "      <td>1.0</td>\n",
       "      <td>1.0</td>\n",
       "      <td>0.0</td>\n",
       "      <td>1.0</td>\n",
       "      <td>0.0</td>\n",
       "      <td>0.0</td>\n",
       "      <td>1.0</td>\n",
       "      <td>0.607654</td>\n",
       "    </tr>\n",
       "    <tr>\n",
       "      <th>2</th>\n",
       "      <td>A968238</td>\n",
       "      <td>deceased</td>\n",
       "      <td>1.0</td>\n",
       "      <td>28.0</td>\n",
       "      <td>4.0</td>\n",
       "      <td>37.4</td>\n",
       "      <td>84.0</td>\n",
       "      <td>42.0</td>\n",
       "      <td>88.0</td>\n",
       "      <td>130.0</td>\n",
       "      <td>...</td>\n",
       "      <td>1.0</td>\n",
       "      <td>1.0</td>\n",
       "      <td>0.0</td>\n",
       "      <td>1.0</td>\n",
       "      <td>0.0</td>\n",
       "      <td>0.0</td>\n",
       "      <td>1.0</td>\n",
       "      <td>1.0</td>\n",
       "      <td>0.0</td>\n",
       "      <td>0.530055</td>\n",
       "    </tr>\n",
       "    <tr>\n",
       "      <th>3</th>\n",
       "      <td>A106133</td>\n",
       "      <td>deceased</td>\n",
       "      <td>0.0</td>\n",
       "      <td>4.0</td>\n",
       "      <td>6.0</td>\n",
       "      <td>36.7</td>\n",
       "      <td>96.0</td>\n",
       "      <td>16.0</td>\n",
       "      <td>100.0</td>\n",
       "      <td>132.0</td>\n",
       "      <td>...</td>\n",
       "      <td>0.0</td>\n",
       "      <td>1.0</td>\n",
       "      <td>0.0</td>\n",
       "      <td>1.0</td>\n",
       "      <td>0.0</td>\n",
       "      <td>0.0</td>\n",
       "      <td>1.0</td>\n",
       "      <td>1.0</td>\n",
       "      <td>0.0</td>\n",
       "      <td>NaN</td>\n",
       "    </tr>\n",
       "    <tr>\n",
       "      <th>4</th>\n",
       "      <td>A300871</td>\n",
       "      <td>deceased</td>\n",
       "      <td>0.0</td>\n",
       "      <td>3.0</td>\n",
       "      <td>6.0</td>\n",
       "      <td>36.7</td>\n",
       "      <td>97.0</td>\n",
       "      <td>20.0</td>\n",
       "      <td>94.0</td>\n",
       "      <td>104.0</td>\n",
       "      <td>...</td>\n",
       "      <td>0.0</td>\n",
       "      <td>1.0</td>\n",
       "      <td>0.0</td>\n",
       "      <td>0.0</td>\n",
       "      <td>1.0</td>\n",
       "      <td>1.0</td>\n",
       "      <td>0.0</td>\n",
       "      <td>1.0</td>\n",
       "      <td>0.0</td>\n",
       "      <td>0.290393</td>\n",
       "    </tr>\n",
       "  </tbody>\n",
       "</table>\n",
       "<p>5 rows × 59 columns</p>\n",
       "</div>"
      ],
      "text/plain": [
       "  patient_id last.status  is_icu  length_of_stay  days_prior_sx  \\\n",
       "0    A917122  discharged     0.0             9.0           10.6   \n",
       "1    A387558    deceased     1.0            15.0            4.2   \n",
       "2    A968238    deceased     1.0            28.0            4.0   \n",
       "3    A106133    deceased     0.0             4.0            6.0   \n",
       "4    A300871    deceased     0.0             3.0            6.0   \n",
       "\n",
       "   8331-1_Oral temperature  \\\n",
       "0                     36.4   \n",
       "1                     37.0   \n",
       "2                     37.4   \n",
       "3                     36.7   \n",
       "4                     36.7   \n",
       "\n",
       "   59408-5_Oxygen saturation in Arterial blood by Pulse oximetry  \\\n",
       "0                                               91.0               \n",
       "1                                              100.0               \n",
       "2                                               84.0               \n",
       "3                                               96.0               \n",
       "4                                               97.0               \n",
       "\n",
       "   9279-1_Respiratory rate  76282-3_Heart rate.beat-to-beat by EKG  \\\n",
       "0                     22.0                                    86.0   \n",
       "1                     39.0                                   149.0   \n",
       "2                     42.0                                    88.0   \n",
       "3                     16.0                                   100.0   \n",
       "4                     20.0                                    94.0   \n",
       "\n",
       "   8480-6_Systolic blood pressure  ...  x7_True  x8_False  x8_True  x9_False  \\\n",
       "0                           172.0  ...      0.0       1.0      0.0       1.0   \n",
       "1                           158.0  ...      1.0       0.0      1.0       1.0   \n",
       "2                           130.0  ...      1.0       1.0      0.0       1.0   \n",
       "3                           132.0  ...      0.0       1.0      0.0       1.0   \n",
       "4                           104.0  ...      0.0       1.0      0.0       0.0   \n",
       "\n",
       "   x9_True  x10_False  x10_True  x11_False  x11_True  prediction  \n",
       "0      0.0        1.0       0.0        0.0       1.0    0.658740  \n",
       "1      0.0        1.0       0.0        0.0       1.0    0.607654  \n",
       "2      0.0        0.0       1.0        1.0       0.0    0.530055  \n",
       "3      0.0        0.0       1.0        1.0       0.0         NaN  \n",
       "4      1.0        1.0       0.0        1.0       0.0    0.290393  \n",
       "\n",
       "[5 rows x 59 columns]"
      ]
     },
     "execution_count": 18,
     "metadata": {},
     "output_type": "execute_result"
    }
   ],
   "source": [
    "#merge predmeans_df with df\n",
    "\n",
    "final_df = df.merge(predmeans_df, on='patient_id', how='outer')\n",
    "final_df.head()"
   ]
  },
  {
   "cell_type": "code",
   "execution_count": 19,
   "metadata": {},
   "outputs": [
    {
     "data": {
      "text/plain": [
       "patient_id                                                                                                                                    0\n",
       "last.status                                                                                                                                  70\n",
       "is_icu                                                                                                                                       70\n",
       "length_of_stay                                                                                                                               70\n",
       "days_prior_sx                                                                                                                                70\n",
       "8331-1_Oral temperature                                                                                                                      70\n",
       "59408-5_Oxygen saturation in Arterial blood by Pulse oximetry                                                                                70\n",
       "9279-1_Respiratory rate                                                                                                                      70\n",
       "76282-3_Heart rate.beat-to-beat by EKG                                                                                                       70\n",
       "8480-6_Systolic blood pressure                                                                                                               70\n",
       "76536-2_Mean blood pressure by Noninvasive                                                                                                   70\n",
       "33256-9_Leukocytes [#/volume] corrected for nucleated erythrocytes in Blood by Automated count                                               70\n",
       "751-8_Neutrophils [#/volume] in Blood by Automated count                                                                                     70\n",
       "731-0_Lymphocytes [#/volume] in Blood by Automated count                                                                                     70\n",
       "2951-2_Sodium [Moles/volume] in Serum or Plasma                                                                                              70\n",
       "1920-8_Aspartate aminotransferase [Enzymatic activity/volume] in Serum or Plasma                                                             70\n",
       "1744-2_Alanine aminotransferase [Enzymatic activity/volume] in Serum or Plasma by No addition of P-5'-P                                      70\n",
       "2524-7_Lactate [Moles/volume] in Serum or Plasma                                                                                             70\n",
       "6598-7_Troponin T.cardiac [Mass/volume] in Serum or Plasma                                                                                   70\n",
       "33762-6_Natriuretic peptide.B prohormone N-Terminal [Mass/volume] in Serum or Plasma                                                         70\n",
       "75241-0_Procalcitonin [Mass/volume] in Serum or Plasma by Immunoassay                                                                        70\n",
       "48058-2_Fibrin D-dimer DDU [Mass/volume] in Platelet poor plasma by Immunoassay                                                              70\n",
       "2276-4_Ferritin [Mass/volume] in Serum or Plasma                                                                                             70\n",
       "1988-5_C reactive protein [Mass/volume] in Serum or Plasma                                                                                   70\n",
       "39156-5_Body mass index (BMI) [Ratio]                                                                                                        70\n",
       "2951-2_Sodium [Moles/volume] in Serum or Plasma.1                                                                                            70\n",
       "2823-3_Potassium [Moles/volume] in Serum or Plasma                                                                                           70\n",
       "2075-0_Chloride [Moles/volume] in Serum or Plasma                                                                                            70\n",
       "1963-8_Bicarbonate [Moles/volume] in Serum or Plasma                                                                                         70\n",
       "3094-0_Urea nitrogen [Mass/volume] in Serum or Plasma                                                                                        70\n",
       "2160-0_Creatinine [Mass/volume] in Serum or Plasma                                                                                           70\n",
       "62238-1_Glomerular filtration rate/1.73 sq M.predicted [Volume Rate/Area] in Serum, Plasma or Blood by Creatinine-based formula (CKD-EPI)    70\n",
       "2345-7_Glucose [Mass/volume] in Serum or Plasma                                                                                              70\n",
       "x0_(59,74]                                                                                                                                   70\n",
       "x0_(74,90]                                                                                                                                   70\n",
       "x0_[18,59]                                                                                                                                   70\n",
       "x1_FEMALE                                                                                                                                    70\n",
       "x1_MALE                                                                                                                                      70\n",
       "x2_Emergency Room Visit                                                                                                                      70\n",
       "x2_Inpatient Visit                                                                                                                           70\n",
       "x3_No                                                                                                                                        70\n",
       "x3_Yes                                                                                                                                       70\n",
       "x4_No                                                                                                                                        70\n",
       "x4_Yes                                                                                                                                       70\n",
       "x5_False                                                                                                                                     70\n",
       "x5_True                                                                                                                                      70\n",
       "x6_False                                                                                                                                     70\n",
       "x6_True                                                                                                                                      70\n",
       "x7_False                                                                                                                                     70\n",
       "x7_True                                                                                                                                      70\n",
       "x8_False                                                                                                                                     70\n",
       "x8_True                                                                                                                                      70\n",
       "x9_False                                                                                                                                     70\n",
       "x9_True                                                                                                                                      70\n",
       "x10_False                                                                                                                                    70\n",
       "x10_True                                                                                                                                     70\n",
       "x11_False                                                                                                                                    70\n",
       "x11_True                                                                                                                                     70\n",
       "prediction                                                                                                                                   51\n",
       "dtype: int64"
      ]
     },
     "execution_count": 19,
     "metadata": {},
     "output_type": "execute_result"
    }
   ],
   "source": [
    "#check for null rows\n",
    "final_df.isna().sum()"
   ]
  },
  {
   "cell_type": "code",
   "execution_count": 20,
   "metadata": {},
   "outputs": [
    {
     "data": {
      "text/html": [
       "<div>\n",
       "<style scoped>\n",
       "    .dataframe tbody tr th:only-of-type {\n",
       "        vertical-align: middle;\n",
       "    }\n",
       "\n",
       "    .dataframe tbody tr th {\n",
       "        vertical-align: top;\n",
       "    }\n",
       "\n",
       "    .dataframe thead th {\n",
       "        text-align: right;\n",
       "    }\n",
       "</style>\n",
       "<table border=\"1\" class=\"dataframe\">\n",
       "  <thead>\n",
       "    <tr style=\"text-align: right;\">\n",
       "      <th></th>\n",
       "      <th>last.status</th>\n",
       "      <th>is_icu</th>\n",
       "      <th>length_of_stay</th>\n",
       "      <th>days_prior_sx</th>\n",
       "      <th>8331-1_Oral temperature</th>\n",
       "      <th>59408-5_Oxygen saturation in Arterial blood by Pulse oximetry</th>\n",
       "      <th>9279-1_Respiratory rate</th>\n",
       "      <th>76282-3_Heart rate.beat-to-beat by EKG</th>\n",
       "      <th>8480-6_Systolic blood pressure</th>\n",
       "      <th>76536-2_Mean blood pressure by Noninvasive</th>\n",
       "      <th>...</th>\n",
       "      <th>x7_True</th>\n",
       "      <th>x8_False</th>\n",
       "      <th>x8_True</th>\n",
       "      <th>x9_False</th>\n",
       "      <th>x9_True</th>\n",
       "      <th>x10_False</th>\n",
       "      <th>x10_True</th>\n",
       "      <th>x11_False</th>\n",
       "      <th>x11_True</th>\n",
       "      <th>prediction</th>\n",
       "    </tr>\n",
       "    <tr>\n",
       "      <th>patient_id</th>\n",
       "      <th></th>\n",
       "      <th></th>\n",
       "      <th></th>\n",
       "      <th></th>\n",
       "      <th></th>\n",
       "      <th></th>\n",
       "      <th></th>\n",
       "      <th></th>\n",
       "      <th></th>\n",
       "      <th></th>\n",
       "      <th></th>\n",
       "      <th></th>\n",
       "      <th></th>\n",
       "      <th></th>\n",
       "      <th></th>\n",
       "      <th></th>\n",
       "      <th></th>\n",
       "      <th></th>\n",
       "      <th></th>\n",
       "      <th></th>\n",
       "      <th></th>\n",
       "    </tr>\n",
       "  </thead>\n",
       "  <tbody>\n",
       "    <tr>\n",
       "      <th>A917122</th>\n",
       "      <td>discharged</td>\n",
       "      <td>0.0</td>\n",
       "      <td>9.0</td>\n",
       "      <td>10.6</td>\n",
       "      <td>36.4</td>\n",
       "      <td>91.0</td>\n",
       "      <td>22.0</td>\n",
       "      <td>86.0</td>\n",
       "      <td>172.0</td>\n",
       "      <td>91.0</td>\n",
       "      <td>...</td>\n",
       "      <td>0.0</td>\n",
       "      <td>1.0</td>\n",
       "      <td>0.0</td>\n",
       "      <td>1.0</td>\n",
       "      <td>0.0</td>\n",
       "      <td>1.0</td>\n",
       "      <td>0.0</td>\n",
       "      <td>0.0</td>\n",
       "      <td>1.0</td>\n",
       "      <td>0.658740</td>\n",
       "    </tr>\n",
       "    <tr>\n",
       "      <th>A387558</th>\n",
       "      <td>deceased</td>\n",
       "      <td>1.0</td>\n",
       "      <td>15.0</td>\n",
       "      <td>4.2</td>\n",
       "      <td>37.0</td>\n",
       "      <td>100.0</td>\n",
       "      <td>39.0</td>\n",
       "      <td>149.0</td>\n",
       "      <td>158.0</td>\n",
       "      <td>109.0</td>\n",
       "      <td>...</td>\n",
       "      <td>1.0</td>\n",
       "      <td>0.0</td>\n",
       "      <td>1.0</td>\n",
       "      <td>1.0</td>\n",
       "      <td>0.0</td>\n",
       "      <td>1.0</td>\n",
       "      <td>0.0</td>\n",
       "      <td>0.0</td>\n",
       "      <td>1.0</td>\n",
       "      <td>0.607654</td>\n",
       "    </tr>\n",
       "    <tr>\n",
       "      <th>A968238</th>\n",
       "      <td>deceased</td>\n",
       "      <td>1.0</td>\n",
       "      <td>28.0</td>\n",
       "      <td>4.0</td>\n",
       "      <td>37.4</td>\n",
       "      <td>84.0</td>\n",
       "      <td>42.0</td>\n",
       "      <td>88.0</td>\n",
       "      <td>130.0</td>\n",
       "      <td>93.0</td>\n",
       "      <td>...</td>\n",
       "      <td>1.0</td>\n",
       "      <td>1.0</td>\n",
       "      <td>0.0</td>\n",
       "      <td>1.0</td>\n",
       "      <td>0.0</td>\n",
       "      <td>0.0</td>\n",
       "      <td>1.0</td>\n",
       "      <td>1.0</td>\n",
       "      <td>0.0</td>\n",
       "      <td>0.530055</td>\n",
       "    </tr>\n",
       "    <tr>\n",
       "      <th>A106133</th>\n",
       "      <td>deceased</td>\n",
       "      <td>0.0</td>\n",
       "      <td>4.0</td>\n",
       "      <td>6.0</td>\n",
       "      <td>36.7</td>\n",
       "      <td>96.0</td>\n",
       "      <td>16.0</td>\n",
       "      <td>100.0</td>\n",
       "      <td>132.0</td>\n",
       "      <td>71.0</td>\n",
       "      <td>...</td>\n",
       "      <td>0.0</td>\n",
       "      <td>1.0</td>\n",
       "      <td>0.0</td>\n",
       "      <td>1.0</td>\n",
       "      <td>0.0</td>\n",
       "      <td>0.0</td>\n",
       "      <td>1.0</td>\n",
       "      <td>1.0</td>\n",
       "      <td>0.0</td>\n",
       "      <td>NaN</td>\n",
       "    </tr>\n",
       "    <tr>\n",
       "      <th>A300871</th>\n",
       "      <td>deceased</td>\n",
       "      <td>0.0</td>\n",
       "      <td>3.0</td>\n",
       "      <td>6.0</td>\n",
       "      <td>36.7</td>\n",
       "      <td>97.0</td>\n",
       "      <td>20.0</td>\n",
       "      <td>94.0</td>\n",
       "      <td>104.0</td>\n",
       "      <td>99.0</td>\n",
       "      <td>...</td>\n",
       "      <td>0.0</td>\n",
       "      <td>1.0</td>\n",
       "      <td>0.0</td>\n",
       "      <td>0.0</td>\n",
       "      <td>1.0</td>\n",
       "      <td>1.0</td>\n",
       "      <td>0.0</td>\n",
       "      <td>1.0</td>\n",
       "      <td>0.0</td>\n",
       "      <td>0.290393</td>\n",
       "    </tr>\n",
       "  </tbody>\n",
       "</table>\n",
       "<p>5 rows × 58 columns</p>\n",
       "</div>"
      ],
      "text/plain": [
       "           last.status  is_icu  length_of_stay  days_prior_sx  \\\n",
       "patient_id                                                      \n",
       "A917122     discharged     0.0             9.0           10.6   \n",
       "A387558       deceased     1.0            15.0            4.2   \n",
       "A968238       deceased     1.0            28.0            4.0   \n",
       "A106133       deceased     0.0             4.0            6.0   \n",
       "A300871       deceased     0.0             3.0            6.0   \n",
       "\n",
       "            8331-1_Oral temperature  \\\n",
       "patient_id                            \n",
       "A917122                        36.4   \n",
       "A387558                        37.0   \n",
       "A968238                        37.4   \n",
       "A106133                        36.7   \n",
       "A300871                        36.7   \n",
       "\n",
       "            59408-5_Oxygen saturation in Arterial blood by Pulse oximetry  \\\n",
       "patient_id                                                                  \n",
       "A917122                                                  91.0               \n",
       "A387558                                                 100.0               \n",
       "A968238                                                  84.0               \n",
       "A106133                                                  96.0               \n",
       "A300871                                                  97.0               \n",
       "\n",
       "            9279-1_Respiratory rate  76282-3_Heart rate.beat-to-beat by EKG  \\\n",
       "patient_id                                                                    \n",
       "A917122                        22.0                                    86.0   \n",
       "A387558                        39.0                                   149.0   \n",
       "A968238                        42.0                                    88.0   \n",
       "A106133                        16.0                                   100.0   \n",
       "A300871                        20.0                                    94.0   \n",
       "\n",
       "            8480-6_Systolic blood pressure  \\\n",
       "patient_id                                   \n",
       "A917122                              172.0   \n",
       "A387558                              158.0   \n",
       "A968238                              130.0   \n",
       "A106133                              132.0   \n",
       "A300871                              104.0   \n",
       "\n",
       "            76536-2_Mean blood pressure by Noninvasive  ...  x7_True  \\\n",
       "patient_id                                              ...            \n",
       "A917122                                           91.0  ...      0.0   \n",
       "A387558                                          109.0  ...      1.0   \n",
       "A968238                                           93.0  ...      1.0   \n",
       "A106133                                           71.0  ...      0.0   \n",
       "A300871                                           99.0  ...      0.0   \n",
       "\n",
       "            x8_False  x8_True  x9_False  x9_True  x10_False  x10_True  \\\n",
       "patient_id                                                              \n",
       "A917122          1.0      0.0       1.0      0.0        1.0       0.0   \n",
       "A387558          0.0      1.0       1.0      0.0        1.0       0.0   \n",
       "A968238          1.0      0.0       1.0      0.0        0.0       1.0   \n",
       "A106133          1.0      0.0       1.0      0.0        0.0       1.0   \n",
       "A300871          1.0      0.0       0.0      1.0        1.0       0.0   \n",
       "\n",
       "            x11_False  x11_True  prediction  \n",
       "patient_id                                   \n",
       "A917122           0.0       1.0    0.658740  \n",
       "A387558           0.0       1.0    0.607654  \n",
       "A968238           1.0       0.0    0.530055  \n",
       "A106133           1.0       0.0         NaN  \n",
       "A300871           1.0       0.0    0.290393  \n",
       "\n",
       "[5 rows x 58 columns]"
      ]
     },
     "execution_count": 20,
     "metadata": {},
     "output_type": "execute_result"
    }
   ],
   "source": [
    "#set patient_id as index\n",
    "\n",
    "final_df.set_index('patient_id', inplace=True)\n",
    "final_df.head()"
   ]
  },
  {
   "cell_type": "code",
   "execution_count": 21,
   "metadata": {},
   "outputs": [
    {
     "data": {
      "text/plain": [
       "(1383, 58)"
      ]
     },
     "execution_count": 21,
     "metadata": {},
     "output_type": "execute_result"
    }
   ],
   "source": [
    "final_df.shape"
   ]
  },
  {
   "cell_type": "code",
   "execution_count": 22,
   "metadata": {},
   "outputs": [
    {
     "data": {
      "text/plain": [
       "(1262, 58)"
      ]
     },
     "execution_count": 22,
     "metadata": {},
     "output_type": "execute_result"
    }
   ],
   "source": [
    "final_df.dropna(axis=0, inplace=True)\n",
    "final_df.shape"
   ]
  },
  {
   "cell_type": "code",
   "execution_count": 23,
   "metadata": {},
   "outputs": [],
   "source": [
    "#define X and y, remap last.status, perform tts\n",
    "\n",
    "X = final_df.drop(labels=['last.status'], axis=1)\n",
    "mapping = {'discharged':1, 'deceased':0}\n",
    "y = final_df['last.status'].replace(mapping)"
   ]
  },
  {
   "cell_type": "code",
   "execution_count": 24,
   "metadata": {},
   "outputs": [
    {
     "data": {
      "text/plain": [
       "(1262, 57)"
      ]
     },
     "execution_count": 24,
     "metadata": {},
     "output_type": "execute_result"
    }
   ],
   "source": [
    "X.shape"
   ]
  },
  {
   "cell_type": "code",
   "execution_count": 25,
   "metadata": {},
   "outputs": [],
   "source": [
    "X_train, X_test, y_train, y_test = train_test_split(X, y, test_size=0.20, random_state=42)"
   ]
  },
  {
   "cell_type": "code",
   "execution_count": 26,
   "metadata": {},
   "outputs": [],
   "source": [
    "#attempt to scale the data w/ standardscaler\n",
    "from sklearn.preprocessing import StandardScaler\n",
    "\n",
    "scaler = StandardScaler().fit(X_train)\n",
    "X_train_scaled = scaler.transform(X_train)\n",
    "X_test_scaled = scaler.transform(X_test)"
   ]
  },
  {
   "cell_type": "code",
   "execution_count": 27,
   "metadata": {},
   "outputs": [
    {
     "data": {
      "text/plain": [
       "array([[ 2.24542116,  1.24443237,  0.0237798 , ...,  0.62281254,\n",
       "        -0.62281254, -1.35677915],\n",
       "       [-0.44535075, -0.3055183 , -0.53722681, ...,  0.62281254,\n",
       "        -0.62281254, -1.27569213],\n",
       "       [-0.44535075, -0.3055183 ,  0.06693416, ..., -1.60561956,\n",
       "         1.60561956, -1.32757289],\n",
       "       ...,\n",
       "       [-0.44535075,  0.03891518,  1.53418223, ...,  0.62281254,\n",
       "        -0.62281254, -0.76437799],\n",
       "       [-0.44535075,  0.46945703,  0.67109513, ...,  0.62281254,\n",
       "        -0.62281254, -0.0339591 ],\n",
       "       [-0.44535075, -0.39162667, -1.27085085, ...,  0.62281254,\n",
       "        -0.62281254, -0.28164924]])"
      ]
     },
     "execution_count": 27,
     "metadata": {},
     "output_type": "execute_result"
    }
   ],
   "source": [
    "X_train_scaled"
   ]
  },
  {
   "cell_type": "markdown",
   "metadata": {},
   "source": [
    "### Dummy classifier baseline model"
   ]
  },
  {
   "cell_type": "code",
   "execution_count": 28,
   "metadata": {},
   "outputs": [
    {
     "data": {
      "text/plain": [
       "0.8932806324110671"
      ]
     },
     "execution_count": 28,
     "metadata": {},
     "output_type": "execute_result"
    }
   ],
   "source": [
    "#creation of baseline model with dummy classifier\n",
    "\n",
    "\n",
    "\n",
    "dummy = DummyClassifier(strategy='most_frequent')\n",
    "dummy.fit(X_train_scaled, y_train)\n",
    "dummy.score(X_test_scaled, y_test)"
   ]
  },
  {
   "cell_type": "markdown",
   "metadata": {},
   "source": [
    "### Functions for plots and metrics"
   ]
  },
  {
   "cell_type": "code",
   "execution_count": 29,
   "metadata": {},
   "outputs": [],
   "source": [
    "def metrics_crossval_score(model, X_train, X_test, y_train, y_test, y_pred):\n",
    "    train = cross_val_score(model, X_train, y_train, cv=5).mean()\n",
    "    test = cross_val_score(model, X_test, y_test, cv=5).mean()\n",
    "    acc = accuracy_score(y_test, y_pred)\n",
    "    f1 = f1_score(y_test, y_pred)\n",
    "    prec = precision_score(y_test, y_pred)\n",
    "    return (\"Training set score:\", train), (\"Test set score:\", test), ('Accuracy:', acc), ('F1 score:', f1), ('Precision:', prec)\n",
    "\n"
   ]
  },
  {
   "cell_type": "code",
   "execution_count": 30,
   "metadata": {},
   "outputs": [],
   "source": [
    "def plot_matrix(y_true, y_pred):\n",
    "    matrix = confusion_matrix(y_true, y_pred)\n",
    "    \n",
    "    return sns.heatmap(matrix, annot=True, cmap='BuPu', fmt='.4g', xticklabels=['Deceased', 'Discharged'], \n",
    "                       yticklabels=['Deceased', 'Discharged']), plt.yticks(rotation=0)"
   ]
  },
  {
   "cell_type": "code",
   "execution_count": 32,
   "metadata": {},
   "outputs": [
    {
     "data": {
      "image/png": "[encoded data removed]",
      "text/plain": [
       "<Figure size 432x288 with 2 Axes>"
      ]
     },
     "metadata": {
      "needs_background": "light"
     },
     "output_type": "display_data"
    }
   ],
   "source": [
    "knn = KNeighborsClassifier(n_neighbors=13, metric='euclidean')\n",
    "\n",
    "knn.fit(X_train_scaled, y_train)\n",
    "knn_pred = knn.predict(X_test_scaled)\n",
    "plot_matrix(y_test, knn_pred);"
   ]
  },
  {
   "cell_type": "code",
   "execution_count": 33,
   "metadata": {},
   "outputs": [
    {
     "data": {
      "text/plain": [
       "(('Training set score:', 0.9187281414708636),\n",
       " ('Test set score:', 0.9011764705882352),\n",
       " ('Accuracy:', 0.9169960474308301),\n",
       " ('F1 score:', 0.9548387096774195),\n",
       " ('Precision:', 0.9288702928870293))"
      ]
     },
     "execution_count": 33,
     "metadata": {},
     "output_type": "execute_result"
    }
   ],
   "source": [
    "metrics_crossval_score(knn, X_train_scaled, X_test_scaled, y_train, y_test, knn_pred)"
   ]
  },
  {
   "cell_type": "code",
   "execution_count": 34,
   "metadata": {},
   "outputs": [
    {
     "data": {
      "text/plain": [
       "GridSearchCV(estimator=KNeighborsClassifier(metric='euclidean', n_neighbors=13),\n",
       "             param_grid={'metric': ['euclidean', 'manhattan', 'minkowski'],\n",
       "                         'n_neighbors': [1, 3, 5, 7, 9, 11, 13, 15, 17, 19, 21,\n",
       "                                         23, 25, 27]})"
      ]
     },
     "execution_count": 34,
     "metadata": {},
     "output_type": "execute_result"
    }
   ],
   "source": [
    "\n",
    "\n",
    "knn_params = {'n_neighbors': list(range(1, 29, 2)),\n",
    "       'metric': ['euclidean', 'manhattan', 'minkowski']}\n",
    "\n",
    "knn_grid = GridSearchCV(estimator=knn, param_grid=knn_params)\n",
    "knn_grid.fit(X_train_scaled, y_train)"
   ]
  },
  {
   "cell_type": "code",
   "execution_count": 35,
   "metadata": {},
   "outputs": [
    {
     "data": {
      "text/plain": [
       "{'metric': 'manhattan', 'n_neighbors': 5}"
      ]
     },
     "execution_count": 35,
     "metadata": {},
     "output_type": "execute_result"
    }
   ],
   "source": [
    "knn_grid.best_params_"
   ]
  },
  {
   "cell_type": "code",
   "execution_count": 36,
   "metadata": {},
   "outputs": [
    {
     "data": {
      "image/png": "[encoded data removed]",
      "text/plain": [
       "<Figure size 432x288 with 2 Axes>"
      ]
     },
     "metadata": {
      "needs_background": "light"
     },
     "output_type": "display_data"
    }
   ],
   "source": [
    "knn2 = KNeighborsClassifier(n_neighbors=5, metric='manhattan')\n",
    "\n",
    "knn2.fit(X_train_scaled, y_train)\n",
    "knn_pred2 = knn2.predict(X_test_scaled)\n",
    "plot_matrix(y_test, knn_pred2);"
   ]
  },
  {
   "cell_type": "code",
   "execution_count": 37,
   "metadata": {},
   "outputs": [
    {
     "data": {
      "text/plain": [
       "(('Training set score:', 0.9276587360228559),\n",
       " ('Test set score:', 0.9288627450980392),\n",
       " ('Accuracy:', 0.924901185770751),\n",
       " ('F1 score:', 0.9587852494577007),\n",
       " ('Precision:', 0.9404255319148936))"
      ]
     },
     "execution_count": 37,
     "metadata": {},
     "output_type": "execute_result"
    }
   ],
   "source": [
    "metrics_crossval_score(knn2, X_train_scaled, X_test_scaled, y_train, y_test, knn_pred2)"
   ]
  },
  {
   "cell_type": "code",
   "execution_count": null,
   "metadata": {},
   "outputs": [],
   "source": []
  }
 ],
 "metadata": {
  "kernelspec": {
   "display_name": "Python 3",
   "language": "python",
   "name": "python3"
  },
  "language_info": {
   "codemirror_mode": {
    "name": "ipython",
    "version": 3
   },
   "file_extension": ".py",
   "mimetype": "text/x-python",
   "name": "python",
   "nbconvert_exporter": "python",
   "pygments_lexer": "ipython3",
   "version": "3.8.5"
  }
 },
 "nbformat": 4,
 "nbformat_minor": 4
}
