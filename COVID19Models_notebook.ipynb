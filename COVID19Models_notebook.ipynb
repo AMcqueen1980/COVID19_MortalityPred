{
 "cells": [
  {
   "cell_type": "markdown",
   "metadata": {},
   "source": [
    "# MODELING NOTEBOOK"
   ]
  },
  {
   "cell_type": "code",
   "execution_count": 1,
   "metadata": {},
   "outputs": [],
   "source": [
    "import pandas as pd\n",
    "import numpy as np\n",
    "import matplotlib.pyplot as plt\n",
    "import os, re\n",
    "import seaborn as sns\n",
    "import warnings\n",
    "warnings.filterwarnings('ignore')\n",
    "\n",
    "\n",
    "from sklearn.model_selection import train_test_split, cross_val_score, GridSearchCV\n",
    "from sklearn.metrics import confusion_matrix, accuracy_score, f1_score, precision_score\n",
    "from sklearn.impute import KNNImputer\n",
    "from sklearn.preprocessing import OneHotEncoder\n",
    "from sklearn.linear_model import LogisticRegression\n",
    "from sklearn.dummy import DummyClassifier\n",
    "from sklearn.svm import SVC \n",
    "from sklearn.ensemble import GradientBoostingClassifier\n",
    "\n",
    "from xgboost import XGBClassifier"
   ]
  },
  {
   "cell_type": "code",
   "execution_count": 2,
   "metadata": {},
   "outputs": [
    {
     "data": {
      "text/html": [
       "<div>\n",
       "<style scoped>\n",
       "    .dataframe tbody tr th:only-of-type {\n",
       "        vertical-align: middle;\n",
       "    }\n",
       "\n",
       "    .dataframe tbody tr th {\n",
       "        vertical-align: top;\n",
       "    }\n",
       "\n",
       "    .dataframe thead th {\n",
       "        text-align: right;\n",
       "    }\n",
       "</style>\n",
       "<table border=\"1\" class=\"dataframe\">\n",
       "  <thead>\n",
       "    <tr style=\"text-align: right;\">\n",
       "      <th></th>\n",
       "      <th>patient_id</th>\n",
       "      <th>last.status</th>\n",
       "      <th>is_icu</th>\n",
       "      <th>length_of_stay</th>\n",
       "      <th>days_prior_sx</th>\n",
       "      <th>8331-1_Oral temperature</th>\n",
       "      <th>59408-5_Oxygen saturation in Arterial blood by Pulse oximetry</th>\n",
       "      <th>9279-1_Respiratory rate</th>\n",
       "      <th>76282-3_Heart rate.beat-to-beat by EKG</th>\n",
       "      <th>8480-6_Systolic blood pressure</th>\n",
       "      <th>...</th>\n",
       "      <th>x7_False</th>\n",
       "      <th>x7_True</th>\n",
       "      <th>x8_False</th>\n",
       "      <th>x8_True</th>\n",
       "      <th>x9_False</th>\n",
       "      <th>x9_True</th>\n",
       "      <th>x10_False</th>\n",
       "      <th>x10_True</th>\n",
       "      <th>x11_False</th>\n",
       "      <th>x11_True</th>\n",
       "    </tr>\n",
       "  </thead>\n",
       "  <tbody>\n",
       "    <tr>\n",
       "      <th>0</th>\n",
       "      <td>A917122</td>\n",
       "      <td>discharged</td>\n",
       "      <td>0.0</td>\n",
       "      <td>9.0</td>\n",
       "      <td>10.6</td>\n",
       "      <td>36.4</td>\n",
       "      <td>91.0</td>\n",
       "      <td>22.0</td>\n",
       "      <td>86.0</td>\n",
       "      <td>172.0</td>\n",
       "      <td>...</td>\n",
       "      <td>1.0</td>\n",
       "      <td>0.0</td>\n",
       "      <td>1.0</td>\n",
       "      <td>0.0</td>\n",
       "      <td>1.0</td>\n",
       "      <td>0.0</td>\n",
       "      <td>1.0</td>\n",
       "      <td>0.0</td>\n",
       "      <td>0.0</td>\n",
       "      <td>1.0</td>\n",
       "    </tr>\n",
       "    <tr>\n",
       "      <th>1</th>\n",
       "      <td>A387558</td>\n",
       "      <td>deceased</td>\n",
       "      <td>1.0</td>\n",
       "      <td>15.0</td>\n",
       "      <td>4.2</td>\n",
       "      <td>37.0</td>\n",
       "      <td>100.0</td>\n",
       "      <td>39.0</td>\n",
       "      <td>149.0</td>\n",
       "      <td>158.0</td>\n",
       "      <td>...</td>\n",
       "      <td>0.0</td>\n",
       "      <td>1.0</td>\n",
       "      <td>0.0</td>\n",
       "      <td>1.0</td>\n",
       "      <td>1.0</td>\n",
       "      <td>0.0</td>\n",
       "      <td>1.0</td>\n",
       "      <td>0.0</td>\n",
       "      <td>0.0</td>\n",
       "      <td>1.0</td>\n",
       "    </tr>\n",
       "    <tr>\n",
       "      <th>2</th>\n",
       "      <td>A968238</td>\n",
       "      <td>deceased</td>\n",
       "      <td>1.0</td>\n",
       "      <td>28.0</td>\n",
       "      <td>4.0</td>\n",
       "      <td>37.4</td>\n",
       "      <td>84.0</td>\n",
       "      <td>42.0</td>\n",
       "      <td>88.0</td>\n",
       "      <td>130.0</td>\n",
       "      <td>...</td>\n",
       "      <td>0.0</td>\n",
       "      <td>1.0</td>\n",
       "      <td>1.0</td>\n",
       "      <td>0.0</td>\n",
       "      <td>1.0</td>\n",
       "      <td>0.0</td>\n",
       "      <td>0.0</td>\n",
       "      <td>1.0</td>\n",
       "      <td>1.0</td>\n",
       "      <td>0.0</td>\n",
       "    </tr>\n",
       "    <tr>\n",
       "      <th>3</th>\n",
       "      <td>A106133</td>\n",
       "      <td>deceased</td>\n",
       "      <td>0.0</td>\n",
       "      <td>4.0</td>\n",
       "      <td>6.0</td>\n",
       "      <td>36.7</td>\n",
       "      <td>96.0</td>\n",
       "      <td>16.0</td>\n",
       "      <td>100.0</td>\n",
       "      <td>132.0</td>\n",
       "      <td>...</td>\n",
       "      <td>1.0</td>\n",
       "      <td>0.0</td>\n",
       "      <td>1.0</td>\n",
       "      <td>0.0</td>\n",
       "      <td>1.0</td>\n",
       "      <td>0.0</td>\n",
       "      <td>0.0</td>\n",
       "      <td>1.0</td>\n",
       "      <td>1.0</td>\n",
       "      <td>0.0</td>\n",
       "    </tr>\n",
       "    <tr>\n",
       "      <th>4</th>\n",
       "      <td>A300871</td>\n",
       "      <td>deceased</td>\n",
       "      <td>0.0</td>\n",
       "      <td>3.0</td>\n",
       "      <td>6.0</td>\n",
       "      <td>36.7</td>\n",
       "      <td>97.0</td>\n",
       "      <td>20.0</td>\n",
       "      <td>94.0</td>\n",
       "      <td>104.0</td>\n",
       "      <td>...</td>\n",
       "      <td>1.0</td>\n",
       "      <td>0.0</td>\n",
       "      <td>1.0</td>\n",
       "      <td>0.0</td>\n",
       "      <td>0.0</td>\n",
       "      <td>1.0</td>\n",
       "      <td>1.0</td>\n",
       "      <td>0.0</td>\n",
       "      <td>1.0</td>\n",
       "      <td>0.0</td>\n",
       "    </tr>\n",
       "  </tbody>\n",
       "</table>\n",
       "<p>5 rows × 58 columns</p>\n",
       "</div>"
      ],
      "text/plain": [
       "  patient_id last.status  is_icu  length_of_stay  days_prior_sx  \\\n",
       "0    A917122  discharged     0.0             9.0           10.6   \n",
       "1    A387558    deceased     1.0            15.0            4.2   \n",
       "2    A968238    deceased     1.0            28.0            4.0   \n",
       "3    A106133    deceased     0.0             4.0            6.0   \n",
       "4    A300871    deceased     0.0             3.0            6.0   \n",
       "\n",
       "   8331-1_Oral temperature  \\\n",
       "0                     36.4   \n",
       "1                     37.0   \n",
       "2                     37.4   \n",
       "3                     36.7   \n",
       "4                     36.7   \n",
       "\n",
       "   59408-5_Oxygen saturation in Arterial blood by Pulse oximetry  \\\n",
       "0                                               91.0               \n",
       "1                                              100.0               \n",
       "2                                               84.0               \n",
       "3                                               96.0               \n",
       "4                                               97.0               \n",
       "\n",
       "   9279-1_Respiratory rate  76282-3_Heart rate.beat-to-beat by EKG  \\\n",
       "0                     22.0                                    86.0   \n",
       "1                     39.0                                   149.0   \n",
       "2                     42.0                                    88.0   \n",
       "3                     16.0                                   100.0   \n",
       "4                     20.0                                    94.0   \n",
       "\n",
       "   8480-6_Systolic blood pressure  ...  x7_False  x7_True  x8_False  x8_True  \\\n",
       "0                           172.0  ...       1.0      0.0       1.0      0.0   \n",
       "1                           158.0  ...       0.0      1.0       0.0      1.0   \n",
       "2                           130.0  ...       0.0      1.0       1.0      0.0   \n",
       "3                           132.0  ...       1.0      0.0       1.0      0.0   \n",
       "4                           104.0  ...       1.0      0.0       1.0      0.0   \n",
       "\n",
       "   x9_False  x9_True  x10_False  x10_True  x11_False  x11_True  \n",
       "0       1.0      0.0        1.0       0.0        0.0       1.0  \n",
       "1       1.0      0.0        1.0       0.0        0.0       1.0  \n",
       "2       1.0      0.0        0.0       1.0        1.0       0.0  \n",
       "3       1.0      0.0        0.0       1.0        1.0       0.0  \n",
       "4       0.0      1.0        1.0       0.0        1.0       0.0  \n",
       "\n",
       "[5 rows x 58 columns]"
      ]
     },
     "execution_count": 2,
     "metadata": {},
     "output_type": "execute_result"
    }
   ],
   "source": [
    "df = pd.read_csv('df.csv')\n",
    "df.head()"
   ]
  },
  {
   "cell_type": "code",
   "execution_count": 3,
   "metadata": {},
   "outputs": [],
   "source": [
    "X = df.drop(labels=['last.status'], axis=1)\n",
    "mapping = {'discharged':1, 'deceased':0}\n",
    "y = df['last.status'].replace(mapping)"
   ]
  },
  {
   "cell_type": "code",
   "execution_count": 4,
   "metadata": {},
   "outputs": [
    {
     "data": {
      "text/plain": [
       "discharged    1178\n",
       "deceased       135\n",
       "Name: last.status, dtype: int64"
      ]
     },
     "execution_count": 4,
     "metadata": {},
     "output_type": "execute_result"
    }
   ],
   "source": [
    "df['last.status'].value_counts()"
   ]
  },
  {
   "cell_type": "code",
   "execution_count": 5,
   "metadata": {},
   "outputs": [
    {
     "data": {
      "text/html": [
       "<div>\n",
       "<style scoped>\n",
       "    .dataframe tbody tr th:only-of-type {\n",
       "        vertical-align: middle;\n",
       "    }\n",
       "\n",
       "    .dataframe tbody tr th {\n",
       "        vertical-align: top;\n",
       "    }\n",
       "\n",
       "    .dataframe thead th {\n",
       "        text-align: right;\n",
       "    }\n",
       "</style>\n",
       "<table border=\"1\" class=\"dataframe\">\n",
       "  <thead>\n",
       "    <tr style=\"text-align: right;\">\n",
       "      <th></th>\n",
       "      <th>is_icu</th>\n",
       "      <th>length_of_stay</th>\n",
       "      <th>days_prior_sx</th>\n",
       "      <th>8331-1_Oral temperature</th>\n",
       "      <th>59408-5_Oxygen saturation in Arterial blood by Pulse oximetry</th>\n",
       "      <th>9279-1_Respiratory rate</th>\n",
       "      <th>76282-3_Heart rate.beat-to-beat by EKG</th>\n",
       "      <th>8480-6_Systolic blood pressure</th>\n",
       "      <th>76536-2_Mean blood pressure by Noninvasive</th>\n",
       "      <th>33256-9_Leukocytes [#/volume] corrected for nucleated erythrocytes in Blood by Automated count</th>\n",
       "      <th>...</th>\n",
       "      <th>x7_False</th>\n",
       "      <th>x7_True</th>\n",
       "      <th>x8_False</th>\n",
       "      <th>x8_True</th>\n",
       "      <th>x9_False</th>\n",
       "      <th>x9_True</th>\n",
       "      <th>x10_False</th>\n",
       "      <th>x10_True</th>\n",
       "      <th>x11_False</th>\n",
       "      <th>x11_True</th>\n",
       "    </tr>\n",
       "    <tr>\n",
       "      <th>patient_id</th>\n",
       "      <th></th>\n",
       "      <th></th>\n",
       "      <th></th>\n",
       "      <th></th>\n",
       "      <th></th>\n",
       "      <th></th>\n",
       "      <th></th>\n",
       "      <th></th>\n",
       "      <th></th>\n",
       "      <th></th>\n",
       "      <th></th>\n",
       "      <th></th>\n",
       "      <th></th>\n",
       "      <th></th>\n",
       "      <th></th>\n",
       "      <th></th>\n",
       "      <th></th>\n",
       "      <th></th>\n",
       "      <th></th>\n",
       "      <th></th>\n",
       "      <th></th>\n",
       "    </tr>\n",
       "  </thead>\n",
       "  <tbody>\n",
       "    <tr>\n",
       "      <th>A917122</th>\n",
       "      <td>0.0</td>\n",
       "      <td>9.0</td>\n",
       "      <td>10.6</td>\n",
       "      <td>36.4</td>\n",
       "      <td>91.0</td>\n",
       "      <td>22.0</td>\n",
       "      <td>86.0</td>\n",
       "      <td>172.0</td>\n",
       "      <td>91.0</td>\n",
       "      <td>9.380</td>\n",
       "      <td>...</td>\n",
       "      <td>1.0</td>\n",
       "      <td>0.0</td>\n",
       "      <td>1.0</td>\n",
       "      <td>0.0</td>\n",
       "      <td>1.0</td>\n",
       "      <td>0.0</td>\n",
       "      <td>1.0</td>\n",
       "      <td>0.0</td>\n",
       "      <td>0.0</td>\n",
       "      <td>1.0</td>\n",
       "    </tr>\n",
       "    <tr>\n",
       "      <th>A387558</th>\n",
       "      <td>1.0</td>\n",
       "      <td>15.0</td>\n",
       "      <td>4.2</td>\n",
       "      <td>37.0</td>\n",
       "      <td>100.0</td>\n",
       "      <td>39.0</td>\n",
       "      <td>149.0</td>\n",
       "      <td>158.0</td>\n",
       "      <td>109.0</td>\n",
       "      <td>25.190</td>\n",
       "      <td>...</td>\n",
       "      <td>0.0</td>\n",
       "      <td>1.0</td>\n",
       "      <td>0.0</td>\n",
       "      <td>1.0</td>\n",
       "      <td>1.0</td>\n",
       "      <td>0.0</td>\n",
       "      <td>1.0</td>\n",
       "      <td>0.0</td>\n",
       "      <td>0.0</td>\n",
       "      <td>1.0</td>\n",
       "    </tr>\n",
       "    <tr>\n",
       "      <th>A968238</th>\n",
       "      <td>1.0</td>\n",
       "      <td>28.0</td>\n",
       "      <td>4.0</td>\n",
       "      <td>37.4</td>\n",
       "      <td>84.0</td>\n",
       "      <td>42.0</td>\n",
       "      <td>88.0</td>\n",
       "      <td>130.0</td>\n",
       "      <td>93.0</td>\n",
       "      <td>9.110</td>\n",
       "      <td>...</td>\n",
       "      <td>0.0</td>\n",
       "      <td>1.0</td>\n",
       "      <td>1.0</td>\n",
       "      <td>0.0</td>\n",
       "      <td>1.0</td>\n",
       "      <td>0.0</td>\n",
       "      <td>0.0</td>\n",
       "      <td>1.0</td>\n",
       "      <td>1.0</td>\n",
       "      <td>0.0</td>\n",
       "    </tr>\n",
       "    <tr>\n",
       "      <th>A106133</th>\n",
       "      <td>0.0</td>\n",
       "      <td>4.0</td>\n",
       "      <td>6.0</td>\n",
       "      <td>36.7</td>\n",
       "      <td>96.0</td>\n",
       "      <td>16.0</td>\n",
       "      <td>100.0</td>\n",
       "      <td>132.0</td>\n",
       "      <td>71.0</td>\n",
       "      <td>6.060</td>\n",
       "      <td>...</td>\n",
       "      <td>1.0</td>\n",
       "      <td>0.0</td>\n",
       "      <td>1.0</td>\n",
       "      <td>0.0</td>\n",
       "      <td>1.0</td>\n",
       "      <td>0.0</td>\n",
       "      <td>0.0</td>\n",
       "      <td>1.0</td>\n",
       "      <td>1.0</td>\n",
       "      <td>0.0</td>\n",
       "    </tr>\n",
       "    <tr>\n",
       "      <th>A300871</th>\n",
       "      <td>0.0</td>\n",
       "      <td>3.0</td>\n",
       "      <td>6.0</td>\n",
       "      <td>36.7</td>\n",
       "      <td>97.0</td>\n",
       "      <td>20.0</td>\n",
       "      <td>94.0</td>\n",
       "      <td>104.0</td>\n",
       "      <td>99.0</td>\n",
       "      <td>5.808</td>\n",
       "      <td>...</td>\n",
       "      <td>1.0</td>\n",
       "      <td>0.0</td>\n",
       "      <td>1.0</td>\n",
       "      <td>0.0</td>\n",
       "      <td>0.0</td>\n",
       "      <td>1.0</td>\n",
       "      <td>1.0</td>\n",
       "      <td>0.0</td>\n",
       "      <td>1.0</td>\n",
       "      <td>0.0</td>\n",
       "    </tr>\n",
       "  </tbody>\n",
       "</table>\n",
       "<p>5 rows × 56 columns</p>\n",
       "</div>"
      ],
      "text/plain": [
       "            is_icu  length_of_stay  days_prior_sx  8331-1_Oral temperature  \\\n",
       "patient_id                                                                   \n",
       "A917122        0.0             9.0           10.6                     36.4   \n",
       "A387558        1.0            15.0            4.2                     37.0   \n",
       "A968238        1.0            28.0            4.0                     37.4   \n",
       "A106133        0.0             4.0            6.0                     36.7   \n",
       "A300871        0.0             3.0            6.0                     36.7   \n",
       "\n",
       "            59408-5_Oxygen saturation in Arterial blood by Pulse oximetry  \\\n",
       "patient_id                                                                  \n",
       "A917122                                                  91.0               \n",
       "A387558                                                 100.0               \n",
       "A968238                                                  84.0               \n",
       "A106133                                                  96.0               \n",
       "A300871                                                  97.0               \n",
       "\n",
       "            9279-1_Respiratory rate  76282-3_Heart rate.beat-to-beat by EKG  \\\n",
       "patient_id                                                                    \n",
       "A917122                        22.0                                    86.0   \n",
       "A387558                        39.0                                   149.0   \n",
       "A968238                        42.0                                    88.0   \n",
       "A106133                        16.0                                   100.0   \n",
       "A300871                        20.0                                    94.0   \n",
       "\n",
       "            8480-6_Systolic blood pressure  \\\n",
       "patient_id                                   \n",
       "A917122                              172.0   \n",
       "A387558                              158.0   \n",
       "A968238                              130.0   \n",
       "A106133                              132.0   \n",
       "A300871                              104.0   \n",
       "\n",
       "            76536-2_Mean blood pressure by Noninvasive  \\\n",
       "patient_id                                               \n",
       "A917122                                           91.0   \n",
       "A387558                                          109.0   \n",
       "A968238                                           93.0   \n",
       "A106133                                           71.0   \n",
       "A300871                                           99.0   \n",
       "\n",
       "            33256-9_Leukocytes [#/volume] corrected for nucleated erythrocytes in Blood by Automated count  \\\n",
       "patient_id                                                                                                   \n",
       "A917122                                                 9.380                                                \n",
       "A387558                                                25.190                                                \n",
       "A968238                                                 9.110                                                \n",
       "A106133                                                 6.060                                                \n",
       "A300871                                                 5.808                                                \n",
       "\n",
       "            ...  x7_False  x7_True  x8_False  x8_True  x9_False  x9_True  \\\n",
       "patient_id  ...                                                            \n",
       "A917122     ...       1.0      0.0       1.0      0.0       1.0      0.0   \n",
       "A387558     ...       0.0      1.0       0.0      1.0       1.0      0.0   \n",
       "A968238     ...       0.0      1.0       1.0      0.0       1.0      0.0   \n",
       "A106133     ...       1.0      0.0       1.0      0.0       1.0      0.0   \n",
       "A300871     ...       1.0      0.0       1.0      0.0       0.0      1.0   \n",
       "\n",
       "            x10_False  x10_True  x11_False  x11_True  \n",
       "patient_id                                            \n",
       "A917122           1.0       0.0        0.0       1.0  \n",
       "A387558           1.0       0.0        0.0       1.0  \n",
       "A968238           0.0       1.0        1.0       0.0  \n",
       "A106133           0.0       1.0        1.0       0.0  \n",
       "A300871           1.0       0.0        1.0       0.0  \n",
       "\n",
       "[5 rows x 56 columns]"
      ]
     },
     "execution_count": 5,
     "metadata": {},
     "output_type": "execute_result"
    }
   ],
   "source": [
    "X.set_index('patient_id', inplace=True)\n",
    "X.head()"
   ]
  },
  {
   "cell_type": "markdown",
   "metadata": {},
   "source": [
    "### Dummy classifier baseline model"
   ]
  },
  {
   "cell_type": "code",
   "execution_count": 6,
   "metadata": {},
   "outputs": [
    {
     "data": {
      "text/plain": [
       "0.9137055837563451"
      ]
     },
     "execution_count": 6,
     "metadata": {},
     "output_type": "execute_result"
    }
   ],
   "source": [
    "#creation of baseline model with dummy classifier\n",
    "\n",
    "X_train, X_test, y_train, y_test = train_test_split(X, y, test_size=0.15, random_state=42)\n",
    "\n",
    "dummy = DummyClassifier(strategy='most_frequent')\n",
    "dummy.fit(X_train, y_train)\n",
    "dummy.score(X_test, y_test)"
   ]
  },
  {
   "cell_type": "markdown",
   "metadata": {},
   "source": [
    "### Functions for plots and metrics"
   ]
  },
  {
   "cell_type": "code",
   "execution_count": 7,
   "metadata": {},
   "outputs": [],
   "source": [
    "def metrics_crossval_score(model, X_train, X_test, y_train, y_test, y_pred):\n",
    "    train = cross_val_score(model, X_train, y_train, cv=5).mean()\n",
    "    test = cross_val_score(model, X_test, y_test, cv=5).mean()\n",
    "    acc = accuracy_score(y_test, y_pred)\n",
    "    f1 = f1_score(y_test, y_pred)\n",
    "    prec = precision_score(y_test, y_pred)\n",
    "    return (\"Training set score:\", train), (\"Test set score:\", test), ('Accuracy:', acc), ('F1 score:', f1), ('Precision:', prec)\n",
    "\n"
   ]
  },
  {
   "cell_type": "code",
   "execution_count": 8,
   "metadata": {},
   "outputs": [],
   "source": [
    "def plot_matrix(y_true, y_pred):\n",
    "    matrix = confusion_matrix(y_true, y_pred)\n",
    "    return sns.heatmap(matrix, annot=True)"
   ]
  },
  {
   "cell_type": "markdown",
   "metadata": {},
   "source": [
    "## LOGISTIC REGRESSION MODEL"
   ]
  },
  {
   "cell_type": "code",
   "execution_count": 9,
   "metadata": {},
   "outputs": [
    {
     "data": {
      "text/plain": [
       "0.934010152284264"
      ]
     },
     "execution_count": 9,
     "metadata": {},
     "output_type": "execute_result"
    }
   ],
   "source": [
    "#create logistic regression model, fit to training data and score on test data\n",
    "\n",
    "lr = LogisticRegression(random_state=42, max_iter=10000)\n",
    "lr.fit(X_train, y_train)\n",
    "y_pred = lr.predict(X_test)\n",
    "lr.score(X_test, y_test)"
   ]
  },
  {
   "cell_type": "code",
   "execution_count": 10,
   "metadata": {},
   "outputs": [
    {
     "data": {
      "text/plain": [
       "<AxesSubplot:>"
      ]
     },
     "execution_count": 10,
     "metadata": {},
     "output_type": "execute_result"
    },
    {
     "data": {
      "image/png": "[encoded data removed]",
      "text/plain": [
       "<Figure size 432x288 with 2 Axes>"
      ]
     },
     "metadata": {
      "needs_background": "light"
     },
     "output_type": "display_data"
    }
   ],
   "source": [
    "#confusion matrix of lr model\n",
    "plot_matrix(y_test, y_pred)\n"
   ]
  },
  {
   "cell_type": "code",
   "execution_count": 11,
   "metadata": {},
   "outputs": [
    {
     "data": {
      "text/plain": [
       "1    180\n",
       "0     17\n",
       "Name: last.status, dtype: int64"
      ]
     },
     "execution_count": 11,
     "metadata": {},
     "output_type": "execute_result"
    }
   ],
   "source": [
    "y_test.value_counts()"
   ]
  },
  {
   "cell_type": "markdown",
   "metadata": {},
   "source": [
    "### Insight: There is a class imbalance in the target. The test size will be increased, and will use various resampling techniques to address the imbalance (SMOTE, etc). We can also use XGBoost as another algorithm to for classification."
   ]
  },
  {
   "cell_type": "markdown",
   "metadata": {},
   "source": [
    "**Can GridSearchCV improve modeling scores??**"
   ]
  },
  {
   "cell_type": "code",
   "execution_count": 12,
   "metadata": {},
   "outputs": [],
   "source": [
    "#Optimized grid search parameters are used in the lr2 model, so this section is commented to decrease processing time\n",
    "\n",
    "# param_grid = {'penalty':['l2', 'l1','elasticnet'],\n",
    "#              'max_iter':[1000, 10000, 100000]}\n",
    "\n",
    "# Grid = GridSearchCV(estimator=lr, param_grid=param_grid)\n",
    "# Grid.fit(X_train, y_train)"
   ]
  },
  {
   "cell_type": "code",
   "execution_count": 13,
   "metadata": {},
   "outputs": [],
   "source": [
    "# Grid.best_params_"
   ]
  },
  {
   "cell_type": "markdown",
   "metadata": {},
   "source": [
    "#### GridSearchCV concludes that initial conditions were best. Will use Cross validation to determine model performance"
   ]
  },
  {
   "cell_type": "code",
   "execution_count": 14,
   "metadata": {},
   "outputs": [
    {
     "name": "stdout",
     "output_type": "stream",
     "text": [
      "0.9328195067264573\n",
      "0.8326923076923076\n"
     ]
    }
   ],
   "source": [
    "print(cross_val_score(lr, X_train, y_train, cv=5).mean())\n",
    "print(cross_val_score(lr, X_test, y_test, cv=5).mean())"
   ]
  },
  {
   "cell_type": "markdown",
   "metadata": {},
   "source": [
    "**Insight: the model is overfit. This verifies the data must be resampled. Will adjust the test size and resample if necessary**"
   ]
  },
  {
   "cell_type": "code",
   "execution_count": 15,
   "metadata": {},
   "outputs": [
    {
     "data": {
      "text/plain": [
       "0.9187817258883249"
      ]
     },
     "execution_count": 15,
     "metadata": {},
     "output_type": "execute_result"
    }
   ],
   "source": [
    "# will increasing the test size improve the model and help overfitting?\n",
    "\n",
    "X_train2, X_test2, y_train2, y_test2 = train_test_split(X, y, test_size=0.30, random_state=42)\n",
    "\n",
    "lr2 = LogisticRegression(random_state=42, max_iter=10000)\n",
    "lr2.fit(X_train2, y_train2)\n",
    "y_pred2 = lr2.predict(X_test2)\n",
    "lr2.score(X_test2, y_test2)"
   ]
  },
  {
   "cell_type": "code",
   "execution_count": 16,
   "metadata": {},
   "outputs": [
    {
     "data": {
      "image/png": "[encoded data removed]",
      "text/plain": [
       "<Figure size 432x288 with 2 Axes>"
      ]
     },
     "metadata": {
      "needs_background": "light"
     },
     "output_type": "display_data"
    }
   ],
   "source": [
    "cf_matrix2 = confusion_matrix(y_test2, y_pred2)\n",
    "sns.heatmap(cf_matrix2, annot=True);"
   ]
  },
  {
   "cell_type": "code",
   "execution_count": 17,
   "metadata": {},
   "outputs": [
    {
     "name": "stdout",
     "output_type": "stream",
     "text": [
      "0.9358220479923972\n",
      "0.8960077896786759\n"
     ]
    }
   ],
   "source": [
    "print(cross_val_score(lr2, X_train2, y_train2, cv=5).mean())\n",
    "print(cross_val_score(lr2, X_test2, y_test2, cv=5).mean())"
   ]
  },
  {
   "cell_type": "code",
   "execution_count": 18,
   "metadata": {},
   "outputs": [
    {
     "data": {
      "text/plain": [
       "1    356\n",
       "0     38\n",
       "Name: last.status, dtype: int64"
      ]
     },
     "execution_count": 18,
     "metadata": {},
     "output_type": "execute_result"
    }
   ],
   "source": [
    "y_test2.value_counts()"
   ]
  },
  {
   "cell_type": "markdown",
   "metadata": {},
   "source": [
    "### Insight: increasing the test size improves model performance, but the model still doesn't predict well. Will oversample the minority class (deceased/0) and re-evaluate the model."
   ]
  },
  {
   "cell_type": "code",
   "execution_count": 19,
   "metadata": {},
   "outputs": [
    {
     "data": {
      "text/plain": [
       "<AxesSubplot:>"
      ]
     },
     "execution_count": 19,
     "metadata": {},
     "output_type": "execute_result"
    },
    {
     "data": {
      "image/png": "[encoded data removed]",
      "text/plain": [
       "<Figure size 432x288 with 2 Axes>"
      ]
     },
     "metadata": {
      "needs_background": "light"
     },
     "output_type": "display_data"
    }
   ],
   "source": [
    "#try: SMOTE, penalized-SVM\n",
    "\n",
    "\n",
    "\n",
    "svc = SVC(class_weight='balanced', probability=True)\n",
    "svc.fit(X_train2, y_train2)\n",
    "svc_pred = svc.predict(X_test2)\n",
    "plot_matrix(y_test2, svc_pred)"
   ]
  },
  {
   "cell_type": "code",
   "execution_count": 20,
   "metadata": {},
   "outputs": [
    {
     "data": {
      "text/plain": [
       "(('Training set score:', 0.7703789498693278),\n",
       " ('Test set score:', 0.8426809477442389),\n",
       " ('Accuracy:', 0.751269035532995),\n",
       " ('F1 score:', 0.8468749999999999),\n",
       " ('Precision:', 0.954225352112676))"
      ]
     },
     "execution_count": 20,
     "metadata": {},
     "output_type": "execute_result"
    }
   ],
   "source": [
    "metrics_crossval_score(svc, X_train2, X_test2, y_train2, y_test2, svc_pred)"
   ]
  },
  {
   "cell_type": "code",
   "execution_count": 21,
   "metadata": {},
   "outputs": [
    {
     "name": "stdout",
     "output_type": "stream",
     "text": [
      "Original dataset shape 1    822\n",
      "0     97\n",
      "Name: last.status, dtype: int64\n",
      "Resample dataset shape 1    822\n",
      "0    822\n",
      "Name: last.status, dtype: int64\n"
     ]
    }
   ],
   "source": [
    "#SMOTE of target variable\n",
    "\n",
    "import imblearn\n",
    "from imblearn.over_sampling import SMOTE\n",
    "\n",
    "smote=SMOTE()\n",
    "\n",
    "x_train_smote, y_train_smote = smote.fit_resample(X_train2, y_train2)\n",
    "\n",
    "print('Original dataset shape', y_train2.value_counts())\n",
    "print('Resample dataset shape', y_train_smote.value_counts())"
   ]
  },
  {
   "cell_type": "code",
   "execution_count": 22,
   "metadata": {},
   "outputs": [
    {
     "data": {
      "text/plain": [
       "<AxesSubplot:>"
      ]
     },
     "execution_count": 22,
     "metadata": {},
     "output_type": "execute_result"
    },
    {
     "data": {
      "image/png": "[encoded data removed]",
      "text/plain": [
       "<Figure size 432x288 with 2 Axes>"
      ]
     },
     "metadata": {
      "needs_background": "light"
     },
     "output_type": "display_data"
    }
   ],
   "source": [
    "#logreg model with smote variables\n",
    "\n",
    "lr3 = LogisticRegression(random_state=42, max_iter=10000)\n",
    "lr3.fit(x_train_smote, y_train_smote)\n",
    "lr3_pred = lr3.predict(X_test2)\n",
    "plot_matrix(y_test2, lr3_pred)"
   ]
  },
  {
   "cell_type": "code",
   "execution_count": 23,
   "metadata": {},
   "outputs": [
    {
     "data": {
      "text/plain": [
       "(('Training set score:', 0.9361461190599748),\n",
       " ('Test set score:', 0.8960077896786759),\n",
       " ('Accuracy:', 0.8984771573604061),\n",
       " ('F1 score:', 0.9415204678362574),\n",
       " ('Precision:', 0.9817073170731707))"
      ]
     },
     "execution_count": 23,
     "metadata": {},
     "output_type": "execute_result"
    }
   ],
   "source": [
    "metrics_crossval_score(lr3, x_train_smote, X_test2, y_train_smote, y_test2, lr3_pred)"
   ]
  },
  {
   "cell_type": "markdown",
   "metadata": {},
   "source": [
    "#### Can KNN do a better job at prediction?"
   ]
  },
  {
   "cell_type": "markdown",
   "metadata": {},
   "source": [
    "## K Nearest Neighbors Classifier modeling"
   ]
  },
  {
   "cell_type": "code",
   "execution_count": 24,
   "metadata": {},
   "outputs": [
    {
     "data": {
      "text/plain": [
       "0.9137055837563451"
      ]
     },
     "execution_count": 24,
     "metadata": {},
     "output_type": "execute_result"
    }
   ],
   "source": [
    "#KNN attempt\n",
    "from sklearn.neighbors import KNeighborsClassifier\n",
    "\n",
    "knn = KNeighborsClassifier(n_neighbors=5)\n",
    "knn.fit(X_train2, y_train2)\n",
    "y_pred_knn = knn.predict(X_test2)\n",
    "knn.score(X_test, y_test)"
   ]
  },
  {
   "cell_type": "code",
   "execution_count": 25,
   "metadata": {},
   "outputs": [
    {
     "data": {
      "image/png": "[encoded data removed]",
      "text/plain": [
       "<Figure size 432x288 with 2 Axes>"
      ]
     },
     "metadata": {
      "needs_background": "light"
     },
     "output_type": "display_data"
    }
   ],
   "source": [
    "knn_matrix = confusion_matrix(y_test2, y_pred_knn)\n",
    "sns.heatmap(knn_matrix, annot=True);"
   ]
  },
  {
   "cell_type": "code",
   "execution_count": 26,
   "metadata": {},
   "outputs": [],
   "source": [
    "#Gridsearch commented out, best params are used in knn2 model\n",
    "\n",
    "# knn_params = {'n_neighbors':[3, 5, 7, 9, 11], 'metric': ['euclidian', 'manhattan', 'minkowski']}\n",
    "\n",
    "# knn_grid = GridSearchCV(estimator=knn, param_grid=knn_params)\n",
    "# knn_grid.fit(X_train2, y_train2)"
   ]
  },
  {
   "cell_type": "code",
   "execution_count": 27,
   "metadata": {},
   "outputs": [],
   "source": [
    "# knn_grid.best_params_"
   ]
  },
  {
   "cell_type": "code",
   "execution_count": 28,
   "metadata": {},
   "outputs": [
    {
     "data": {
      "image/png": "[encoded data removed]",
      "text/plain": [
       "<Figure size 432x288 with 2 Axes>"
      ]
     },
     "metadata": {
      "needs_background": "light"
     },
     "output_type": "display_data"
    }
   ],
   "source": [
    "knn2 = KNeighborsClassifier(n_neighbors=9)\n",
    "\n",
    "knn2.fit(X_train2, y_train2)\n",
    "knn_pred2 = knn2.predict(X_test2)\n",
    "knn_matrix2 = confusion_matrix(y_test2, knn_pred2)\n",
    "sns.heatmap(knn_matrix2, annot=True);"
   ]
  },
  {
   "cell_type": "code",
   "execution_count": 29,
   "metadata": {},
   "outputs": [
    {
     "data": {
      "text/plain": [
       "(('Training set score:', 0.8933772867664528),\n",
       " ('Test set score:', 0.8985069782538136),\n",
       " ('Accuracy:', 0.8934010152284264),\n",
       " ('F1 score:', 0.9433962264150944),\n",
       " ('Precision:', 0.9067357512953368))"
      ]
     },
     "execution_count": 29,
     "metadata": {},
     "output_type": "execute_result"
    }
   ],
   "source": [
    "metrics_crossval_score(knn2, X_train2, X_test2, y_train2, y_test2, knn_pred2)"
   ]
  },
  {
   "cell_type": "markdown",
   "metadata": {},
   "source": [
    "### Insight: while this model doesn't predict well, it is well fit to the data for both train and test. can we optimize further?"
   ]
  },
  {
   "cell_type": "markdown",
   "metadata": {},
   "source": [
    "## GradientBoostingClassifier modeling"
   ]
  },
  {
   "cell_type": "code",
   "execution_count": 30,
   "metadata": {},
   "outputs": [
    {
     "data": {
      "text/plain": [
       "<AxesSubplot:>"
      ]
     },
     "execution_count": 30,
     "metadata": {},
     "output_type": "execute_result"
    },
    {
     "data": {
      "image/png": "[encoded data removed]",
      "text/plain": [
       "<Figure size 432x288 with 2 Axes>"
      ]
     },
     "metadata": {
      "needs_background": "light"
     },
     "output_type": "display_data"
    }
   ],
   "source": [
    "#XGBoost attempt and plot confusion matrix\n",
    "\n",
    "\n",
    "\n",
    "GBC = GradientBoostingClassifier()\n",
    "GBC.fit(X_train2, y_train2)\n",
    "gbc_pred = GBC.predict(X_test2)\n",
    "plot_matrix(y_test2, gbc_pred)"
   ]
  },
  {
   "cell_type": "code",
   "execution_count": 31,
   "metadata": {},
   "outputs": [
    {
     "data": {
      "text/plain": [
       "(('Training set score:', 0.9270848182466145),\n",
       " ('Test set score:', 0.8934436871145731),\n",
       " ('Accuracy:', 0.9314720812182741),\n",
       " ('F1 score:', 0.9621318373071528),\n",
       " ('Precision:', 0.9607843137254902))"
      ]
     },
     "execution_count": 31,
     "metadata": {},
     "output_type": "execute_result"
    }
   ],
   "source": [
    "#crossval score and metrics for GB model\n",
    "metrics_crossval_score(GBC, X_train2, X_test2, y_train2, y_test2, gbc_pred)"
   ]
  },
  {
   "cell_type": "markdown",
   "metadata": {},
   "source": [
    "### Insight: GB classifier works better than previous models. Can gridsearch optimize further?"
   ]
  },
  {
   "cell_type": "code",
   "execution_count": 32,
   "metadata": {},
   "outputs": [],
   "source": [
    "#gridsearch is commented out due to extended runtime(> 1hr). The optimized parameters are used in the GBC2 model\n",
    "\n",
    "# gbc_params = {'loss':['deviance', 'exponential'], 'learning_rate':[0.01, 0.1, 0.5, 1.0], \n",
    "#             'n_estimators':[100, 1000, 5000, 10000]}\n",
    "\n",
    "# gbc_grid = GridSearchCV(estimator=GBC, param_grid=gbc_params)\n",
    "# gbc_grid.fit(X_train2, y_train2)"
   ]
  },
  {
   "cell_type": "code",
   "execution_count": 33,
   "metadata": {},
   "outputs": [],
   "source": [
    "# gbc_grid.best_params_"
   ]
  },
  {
   "cell_type": "code",
   "execution_count": 34,
   "metadata": {},
   "outputs": [
    {
     "data": {
      "text/plain": [
       "<AxesSubplot:>"
      ]
     },
     "execution_count": 34,
     "metadata": {},
     "output_type": "execute_result"
    },
    {
     "data": {
      "image/png": "[encoded data removed]",
      "text/plain": [
       "<Figure size 432x288 with 2 Axes>"
      ]
     },
     "metadata": {
      "needs_background": "light"
     },
     "output_type": "display_data"
    }
   ],
   "source": [
    "#Gradient booster classifier with best gridsearch params\n",
    "\n",
    "GBC2 = GradientBoostingClassifier(loss='exponential', learning_rate=1.0, n_estimators=100)\n",
    "GBC2.fit(X_train2, y_train2)\n",
    "gbc2_pred = GBC2.predict(X_test2)\n",
    "plot_matrix(y_test2, gbc2_pred)"
   ]
  },
  {
   "cell_type": "code",
   "execution_count": 35,
   "metadata": {},
   "outputs": [
    {
     "data": {
      "text/plain": [
       "(('Training set score:', 0.9292765502494655),\n",
       " ('Test set score:', 0.8934436871145731),\n",
       " ('Accuracy:', 0.9238578680203046),\n",
       " ('F1 score:', 0.9583333333333333),\n",
       " ('Precision:', 0.9478021978021978))"
      ]
     },
     "execution_count": 35,
     "metadata": {},
     "output_type": "execute_result"
    }
   ],
   "source": [
    "metrics_crossval_score(GBC2, X_train2, X_test2, y_train2, y_test2, gbc2_pred)"
   ]
  },
  {
   "cell_type": "markdown",
   "metadata": {},
   "source": [
    "### Insight: Paradoxically, the optimized parameters actually result in a WORSE model."
   ]
  },
  {
   "cell_type": "code",
   "execution_count": 36,
   "metadata": {},
   "outputs": [
    {
     "data": {
      "text/html": [
       "<div>\n",
       "<style scoped>\n",
       "    .dataframe tbody tr th:only-of-type {\n",
       "        vertical-align: middle;\n",
       "    }\n",
       "\n",
       "    .dataframe tbody tr th {\n",
       "        vertical-align: top;\n",
       "    }\n",
       "\n",
       "    .dataframe thead th {\n",
       "        text-align: right;\n",
       "    }\n",
       "</style>\n",
       "<table border=\"1\" class=\"dataframe\">\n",
       "  <thead>\n",
       "    <tr style=\"text-align: right;\">\n",
       "      <th></th>\n",
       "      <th>is_icu</th>\n",
       "      <th>length_of_stay</th>\n",
       "      <th>days_prior_sx</th>\n",
       "      <th>8331-1_Oral temperature</th>\n",
       "      <th>59408-5_Oxygen saturation in Arterial blood by Pulse oximetry</th>\n",
       "      <th>9279-1_Respiratory rate</th>\n",
       "      <th>76282-3_Heart rate.beat-to-beat by EKG</th>\n",
       "      <th>8480-6_Systolic blood pressure</th>\n",
       "      <th>76536-2_Mean blood pressure by Noninvasive</th>\n",
       "      <th>33256-9_Leukocytes [#/volume] corrected for nucleated erythrocytes in Blood by Automated count</th>\n",
       "      <th>...</th>\n",
       "      <th>x7_False</th>\n",
       "      <th>x7_True</th>\n",
       "      <th>x8_False</th>\n",
       "      <th>x8_True</th>\n",
       "      <th>x9_False</th>\n",
       "      <th>x9_True</th>\n",
       "      <th>x10_False</th>\n",
       "      <th>x10_True</th>\n",
       "      <th>x11_False</th>\n",
       "      <th>x11_True</th>\n",
       "    </tr>\n",
       "    <tr>\n",
       "      <th>patient_id</th>\n",
       "      <th></th>\n",
       "      <th></th>\n",
       "      <th></th>\n",
       "      <th></th>\n",
       "      <th></th>\n",
       "      <th></th>\n",
       "      <th></th>\n",
       "      <th></th>\n",
       "      <th></th>\n",
       "      <th></th>\n",
       "      <th></th>\n",
       "      <th></th>\n",
       "      <th></th>\n",
       "      <th></th>\n",
       "      <th></th>\n",
       "      <th></th>\n",
       "      <th></th>\n",
       "      <th></th>\n",
       "      <th></th>\n",
       "      <th></th>\n",
       "      <th></th>\n",
       "    </tr>\n",
       "  </thead>\n",
       "  <tbody>\n",
       "    <tr>\n",
       "      <th>A787515</th>\n",
       "      <td>0.0</td>\n",
       "      <td>8.0</td>\n",
       "      <td>6.0</td>\n",
       "      <td>36.9</td>\n",
       "      <td>93.0</td>\n",
       "      <td>18.0</td>\n",
       "      <td>110.0</td>\n",
       "      <td>116.0</td>\n",
       "      <td>76.0</td>\n",
       "      <td>8.640</td>\n",
       "      <td>...</td>\n",
       "      <td>1.0</td>\n",
       "      <td>0.0</td>\n",
       "      <td>0.0</td>\n",
       "      <td>1.0</td>\n",
       "      <td>0.0</td>\n",
       "      <td>1.0</td>\n",
       "      <td>1.0</td>\n",
       "      <td>0.0</td>\n",
       "      <td>1.0</td>\n",
       "      <td>0.0</td>\n",
       "    </tr>\n",
       "    <tr>\n",
       "      <th>A114403</th>\n",
       "      <td>0.0</td>\n",
       "      <td>11.0</td>\n",
       "      <td>14.0</td>\n",
       "      <td>37.2</td>\n",
       "      <td>86.0</td>\n",
       "      <td>16.0</td>\n",
       "      <td>130.0</td>\n",
       "      <td>120.0</td>\n",
       "      <td>77.0</td>\n",
       "      <td>12.760</td>\n",
       "      <td>...</td>\n",
       "      <td>1.0</td>\n",
       "      <td>0.0</td>\n",
       "      <td>0.0</td>\n",
       "      <td>1.0</td>\n",
       "      <td>1.0</td>\n",
       "      <td>0.0</td>\n",
       "      <td>0.0</td>\n",
       "      <td>1.0</td>\n",
       "      <td>1.0</td>\n",
       "      <td>0.0</td>\n",
       "    </tr>\n",
       "    <tr>\n",
       "      <th>A951446</th>\n",
       "      <td>0.0</td>\n",
       "      <td>1.0</td>\n",
       "      <td>5.0</td>\n",
       "      <td>37.1</td>\n",
       "      <td>98.0</td>\n",
       "      <td>18.0</td>\n",
       "      <td>109.0</td>\n",
       "      <td>106.0</td>\n",
       "      <td>86.0</td>\n",
       "      <td>6.964</td>\n",
       "      <td>...</td>\n",
       "      <td>1.0</td>\n",
       "      <td>0.0</td>\n",
       "      <td>0.0</td>\n",
       "      <td>1.0</td>\n",
       "      <td>0.0</td>\n",
       "      <td>1.0</td>\n",
       "      <td>1.0</td>\n",
       "      <td>0.0</td>\n",
       "      <td>1.0</td>\n",
       "      <td>0.0</td>\n",
       "    </tr>\n",
       "    <tr>\n",
       "      <th>A998879</th>\n",
       "      <td>0.0</td>\n",
       "      <td>1.0</td>\n",
       "      <td>5.0</td>\n",
       "      <td>36.8</td>\n",
       "      <td>100.0</td>\n",
       "      <td>16.0</td>\n",
       "      <td>87.0</td>\n",
       "      <td>128.0</td>\n",
       "      <td>92.6</td>\n",
       "      <td>8.450</td>\n",
       "      <td>...</td>\n",
       "      <td>1.0</td>\n",
       "      <td>0.0</td>\n",
       "      <td>1.0</td>\n",
       "      <td>0.0</td>\n",
       "      <td>1.0</td>\n",
       "      <td>0.0</td>\n",
       "      <td>0.0</td>\n",
       "      <td>1.0</td>\n",
       "      <td>1.0</td>\n",
       "      <td>0.0</td>\n",
       "    </tr>\n",
       "    <tr>\n",
       "      <th>A614951</th>\n",
       "      <td>0.0</td>\n",
       "      <td>1.0</td>\n",
       "      <td>6.0</td>\n",
       "      <td>36.7</td>\n",
       "      <td>96.0</td>\n",
       "      <td>18.0</td>\n",
       "      <td>89.0</td>\n",
       "      <td>133.0</td>\n",
       "      <td>94.4</td>\n",
       "      <td>5.016</td>\n",
       "      <td>...</td>\n",
       "      <td>1.0</td>\n",
       "      <td>0.0</td>\n",
       "      <td>1.0</td>\n",
       "      <td>0.0</td>\n",
       "      <td>1.0</td>\n",
       "      <td>0.0</td>\n",
       "      <td>0.0</td>\n",
       "      <td>1.0</td>\n",
       "      <td>1.0</td>\n",
       "      <td>0.0</td>\n",
       "    </tr>\n",
       "  </tbody>\n",
       "</table>\n",
       "<p>5 rows × 56 columns</p>\n",
       "</div>"
      ],
      "text/plain": [
       "            is_icu  length_of_stay  days_prior_sx  8331-1_Oral temperature  \\\n",
       "patient_id                                                                   \n",
       "A787515        0.0             8.0            6.0                     36.9   \n",
       "A114403        0.0            11.0           14.0                     37.2   \n",
       "A951446        0.0             1.0            5.0                     37.1   \n",
       "A998879        0.0             1.0            5.0                     36.8   \n",
       "A614951        0.0             1.0            6.0                     36.7   \n",
       "\n",
       "            59408-5_Oxygen saturation in Arterial blood by Pulse oximetry  \\\n",
       "patient_id                                                                  \n",
       "A787515                                                  93.0               \n",
       "A114403                                                  86.0               \n",
       "A951446                                                  98.0               \n",
       "A998879                                                 100.0               \n",
       "A614951                                                  96.0               \n",
       "\n",
       "            9279-1_Respiratory rate  76282-3_Heart rate.beat-to-beat by EKG  \\\n",
       "patient_id                                                                    \n",
       "A787515                        18.0                                   110.0   \n",
       "A114403                        16.0                                   130.0   \n",
       "A951446                        18.0                                   109.0   \n",
       "A998879                        16.0                                    87.0   \n",
       "A614951                        18.0                                    89.0   \n",
       "\n",
       "            8480-6_Systolic blood pressure  \\\n",
       "patient_id                                   \n",
       "A787515                              116.0   \n",
       "A114403                              120.0   \n",
       "A951446                              106.0   \n",
       "A998879                              128.0   \n",
       "A614951                              133.0   \n",
       "\n",
       "            76536-2_Mean blood pressure by Noninvasive  \\\n",
       "patient_id                                               \n",
       "A787515                                           76.0   \n",
       "A114403                                           77.0   \n",
       "A951446                                           86.0   \n",
       "A998879                                           92.6   \n",
       "A614951                                           94.4   \n",
       "\n",
       "            33256-9_Leukocytes [#/volume] corrected for nucleated erythrocytes in Blood by Automated count  \\\n",
       "patient_id                                                                                                   \n",
       "A787515                                                 8.640                                                \n",
       "A114403                                                12.760                                                \n",
       "A951446                                                 6.964                                                \n",
       "A998879                                                 8.450                                                \n",
       "A614951                                                 5.016                                                \n",
       "\n",
       "            ...  x7_False  x7_True  x8_False  x8_True  x9_False  x9_True  \\\n",
       "patient_id  ...                                                            \n",
       "A787515     ...       1.0      0.0       0.0      1.0       0.0      1.0   \n",
       "A114403     ...       1.0      0.0       0.0      1.0       1.0      0.0   \n",
       "A951446     ...       1.0      0.0       0.0      1.0       0.0      1.0   \n",
       "A998879     ...       1.0      0.0       1.0      0.0       1.0      0.0   \n",
       "A614951     ...       1.0      0.0       1.0      0.0       1.0      0.0   \n",
       "\n",
       "            x10_False  x10_True  x11_False  x11_True  \n",
       "patient_id                                            \n",
       "A787515           1.0       0.0        1.0       0.0  \n",
       "A114403           0.0       1.0        1.0       0.0  \n",
       "A951446           1.0       0.0        1.0       0.0  \n",
       "A998879           0.0       1.0        1.0       0.0  \n",
       "A614951           0.0       1.0        1.0       0.0  \n",
       "\n",
       "[5 rows x 56 columns]"
      ]
     },
     "execution_count": 36,
     "metadata": {},
     "output_type": "execute_result"
    }
   ],
   "source": [
    "X_train2.head()"
   ]
  },
  {
   "cell_type": "code",
   "execution_count": 37,
   "metadata": {},
   "outputs": [
    {
     "data": {
      "text/plain": [
       "Index(['is_icu', 'length_of_stay', 'days_prior_sx', '8331-1_Oral temperature',\n",
       "       '59408-5_Oxygen saturation in Arterial blood by Pulse oximetry',\n",
       "       '9279-1_Respiratory rate', '76282-3_Heart rate.beat-to-beat by EKG',\n",
       "       '8480-6_Systolic blood pressure',\n",
       "       '76536-2_Mean blood pressure by Noninvasive',\n",
       "       '33256-9_Leukocytes [#/volume] corrected for nucleated erythrocytes in Blood by Automated count',\n",
       "       '751-8_Neutrophils [#/volume] in Blood by Automated count',\n",
       "       '731-0_Lymphocytes [#/volume] in Blood by Automated count',\n",
       "       '2951-2_Sodium [Moles/volume] in Serum or Plasma',\n",
       "       '1920-8_Aspartate aminotransferase [Enzymatic activity/volume] in Serum or Plasma',\n",
       "       '1744-2_Alanine aminotransferase [Enzymatic activity/volume] in Serum or Plasma by No addition of P-5'-P',\n",
       "       '2524-7_Lactate [Moles/volume] in Serum or Plasma',\n",
       "       '6598-7_Troponin T.cardiac [Mass/volume] in Serum or Plasma',\n",
       "       '33762-6_Natriuretic peptide.B prohormone N-Terminal [Mass/volume] in Serum or Plasma',\n",
       "       '75241-0_Procalcitonin [Mass/volume] in Serum or Plasma by Immunoassay',\n",
       "       '48058-2_Fibrin D-dimer DDU [Mass/volume] in Platelet poor plasma by Immunoassay',\n",
       "       '2276-4_Ferritin [Mass/volume] in Serum or Plasma',\n",
       "       '1988-5_C reactive protein [Mass/volume] in Serum or Plasma',\n",
       "       '39156-5_Body mass index (BMI) [Ratio]',\n",
       "       '2951-2_Sodium [Moles/volume] in Serum or Plasma.1',\n",
       "       '2823-3_Potassium [Moles/volume] in Serum or Plasma',\n",
       "       '2075-0_Chloride [Moles/volume] in Serum or Plasma',\n",
       "       '1963-8_Bicarbonate [Moles/volume] in Serum or Plasma',\n",
       "       '3094-0_Urea nitrogen [Mass/volume] in Serum or Plasma',\n",
       "       '2160-0_Creatinine [Mass/volume] in Serum or Plasma',\n",
       "       '62238-1_Glomerular filtration rate/1.73 sq M.predicted [Volume Rate/Area] in Serum, Plasma or Blood by Creatinine-based formula (CKD-EPI)',\n",
       "       '2345-7_Glucose [Mass/volume] in Serum or Plasma', 'x0_(59,74]',\n",
       "       'x0_(74,90]', 'x0_[18,59]', 'x1_FEMALE', 'x1_MALE',\n",
       "       'x2_Emergency Room Visit', 'x2_Inpatient Visit', 'x3_No', 'x3_Yes',\n",
       "       'x4_No', 'x4_Yes', 'x5_False', 'x5_True', 'x6_False', 'x6_True',\n",
       "       'x7_False', 'x7_True', 'x8_False', 'x8_True', 'x9_False', 'x9_True',\n",
       "       'x10_False', 'x10_True', 'x11_False', 'x11_True'],\n",
       "      dtype='object')"
      ]
     },
     "execution_count": 37,
     "metadata": {},
     "output_type": "execute_result"
    }
   ],
   "source": [
    "X_train2.columns"
   ]
  },
  {
   "cell_type": "markdown",
   "metadata": {},
   "source": [
    "#### removing characters from feature names for XGBoost classifier"
   ]
  },
  {
   "cell_type": "code",
   "execution_count": 38,
   "metadata": {},
   "outputs": [],
   "source": [
    "import re\n",
    "\n",
    "regex = re.compile(r\"\\[|\\]|<\", re.IGNORECASE)\n",
    "\n",
    "X_train2.columns = [regex.sub(\"_\", col) if any(x in str(col) for x in set(('[', ']', '<'))) else col for col in X_train2.columns.values]"
   ]
  },
  {
   "cell_type": "code",
   "execution_count": 39,
   "metadata": {},
   "outputs": [],
   "source": [
    "X_test2.columns = [regex.sub(\"_\", col) if any(x in str(col) for x in set(('[', ']', '<'))) else col for col in X_test2.columns.values]"
   ]
  },
  {
   "cell_type": "code",
   "execution_count": 40,
   "metadata": {},
   "outputs": [],
   "source": [
    "mapper = {'x0_(59,74]':'Age_59-74' ,'x0_(74,90]':'Age_74-90' , 'x0_[18,59]':'Age_18-59'}\n",
    "\n",
    "X_train2_mod = X_train2.rename(mapper=mapper, axis=1)\n",
    "X_test2_mod = X_test2.rename(mapper=mapper, axis=1)"
   ]
  },
  {
   "cell_type": "code",
   "execution_count": 41,
   "metadata": {},
   "outputs": [
    {
     "data": {
      "text/plain": [
       "<AxesSubplot:>"
      ]
     },
     "execution_count": 41,
     "metadata": {},
     "output_type": "execute_result"
    },
    {
     "data": {
      "image/png": "[encoded data removed]",
      "text/plain": [
       "<Figure size 432x288 with 2 Axes>"
      ]
     },
     "metadata": {
      "needs_background": "light"
     },
     "output_type": "display_data"
    }
   ],
   "source": [
    "#attempting XGBoost classifier\n",
    "\n",
    "\n",
    "xgb = XGBClassifier()\n",
    "\n",
    "xgb.fit(X_train2, y_train2)\n",
    "xgb_pred = xgb.predict(X_test2)\n",
    "plot_matrix(y_test2, xgb_pred)"
   ]
  },
  {
   "cell_type": "code",
   "execution_count": 42,
   "metadata": {},
   "outputs": [
    {
     "data": {
      "text/plain": [
       "(('Training set score:', 0.9238239486813971),\n",
       " ('Test set score:', 0.9036027263875365),\n",
       " ('Accuracy:', 0.9213197969543148),\n",
       " ('F1 score:', 0.9565217391304349),\n",
       " ('Precision:', 0.9551820728291317))"
      ]
     },
     "execution_count": 42,
     "metadata": {},
     "output_type": "execute_result"
    }
   ],
   "source": [
    "metrics_crossval_score(xgb, X_train2, X_test2, y_train2, y_test2, xgb_pred)"
   ]
  },
  {
   "cell_type": "code",
   "execution_count": 43,
   "metadata": {},
   "outputs": [
    {
     "data": {
      "text/plain": [
       "<AxesSubplot:>"
      ]
     },
     "execution_count": 43,
     "metadata": {},
     "output_type": "execute_result"
    },
    {
     "data": {
      "image/png": "[encoded data removed]",
      "text/plain": [
       "<Figure size 432x288 with 2 Axes>"
      ]
     },
     "metadata": {
      "needs_background": "light"
     },
     "output_type": "display_data"
    }
   ],
   "source": [
    "#XGBoost classifier with SMOTE training values\n",
    "x_train_smote.columns = [regex.sub(\"_\", col) if any(x in str(col) for x in set(('[', ']', '<'))) else col for col in x_train_smote.columns.values]\n",
    "X_test2.columns = [regex.sub(\"_\", col) if any(x in str(col) for x in set(('[', ']', '<'))) else col for col in X_test2.columns.values]\n",
    "\n",
    "xgb2 = XGBClassifier()\n",
    "xgb2.fit(x_train_smote, y_train_smote)\n",
    "xgb2_pred = xgb2.predict(X_test2)\n",
    "plot_matrix(y_test2, xgb2_pred)"
   ]
  },
  {
   "cell_type": "code",
   "execution_count": null,
   "metadata": {},
   "outputs": [],
   "source": []
  },
  {
   "cell_type": "code",
   "execution_count": null,
   "metadata": {},
   "outputs": [],
   "source": []
  }
 ],
 "metadata": {
  "kernelspec": {
   "display_name": "Python 3",
   "language": "python",
   "name": "python3"
  },
  "language_info": {
   "codemirror_mode": {
    "name": "ipython",
    "version": 3
   },
   "file_extension": ".py",
   "mimetype": "text/x-python",
   "name": "python",
   "nbconvert_exporter": "python",
   "pygments_lexer": "ipython3",
   "version": "3.8.5"
  }
 },
 "nbformat": 4,
 "nbformat_minor": 4
}
